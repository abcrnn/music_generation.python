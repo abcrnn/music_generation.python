{
 "cells": [
  {
   "cell_type": "markdown",
   "metadata": {},
   "source": [
    "## Quick Abc to midi converter\n",
    "- http://www.mandolintab.net/abcconverter.php\n",
    "\n",
    "\n",
    "## Major and Minor\n",
    "- https://www.youtube.com/watch?v=fKpUBsn_jmA\n",
    "- help create mood and atmossphere of music"
   ]
  },
  {
   "cell_type": "code",
   "execution_count": 1,
   "metadata": {
    "collapsed": true
   },
   "outputs": [],
   "source": [
    "import os\n",
    "import json\n",
    "import numpy as np\n",
    "import pandas as pd\n",
    "import matplotlib.pyplot as plt\n",
    "import sys\n",
    "# Some more magic so that the notebook will reload external python modules;\n",
    "# see http://stackoverflow.com/questions/1907993/autoreload-of-modules-in-ipython\n",
    "%load_ext autoreload\n",
    "%autoreload 2"
   ]
  },
  {
   "cell_type": "code",
   "execution_count": 2,
   "metadata": {
    "collapsed": true
   },
   "outputs": [],
   "source": [
    "BATCH_SIZE = 16\n",
    "N_GRAM = 64\n",
    "# MODEL_DIR = './music_model/04_21_19_LayersGeneric_transfer_256_128_classical_cleaned_small_batchsize20_window30/'\n",
    "MODEL_DIR = './music_model/04_18_19_LSTMSkipConnection_128_256_128_classical/'\n",
    "# MODEL_DIR = ''\n",
    "# MODEL_DIR = './music_model/04_20_19_LayersRNNGeneric_256_128_classical_fixed_activation_batchsize8000/'\n",
    "# MODEL_DIR = './music_model/04_20_19_LayersRNNGeneric_256_128_jig_hog_fixed_activation_batchsize16/'#good model\n",
    "DATA_PATH = './data/jig_hornpipes_cleaned.txt'\n",
    "MODEL_TYPE = 'Default'#unuse for now\n",
    "BATCH_SIZE = 1\n",
    "starting = '''[a2D2F,2][f2D,2]'''\n",
    "SEQ_LENGTH =  1#len(starting)"
   ]
  },
  {
   "cell_type": "code",
   "execution_count": null,
   "metadata": {
    "collapsed": true
   },
   "outputs": [],
   "source": []
  },
  {
   "cell_type": "code",
   "execution_count": 3,
   "metadata": {},
   "outputs": [
    {
     "name": "stdout",
     "output_type": "stream",
     "text": [
      "n_vocab 35\n"
     ]
    }
   ],
   "source": [
    "with open(os.path.join(MODEL_DIR, 'model_dictionary.json')) as f:\n",
    "    vocab_map = json.load(f)\n",
    "\n",
    "n_vocab = len(vocab_map['idx2char'])\n",
    "\n",
    "print('n_vocab', n_vocab)"
   ]
  },
  {
   "cell_type": "code",
   "execution_count": 4,
   "metadata": {
    "scrolled": false
   },
   "outputs": [
    {
     "name": "stderr",
     "output_type": "stream",
     "text": [
      "Using TensorFlow backend.\n"
     ]
    },
    {
     "name": "stdout",
     "output_type": "stream",
     "text": [
      "__________________________________________________________________________________________________\n",
      "Layer (type)                    Output Shape         Param #     Connected to                     \n",
      "==================================================================================================\n",
      "input (InputLayer)              (1, 1)               0                                            \n",
      "__________________________________________________________________________________________________\n",
      "embedding (Embedding)           (1, 1, 256)          8960        input[0][0]                      \n",
      "__________________________________________________________________________________________________\n",
      "drop_layer1 (Dropout)           (1, 1, 256)          0           embedding[0][0]                  \n",
      "__________________________________________________________________________________________________\n",
      "lstm_layer0 (LSTM)              (1, 1, 128)          197120      drop_layer1[0][0]                \n",
      "__________________________________________________________________________________________________\n",
      "lstm_layer1 (LSTM)              (1, 1, 256)          394240      lstm_layer0[0][0]                \n",
      "__________________________________________________________________________________________________\n",
      "lstm_layer2 (LSTM)              (1, 1, 128)          197120      lstm_layer1[0][0]                \n",
      "__________________________________________________________________________________________________\n",
      "rnn_concat (Concatenate)        (1, 1, 768)          0           embedding[0][0]                  \n",
      "                                                                 lstm_layer0[0][0]                \n",
      "                                                                 lstm_layer1[0][0]                \n",
      "                                                                 lstm_layer2[0][0]                \n",
      "__________________________________________________________________________________________________\n",
      "time_distributed_1 (TimeDistrib (1, 1, 35)           26915       rnn_concat[0][0]                 \n",
      "==================================================================================================\n",
      "Total params: 824,355\n",
      "Trainable params: 824,355\n",
      "Non-trainable params: 0\n",
      "__________________________________________________________________________________________________\n",
      "\n",
      " None\n"
     ]
    }
   ],
   "source": [
    "from models import MusicModel\n",
    "# model = MusicModel(n_vocab).TwoLayerLSTM(batch_input_shape=(BATCH_SIZE, 1))\n",
    "# model = MusicModel(n_vocab).TwoLayerLSTM(batch_input_shape=(BATCH_SIZE, SEQ_LENGTH))\n",
    "\n",
    "# model = MusicModel(n_vocab, 'test').LayersRNNGeneric(batch_input_shape=(BATCH_SIZE, SEQ_LENGTH),\n",
    "#                                             layers=['lstm', 'lstm'], \n",
    "#                                              layers_size=[256, 128],\n",
    "#                                              emb_dim=512,\n",
    "#                                              drop_rate=0.15)\n",
    "# model = MusicModel(n_vocab, phase='test').BidirectionalLayersRNNGeneric(batch_input_shape=(BATCH_SIZE, SEQ_LENGTH),\n",
    "#                                                     layers=['lstm','lstm'], \n",
    "#                                                      emb_dim=256,\n",
    "#                                                      layers_size=[256, 128], drop_rate=0.6)\n",
    "\n",
    "# model = MusicModel(n_vocab).LSTMSkipConnection(batch_input_shape=(BATCH_SIZE, SEQ_LENGTH),\n",
    "# #                                                                 layers=[128, 256, 128],\n",
    "#                                                                layers = [128,256,128],\n",
    "#                                                                 emb_dim=256,drop_rate=0.35)\n",
    "\n",
    "# model = MusicModel(n_vocab, phase='test').ResidualLSTM(batch_input_shape=(BATCH_SIZE, SEQ_LENGTH),\n",
    "#                                         rnn_width=128,\n",
    "#                                         rnn_depth=5,\n",
    "#                                         drop_rate=0.15)\n",
    "\n",
    "# model = MusicModel(n_vocab).LSTMSkipConnectionDropBetween(batch_input_shape=(BATCH_SIZE, SEQ_LENGTH),\n",
    "#             layers=[256, 256], \n",
    "#             emb_dim=356, drop_rate=0.15)\n",
    "    \n",
    "model = MusicModel(n_vocab).LSTMSkipConnection(batch_input_shape=(BATCH_SIZE, SEQ_LENGTH),\n",
    "                    layers=[128, 256, 128],\n",
    "#                     layers = [256],\n",
    "                    emb_dim=256,drop_rate=0.3)\n",
    "print('\\n',model.summary())\n"
   ]
  },
  {
   "cell_type": "code",
   "execution_count": 5,
   "metadata": {
    "collapsed": true
   },
   "outputs": [],
   "source": [
    "from keras.utils import plot_model\n",
    "plot_model(model, to_file='test.png')"
   ]
  },
  {
   "cell_type": "code",
   "execution_count": 6,
   "metadata": {
    "scrolled": false
   },
   "outputs": [
    {
     "ename": "ValueError",
     "evalue": "Dimension 0 in both shapes must be equal, but are 35 and 40. Shapes are [35,256] and [40,256]. for 'Assign' (op: 'Assign') with input shapes: [35,256], [40,256].",
     "output_type": "error",
     "traceback": [
      "\u001b[0;31m---------------------------------------------------------------------------\u001b[0m",
      "\u001b[0;31mInvalidArgumentError\u001b[0m                      Traceback (most recent call last)",
      "\u001b[0;32m~/.conda/envs/cs478project/lib/python3.6/site-packages/tensorflow/python/framework/common_shapes.py\u001b[0m in \u001b[0;36m_call_cpp_shape_fn_impl\u001b[0;34m(op, input_tensors_needed, input_tensors_as_shapes_needed, require_shape_fn)\u001b[0m\n\u001b[1;32m    685\u001b[0m           \u001b[0mgraph_def_version\u001b[0m\u001b[0;34m,\u001b[0m \u001b[0mnode_def_str\u001b[0m\u001b[0;34m,\u001b[0m \u001b[0minput_shapes\u001b[0m\u001b[0;34m,\u001b[0m \u001b[0minput_tensors\u001b[0m\u001b[0;34m,\u001b[0m\u001b[0;34m\u001b[0m\u001b[0;34m\u001b[0m\u001b[0m\n\u001b[0;32m--> 686\u001b[0;31m           input_tensors_as_shapes, status)\n\u001b[0m\u001b[1;32m    687\u001b[0m   \u001b[0;32mexcept\u001b[0m \u001b[0merrors\u001b[0m\u001b[0;34m.\u001b[0m\u001b[0mInvalidArgumentError\u001b[0m \u001b[0;32mas\u001b[0m \u001b[0merr\u001b[0m\u001b[0;34m:\u001b[0m\u001b[0;34m\u001b[0m\u001b[0;34m\u001b[0m\u001b[0m\n",
      "\u001b[0;32m~/.conda/envs/cs478project/lib/python3.6/site-packages/tensorflow/python/framework/errors_impl.py\u001b[0m in \u001b[0;36m__exit__\u001b[0;34m(self, type_arg, value_arg, traceback_arg)\u001b[0m\n\u001b[1;32m    472\u001b[0m             \u001b[0mcompat\u001b[0m\u001b[0;34m.\u001b[0m\u001b[0mas_text\u001b[0m\u001b[0;34m(\u001b[0m\u001b[0mc_api\u001b[0m\u001b[0;34m.\u001b[0m\u001b[0mTF_Message\u001b[0m\u001b[0;34m(\u001b[0m\u001b[0mself\u001b[0m\u001b[0;34m.\u001b[0m\u001b[0mstatus\u001b[0m\u001b[0;34m.\u001b[0m\u001b[0mstatus\u001b[0m\u001b[0;34m)\u001b[0m\u001b[0;34m)\u001b[0m\u001b[0;34m,\u001b[0m\u001b[0;34m\u001b[0m\u001b[0;34m\u001b[0m\u001b[0m\n\u001b[0;32m--> 473\u001b[0;31m             c_api.TF_GetCode(self.status.status))\n\u001b[0m\u001b[1;32m    474\u001b[0m     \u001b[0;31m# Delete the underlying status object from memory otherwise it stays alive\u001b[0m\u001b[0;34m\u001b[0m\u001b[0;34m\u001b[0m\u001b[0;34m\u001b[0m\u001b[0m\n",
      "\u001b[0;31mInvalidArgumentError\u001b[0m: Dimension 0 in both shapes must be equal, but are 35 and 40. Shapes are [35,256] and [40,256]. for 'Assign' (op: 'Assign') with input shapes: [35,256], [40,256].",
      "\nDuring handling of the above exception, another exception occurred:\n",
      "\u001b[0;31mValueError\u001b[0m                                Traceback (most recent call last)",
      "\u001b[0;32m<ipython-input-6-3d937cc4b430>\u001b[0m in \u001b[0;36m<module>\u001b[0;34m\u001b[0m\n\u001b[0;32m----> 1\u001b[0;31m \u001b[0mmodel\u001b[0m\u001b[0;34m.\u001b[0m\u001b[0mload_weights\u001b[0m\u001b[0;34m(\u001b[0m\u001b[0mMODEL_DIR\u001b[0m\u001b[0;34m+\u001b[0m\u001b[0;34m'/model_weight/'\u001b[0m\u001b[0;34m+\u001b[0m\u001b[0;34m\"Weights_{}.h5\"\u001b[0m\u001b[0;34m.\u001b[0m\u001b[0mformat\u001b[0m\u001b[0;34m(\u001b[0m\u001b[0;36m99\u001b[0m\u001b[0;34m)\u001b[0m\u001b[0;34m)\u001b[0m \u001b[0;31m#by_name=True\u001b[0m\u001b[0;34m\u001b[0m\u001b[0;34m\u001b[0m\u001b[0m\n\u001b[0m",
      "\u001b[0;32m~/.conda/envs/cs478project/lib/python3.6/site-packages/keras/engine/network.py\u001b[0m in \u001b[0;36mload_weights\u001b[0;34m(self, filepath, by_name, skip_mismatch, reshape)\u001b[0m\n\u001b[1;32m   1164\u001b[0m             \u001b[0;32melse\u001b[0m\u001b[0;34m:\u001b[0m\u001b[0;34m\u001b[0m\u001b[0;34m\u001b[0m\u001b[0m\n\u001b[1;32m   1165\u001b[0m                 saving.load_weights_from_hdf5_group(\n\u001b[0;32m-> 1166\u001b[0;31m                     f, self.layers, reshape=reshape)\n\u001b[0m\u001b[1;32m   1167\u001b[0m \u001b[0;34m\u001b[0m\u001b[0m\n\u001b[1;32m   1168\u001b[0m     \u001b[0;32mdef\u001b[0m \u001b[0m_updated_config\u001b[0m\u001b[0;34m(\u001b[0m\u001b[0mself\u001b[0m\u001b[0;34m)\u001b[0m\u001b[0;34m:\u001b[0m\u001b[0;34m\u001b[0m\u001b[0;34m\u001b[0m\u001b[0m\n",
      "\u001b[0;32m~/.conda/envs/cs478project/lib/python3.6/site-packages/keras/engine/saving.py\u001b[0m in \u001b[0;36mload_weights_from_hdf5_group\u001b[0;34m(f, layers, reshape)\u001b[0m\n\u001b[1;32m   1056\u001b[0m                              ' elements.')\n\u001b[1;32m   1057\u001b[0m         \u001b[0mweight_value_tuples\u001b[0m \u001b[0;34m+=\u001b[0m \u001b[0mzip\u001b[0m\u001b[0;34m(\u001b[0m\u001b[0msymbolic_weights\u001b[0m\u001b[0;34m,\u001b[0m \u001b[0mweight_values\u001b[0m\u001b[0;34m)\u001b[0m\u001b[0;34m\u001b[0m\u001b[0;34m\u001b[0m\u001b[0m\n\u001b[0;32m-> 1058\u001b[0;31m     \u001b[0mK\u001b[0m\u001b[0;34m.\u001b[0m\u001b[0mbatch_set_value\u001b[0m\u001b[0;34m(\u001b[0m\u001b[0mweight_value_tuples\u001b[0m\u001b[0;34m)\u001b[0m\u001b[0;34m\u001b[0m\u001b[0;34m\u001b[0m\u001b[0m\n\u001b[0m\u001b[1;32m   1059\u001b[0m \u001b[0;34m\u001b[0m\u001b[0m\n\u001b[1;32m   1060\u001b[0m \u001b[0;34m\u001b[0m\u001b[0m\n",
      "\u001b[0;32m~/.conda/envs/cs478project/lib/python3.6/site-packages/keras/backend/tensorflow_backend.py\u001b[0m in \u001b[0;36mbatch_set_value\u001b[0;34m(tuples)\u001b[0m\n\u001b[1;32m   2463\u001b[0m                 assign_placeholder = tf.placeholder(tf_dtype,\n\u001b[1;32m   2464\u001b[0m                                                     shape=value.shape)\n\u001b[0;32m-> 2465\u001b[0;31m                 \u001b[0massign_op\u001b[0m \u001b[0;34m=\u001b[0m \u001b[0mx\u001b[0m\u001b[0;34m.\u001b[0m\u001b[0massign\u001b[0m\u001b[0;34m(\u001b[0m\u001b[0massign_placeholder\u001b[0m\u001b[0;34m)\u001b[0m\u001b[0;34m\u001b[0m\u001b[0;34m\u001b[0m\u001b[0m\n\u001b[0m\u001b[1;32m   2466\u001b[0m                 \u001b[0mx\u001b[0m\u001b[0;34m.\u001b[0m\u001b[0m_assign_placeholder\u001b[0m \u001b[0;34m=\u001b[0m \u001b[0massign_placeholder\u001b[0m\u001b[0;34m\u001b[0m\u001b[0;34m\u001b[0m\u001b[0m\n\u001b[1;32m   2467\u001b[0m                 \u001b[0mx\u001b[0m\u001b[0;34m.\u001b[0m\u001b[0m_assign_op\u001b[0m \u001b[0;34m=\u001b[0m \u001b[0massign_op\u001b[0m\u001b[0;34m\u001b[0m\u001b[0;34m\u001b[0m\u001b[0m\n",
      "\u001b[0;32m~/.conda/envs/cs478project/lib/python3.6/site-packages/tensorflow/python/ops/variables.py\u001b[0m in \u001b[0;36massign\u001b[0;34m(self, value, use_locking)\u001b[0m\n\u001b[1;32m    592\u001b[0m       \u001b[0mthe\u001b[0m \u001b[0massignment\u001b[0m \u001b[0mhas\u001b[0m \u001b[0mcompleted\u001b[0m\u001b[0;34m.\u001b[0m\u001b[0;34m\u001b[0m\u001b[0;34m\u001b[0m\u001b[0m\n\u001b[1;32m    593\u001b[0m     \"\"\"\n\u001b[0;32m--> 594\u001b[0;31m     \u001b[0;32mreturn\u001b[0m \u001b[0mstate_ops\u001b[0m\u001b[0;34m.\u001b[0m\u001b[0massign\u001b[0m\u001b[0;34m(\u001b[0m\u001b[0mself\u001b[0m\u001b[0;34m.\u001b[0m\u001b[0m_variable\u001b[0m\u001b[0;34m,\u001b[0m \u001b[0mvalue\u001b[0m\u001b[0;34m,\u001b[0m \u001b[0muse_locking\u001b[0m\u001b[0;34m=\u001b[0m\u001b[0muse_locking\u001b[0m\u001b[0;34m)\u001b[0m\u001b[0;34m\u001b[0m\u001b[0;34m\u001b[0m\u001b[0m\n\u001b[0m\u001b[1;32m    595\u001b[0m \u001b[0;34m\u001b[0m\u001b[0m\n\u001b[1;32m    596\u001b[0m   \u001b[0;32mdef\u001b[0m \u001b[0massign_add\u001b[0m\u001b[0;34m(\u001b[0m\u001b[0mself\u001b[0m\u001b[0;34m,\u001b[0m \u001b[0mdelta\u001b[0m\u001b[0;34m,\u001b[0m \u001b[0muse_locking\u001b[0m\u001b[0;34m=\u001b[0m\u001b[0;32mFalse\u001b[0m\u001b[0;34m)\u001b[0m\u001b[0;34m:\u001b[0m\u001b[0;34m\u001b[0m\u001b[0;34m\u001b[0m\u001b[0m\n",
      "\u001b[0;32m~/.conda/envs/cs478project/lib/python3.6/site-packages/tensorflow/python/ops/state_ops.py\u001b[0m in \u001b[0;36massign\u001b[0;34m(ref, value, validate_shape, use_locking, name)\u001b[0m\n\u001b[1;32m    274\u001b[0m     return gen_state_ops.assign(\n\u001b[1;32m    275\u001b[0m         \u001b[0mref\u001b[0m\u001b[0;34m,\u001b[0m \u001b[0mvalue\u001b[0m\u001b[0;34m,\u001b[0m \u001b[0muse_locking\u001b[0m\u001b[0;34m=\u001b[0m\u001b[0muse_locking\u001b[0m\u001b[0;34m,\u001b[0m \u001b[0mname\u001b[0m\u001b[0;34m=\u001b[0m\u001b[0mname\u001b[0m\u001b[0;34m,\u001b[0m\u001b[0;34m\u001b[0m\u001b[0;34m\u001b[0m\u001b[0m\n\u001b[0;32m--> 276\u001b[0;31m         validate_shape=validate_shape)\n\u001b[0m\u001b[1;32m    277\u001b[0m   \u001b[0;32mreturn\u001b[0m \u001b[0mref\u001b[0m\u001b[0;34m.\u001b[0m\u001b[0massign\u001b[0m\u001b[0;34m(\u001b[0m\u001b[0mvalue\u001b[0m\u001b[0;34m)\u001b[0m\u001b[0;34m\u001b[0m\u001b[0;34m\u001b[0m\u001b[0m\n\u001b[1;32m    278\u001b[0m \u001b[0;34m\u001b[0m\u001b[0m\n",
      "\u001b[0;32m~/.conda/envs/cs478project/lib/python3.6/site-packages/tensorflow/python/ops/gen_state_ops.py\u001b[0m in \u001b[0;36massign\u001b[0;34m(ref, value, validate_shape, use_locking, name)\u001b[0m\n\u001b[1;32m     57\u001b[0m     _, _, _op = _op_def_lib._apply_op_helper(\n\u001b[1;32m     58\u001b[0m         \u001b[0;34m\"Assign\"\u001b[0m\u001b[0;34m,\u001b[0m \u001b[0mref\u001b[0m\u001b[0;34m=\u001b[0m\u001b[0mref\u001b[0m\u001b[0;34m,\u001b[0m \u001b[0mvalue\u001b[0m\u001b[0;34m=\u001b[0m\u001b[0mvalue\u001b[0m\u001b[0;34m,\u001b[0m \u001b[0mvalidate_shape\u001b[0m\u001b[0;34m=\u001b[0m\u001b[0mvalidate_shape\u001b[0m\u001b[0;34m,\u001b[0m\u001b[0;34m\u001b[0m\u001b[0;34m\u001b[0m\u001b[0m\n\u001b[0;32m---> 59\u001b[0;31m         use_locking=use_locking, name=name)\n\u001b[0m\u001b[1;32m     60\u001b[0m     \u001b[0m_result\u001b[0m \u001b[0;34m=\u001b[0m \u001b[0m_op\u001b[0m\u001b[0;34m.\u001b[0m\u001b[0moutputs\u001b[0m\u001b[0;34m[\u001b[0m\u001b[0;34m:\u001b[0m\u001b[0;34m]\u001b[0m\u001b[0;34m\u001b[0m\u001b[0;34m\u001b[0m\u001b[0m\n\u001b[1;32m     61\u001b[0m     \u001b[0m_inputs_flat\u001b[0m \u001b[0;34m=\u001b[0m \u001b[0m_op\u001b[0m\u001b[0;34m.\u001b[0m\u001b[0minputs\u001b[0m\u001b[0;34m\u001b[0m\u001b[0;34m\u001b[0m\u001b[0m\n",
      "\u001b[0;32m~/.conda/envs/cs478project/lib/python3.6/site-packages/tensorflow/python/framework/op_def_library.py\u001b[0m in \u001b[0;36m_apply_op_helper\u001b[0;34m(self, op_type_name, name, **keywords)\u001b[0m\n\u001b[1;32m    785\u001b[0m         op = g.create_op(op_type_name, inputs, output_types, name=scope,\n\u001b[1;32m    786\u001b[0m                          \u001b[0minput_types\u001b[0m\u001b[0;34m=\u001b[0m\u001b[0minput_types\u001b[0m\u001b[0;34m,\u001b[0m \u001b[0mattrs\u001b[0m\u001b[0;34m=\u001b[0m\u001b[0mattr_protos\u001b[0m\u001b[0;34m,\u001b[0m\u001b[0;34m\u001b[0m\u001b[0;34m\u001b[0m\u001b[0m\n\u001b[0;32m--> 787\u001b[0;31m                          op_def=op_def)\n\u001b[0m\u001b[1;32m    788\u001b[0m       \u001b[0;32mreturn\u001b[0m \u001b[0moutput_structure\u001b[0m\u001b[0;34m,\u001b[0m \u001b[0mop_def\u001b[0m\u001b[0;34m.\u001b[0m\u001b[0mis_stateful\u001b[0m\u001b[0;34m,\u001b[0m \u001b[0mop\u001b[0m\u001b[0;34m\u001b[0m\u001b[0;34m\u001b[0m\u001b[0m\n\u001b[1;32m    789\u001b[0m \u001b[0;34m\u001b[0m\u001b[0m\n",
      "\u001b[0;32m~/.conda/envs/cs478project/lib/python3.6/site-packages/tensorflow/python/framework/ops.py\u001b[0m in \u001b[0;36mcreate_op\u001b[0;34m(self, op_type, inputs, dtypes, input_types, name, attrs, op_def, compute_shapes, compute_device)\u001b[0m\n\u001b[1;32m   3160\u001b[0m         op_def=op_def)\n\u001b[1;32m   3161\u001b[0m     self._create_op_helper(ret, compute_shapes=compute_shapes,\n\u001b[0;32m-> 3162\u001b[0;31m                            compute_device=compute_device)\n\u001b[0m\u001b[1;32m   3163\u001b[0m     \u001b[0;32mreturn\u001b[0m \u001b[0mret\u001b[0m\u001b[0;34m\u001b[0m\u001b[0;34m\u001b[0m\u001b[0m\n\u001b[1;32m   3164\u001b[0m \u001b[0;34m\u001b[0m\u001b[0m\n",
      "\u001b[0;32m~/.conda/envs/cs478project/lib/python3.6/site-packages/tensorflow/python/framework/ops.py\u001b[0m in \u001b[0;36m_create_op_helper\u001b[0;34m(self, op, compute_shapes, compute_device)\u001b[0m\n\u001b[1;32m   3206\u001b[0m     \u001b[0;31m# compute_shapes argument.\u001b[0m\u001b[0;34m\u001b[0m\u001b[0;34m\u001b[0m\u001b[0;34m\u001b[0m\u001b[0m\n\u001b[1;32m   3207\u001b[0m     \u001b[0;32mif\u001b[0m \u001b[0mop\u001b[0m\u001b[0;34m.\u001b[0m\u001b[0m_c_op\u001b[0m \u001b[0;32mor\u001b[0m \u001b[0mcompute_shapes\u001b[0m\u001b[0;34m:\u001b[0m  \u001b[0;31m# pylint: disable=protected-access\u001b[0m\u001b[0;34m\u001b[0m\u001b[0;34m\u001b[0m\u001b[0m\n\u001b[0;32m-> 3208\u001b[0;31m       \u001b[0mset_shapes_for_outputs\u001b[0m\u001b[0;34m(\u001b[0m\u001b[0mop\u001b[0m\u001b[0;34m)\u001b[0m\u001b[0;34m\u001b[0m\u001b[0;34m\u001b[0m\u001b[0m\n\u001b[0m\u001b[1;32m   3209\u001b[0m     \u001b[0;31m# TODO(b/XXXX): move to Operation.__init__ once _USE_C_API flag is removed.\u001b[0m\u001b[0;34m\u001b[0m\u001b[0;34m\u001b[0m\u001b[0;34m\u001b[0m\u001b[0m\n\u001b[1;32m   3210\u001b[0m     \u001b[0mself\u001b[0m\u001b[0;34m.\u001b[0m\u001b[0m_add_op\u001b[0m\u001b[0;34m(\u001b[0m\u001b[0mop\u001b[0m\u001b[0;34m)\u001b[0m\u001b[0;34m\u001b[0m\u001b[0;34m\u001b[0m\u001b[0m\n",
      "\u001b[0;32m~/.conda/envs/cs478project/lib/python3.6/site-packages/tensorflow/python/framework/ops.py\u001b[0m in \u001b[0;36mset_shapes_for_outputs\u001b[0;34m(op)\u001b[0m\n\u001b[1;32m   2425\u001b[0m     \u001b[0;32mreturn\u001b[0m \u001b[0m_set_shapes_for_outputs_c_api\u001b[0m\u001b[0;34m(\u001b[0m\u001b[0mop\u001b[0m\u001b[0;34m)\u001b[0m\u001b[0;34m\u001b[0m\u001b[0;34m\u001b[0m\u001b[0m\n\u001b[1;32m   2426\u001b[0m   \u001b[0;32melse\u001b[0m\u001b[0;34m:\u001b[0m\u001b[0;34m\u001b[0m\u001b[0;34m\u001b[0m\u001b[0m\n\u001b[0;32m-> 2427\u001b[0;31m     \u001b[0;32mreturn\u001b[0m \u001b[0m_set_shapes_for_outputs\u001b[0m\u001b[0;34m(\u001b[0m\u001b[0mop\u001b[0m\u001b[0;34m)\u001b[0m\u001b[0;34m\u001b[0m\u001b[0;34m\u001b[0m\u001b[0m\n\u001b[0m\u001b[1;32m   2428\u001b[0m \u001b[0;34m\u001b[0m\u001b[0m\n\u001b[1;32m   2429\u001b[0m \u001b[0;34m\u001b[0m\u001b[0m\n",
      "\u001b[0;32m~/.conda/envs/cs478project/lib/python3.6/site-packages/tensorflow/python/framework/ops.py\u001b[0m in \u001b[0;36m_set_shapes_for_outputs\u001b[0;34m(op)\u001b[0m\n\u001b[1;32m   2398\u001b[0m       \u001b[0mshape_func\u001b[0m \u001b[0;34m=\u001b[0m \u001b[0m_call_cpp_shape_fn_and_require_op\u001b[0m\u001b[0;34m\u001b[0m\u001b[0;34m\u001b[0m\u001b[0m\n\u001b[1;32m   2399\u001b[0m \u001b[0;34m\u001b[0m\u001b[0m\n\u001b[0;32m-> 2400\u001b[0;31m   \u001b[0mshapes\u001b[0m \u001b[0;34m=\u001b[0m \u001b[0mshape_func\u001b[0m\u001b[0;34m(\u001b[0m\u001b[0mop\u001b[0m\u001b[0;34m)\u001b[0m\u001b[0;34m\u001b[0m\u001b[0;34m\u001b[0m\u001b[0m\n\u001b[0m\u001b[1;32m   2401\u001b[0m   \u001b[0;32mif\u001b[0m \u001b[0mshapes\u001b[0m \u001b[0;32mis\u001b[0m \u001b[0;32mNone\u001b[0m\u001b[0;34m:\u001b[0m\u001b[0;34m\u001b[0m\u001b[0;34m\u001b[0m\u001b[0m\n\u001b[1;32m   2402\u001b[0m     raise RuntimeError(\n",
      "\u001b[0;32m~/.conda/envs/cs478project/lib/python3.6/site-packages/tensorflow/python/framework/ops.py\u001b[0m in \u001b[0;36mcall_with_requiring\u001b[0;34m(op)\u001b[0m\n\u001b[1;32m   2328\u001b[0m \u001b[0;34m\u001b[0m\u001b[0m\n\u001b[1;32m   2329\u001b[0m   \u001b[0;32mdef\u001b[0m \u001b[0mcall_with_requiring\u001b[0m\u001b[0;34m(\u001b[0m\u001b[0mop\u001b[0m\u001b[0;34m)\u001b[0m\u001b[0;34m:\u001b[0m\u001b[0;34m\u001b[0m\u001b[0;34m\u001b[0m\u001b[0m\n\u001b[0;32m-> 2330\u001b[0;31m     \u001b[0;32mreturn\u001b[0m \u001b[0mcall_cpp_shape_fn\u001b[0m\u001b[0;34m(\u001b[0m\u001b[0mop\u001b[0m\u001b[0;34m,\u001b[0m \u001b[0mrequire_shape_fn\u001b[0m\u001b[0;34m=\u001b[0m\u001b[0;32mTrue\u001b[0m\u001b[0;34m)\u001b[0m\u001b[0;34m\u001b[0m\u001b[0;34m\u001b[0m\u001b[0m\n\u001b[0m\u001b[1;32m   2331\u001b[0m \u001b[0;34m\u001b[0m\u001b[0m\n\u001b[1;32m   2332\u001b[0m   \u001b[0m_call_cpp_shape_fn_and_require_op\u001b[0m \u001b[0;34m=\u001b[0m \u001b[0mcall_with_requiring\u001b[0m\u001b[0;34m\u001b[0m\u001b[0;34m\u001b[0m\u001b[0m\n",
      "\u001b[0;32m~/.conda/envs/cs478project/lib/python3.6/site-packages/tensorflow/python/framework/common_shapes.py\u001b[0m in \u001b[0;36mcall_cpp_shape_fn\u001b[0;34m(op, require_shape_fn)\u001b[0m\n\u001b[1;32m    625\u001b[0m     res = _call_cpp_shape_fn_impl(op, input_tensors_needed,\n\u001b[1;32m    626\u001b[0m                                   \u001b[0minput_tensors_as_shapes_needed\u001b[0m\u001b[0;34m,\u001b[0m\u001b[0;34m\u001b[0m\u001b[0;34m\u001b[0m\u001b[0m\n\u001b[0;32m--> 627\u001b[0;31m                                   require_shape_fn)\n\u001b[0m\u001b[1;32m    628\u001b[0m     \u001b[0;32mif\u001b[0m \u001b[0;32mnot\u001b[0m \u001b[0misinstance\u001b[0m\u001b[0;34m(\u001b[0m\u001b[0mres\u001b[0m\u001b[0;34m,\u001b[0m \u001b[0mdict\u001b[0m\u001b[0;34m)\u001b[0m\u001b[0;34m:\u001b[0m\u001b[0;34m\u001b[0m\u001b[0;34m\u001b[0m\u001b[0m\n\u001b[1;32m    629\u001b[0m       \u001b[0;31m# Handles the case where _call_cpp_shape_fn_impl calls unknown_shape(op).\u001b[0m\u001b[0;34m\u001b[0m\u001b[0;34m\u001b[0m\u001b[0;34m\u001b[0m\u001b[0m\n",
      "\u001b[0;32m~/.conda/envs/cs478project/lib/python3.6/site-packages/tensorflow/python/framework/common_shapes.py\u001b[0m in \u001b[0;36m_call_cpp_shape_fn_impl\u001b[0;34m(op, input_tensors_needed, input_tensors_as_shapes_needed, require_shape_fn)\u001b[0m\n\u001b[1;32m    689\u001b[0m       \u001b[0mmissing_shape_fn\u001b[0m \u001b[0;34m=\u001b[0m \u001b[0;32mTrue\u001b[0m\u001b[0;34m\u001b[0m\u001b[0;34m\u001b[0m\u001b[0m\n\u001b[1;32m    690\u001b[0m     \u001b[0;32melse\u001b[0m\u001b[0;34m:\u001b[0m\u001b[0;34m\u001b[0m\u001b[0;34m\u001b[0m\u001b[0m\n\u001b[0;32m--> 691\u001b[0;31m       \u001b[0;32mraise\u001b[0m \u001b[0mValueError\u001b[0m\u001b[0;34m(\u001b[0m\u001b[0merr\u001b[0m\u001b[0;34m.\u001b[0m\u001b[0mmessage\u001b[0m\u001b[0;34m)\u001b[0m\u001b[0;34m\u001b[0m\u001b[0;34m\u001b[0m\u001b[0m\n\u001b[0m\u001b[1;32m    692\u001b[0m \u001b[0;34m\u001b[0m\u001b[0m\n\u001b[1;32m    693\u001b[0m   \u001b[0;32mif\u001b[0m \u001b[0mmissing_shape_fn\u001b[0m\u001b[0;34m:\u001b[0m\u001b[0;34m\u001b[0m\u001b[0;34m\u001b[0m\u001b[0m\n",
      "\u001b[0;31mValueError\u001b[0m: Dimension 0 in both shapes must be equal, but are 35 and 40. Shapes are [35,256] and [40,256]. for 'Assign' (op: 'Assign') with input shapes: [35,256], [40,256]."
     ]
    }
   ],
   "source": [
    "model.load_weights(MODEL_DIR+'/model_weight/'+\"Weights_{}.h5\".format(99)) #by_name=True"
   ]
  },
  {
   "cell_type": "code",
   "execution_count": null,
   "metadata": {},
   "outputs": [],
   "source": [
    "display(vocab_map['idx2char'])"
   ]
  },
  {
   "cell_type": "code",
   "execution_count": 7,
   "metadata": {},
   "outputs": [
    {
     "data": {
      "text/plain": [
       "16"
      ]
     },
     "execution_count": 7,
     "metadata": {},
     "output_type": "execute_result"
    }
   ],
   "source": [
    "len(starting)"
   ]
  },
  {
   "cell_type": "code",
   "execution_count": 8,
   "metadata": {
    "collapsed": true
   },
   "outputs": [],
   "source": [
    "\n",
    "\n",
    "def generate_sequence_seq_as_inp(model, vocab_map, seq_length=300,starting='''\"D7\"A^GA DFA''', return_heatmap=False):\n",
    "    if return_heatmap: heat_map = np.zeros(shape=(2, 5+1, seq_length))# 1: idx, 2: is the probility of that index\n",
    "    sequence_index = [int(vocab_map['char2idx'][c]) for c in starting]\n",
    "    seq_len = len(starting)\n",
    "    n_vocab = len(vocab_map['idx2char'])\n",
    "    for i in range(seq_length-seq_len):\n",
    "        batch = np.zeros((1, seq_len))\n",
    "        batch[0] = sequence_index[-seq_len:]\n",
    "        predicted_probs = model.predict_on_batch(batch).ravel()\n",
    "#         print(predicted_probs.shape)\n",
    "        sample = np.random.choice(range(n_vocab), size = 1, p = predicted_probs)[0]\n",
    "        sequence_index.append(sample)\n",
    "#         print(sorted(predicted_probs, reverse=True)[:10])\n",
    "        \n",
    "        if return_heatmap:\n",
    "            heat_map[0,0,i] = sample\n",
    "            heat_map[1,0,i] = predicted_probs[sample]\n",
    "            heat_map[0,1:,i] = sorted_idx = np.argsort(predicted_probs)[-5:][::-1].astype(int)#reversed\n",
    "            heat_map[1,1:,i] = predicted_probs[sorted_idx]\n",
    "    str_seq = seq = ''.join(vocab_map['idx2char'][str(c)] for c in sequence_index)\n",
    "    \n",
    "    #postprocessing here\n",
    "    if return_heatmap:\n",
    "        return str_seq, heat_map\n",
    "    else: return str_seq\n",
    "    \n",
    "def generate_sequence(model, vocab_map, initial_index=0, seq_length=300, return_heatmap=False):\n",
    "    \n",
    "    if return_heatmap: heat_map = np.zeros(shape=(2, 5+1, seq_length))# 1: idx, 2: is the probility of that index\n",
    "    \n",
    "    \n",
    "    sequence_index = [initial_index]\n",
    "    n_vocab = len(vocab_map['idx2char'])\n",
    "    prev_note = '\\n'\n",
    "    stop_note = ['\\n', '%', ']', '[', ' ']\n",
    "    for i in range(seq_length):\n",
    "        batch = np.zeros((1, 1))\n",
    "        batch[0, 0] = sequence_index[-1]\n",
    "#         print(batch)\n",
    "        predicted_probs = model.predict_on_batch(batch)[-1].ravel()\n",
    "        sample = np.random.choice(range(n_vocab), size = 1, p = predicted_probs)[0]\n",
    "#         sample = np.argmax(predicted_probs)\n",
    "        if return_heatmap:\n",
    "            heat_map[0,0,i] = sample\n",
    "            heat_map[1,0,i] = predicted_probs[sample]\n",
    "            heat_map[0,1:,i] = sorted_idx = np.argsort(predicted_probs)[-5:][::-1].astype(int)#reversed\n",
    "            heat_map[1,1:,i] = predicted_probs[sorted_idx]\n",
    "#         print(sorted_idx)\n",
    "#         heat_map[np.argsort(predicted_probs)]\n",
    "#         print(predicted_probs)\n",
    "#         sample = np.argmax(predicted_probs)\n",
    "#         print(predicted_probs)\n",
    "#         print(predicted_probs)\n",
    "#         while vocab_map['idx2char'][str(sample[0])] in ['\\n', '%']:\n",
    "#         print(sample[0])\n",
    "#         if  vocab_map['idx2char'][str(sample[0])] in ['\\n','%', '\\\\']:\n",
    "#             continue\n",
    "#         while vocab_map['idx2char'][str(sample[0])] in stop_note and prev_note in stop_note:\n",
    "#             sample = np.random.choice(range(n_vocab), size = 1, p = predicted_probs)\n",
    "#         print(predicted_probs)\n",
    "#         print(sample[0])\n",
    "\n",
    "        prev_note = vocab_map['idx2char'][str(sample)]\n",
    "        sequence_index.append(sample) \n",
    "    \n",
    "    str_seq = seq = ''.join(vocab_map['idx2char'][str(c)] for c in sequence_index)\n",
    "    \n",
    "    #postprocessing here\n",
    "    if return_heatmap:\n",
    "        return str_seq, heat_map\n",
    "    else: return str_seq\n",
    "    "
   ]
  },
  {
   "cell_type": "markdown",
   "metadata": {},
   "source": [
    "A, G^GF|\"D\"DFF \"A7\"ecA|\"A\"A2e ecA|\"Bm\"e2d \"B7\"d2f|\"A\"eed cea|\"D\"agd \"D\"F2:|\n",
    "P:B\n",
    "c/2G/2|\"D\"E^FE a2A|\"A/f+\"c2^c \"G\"B2d|\"D\"def aed|\"C\"e2e cAG|\"Em\"B2A GBc|\"D\"F3 A3|\n",
    "\"G\"B2B B2||\n",
    "\n",
    "\n",
    "d/2e/2|\"F7\"fed \"A7\"c3|\"Am\"EcA \"A7\"GGA|\n",
    "\"G\"BcB \"C7\"e2e|\"Bm\"ded def|\"G\"d3 \"D7\"FAF|\n",
    "\"D\"a2a f2e|\"A7\"BcA AB,|\"D7\"D2, D2:|\n",
    "P:B\n",
    "g|\"D\""
   ]
  },
  {
   "cell_type": "code",
   "execution_count": 9,
   "metadata": {},
   "outputs": [
    {
     "ename": "ValueError",
     "evalue": "Error when checking input: expected input to have shape (1,) but got array with shape (16,)",
     "output_type": "error",
     "traceback": [
      "\u001b[0;31m---------------------------------------------------------------------------\u001b[0m",
      "\u001b[0;31mValueError\u001b[0m                                Traceback (most recent call last)",
      "\u001b[0;32m<ipython-input-9-af0b3470796e>\u001b[0m in \u001b[0;36m<module>\u001b[0;34m\u001b[0m\n\u001b[0;32m----> 1\u001b[0;31m \u001b[0mgen\u001b[0m\u001b[0;34m,\u001b[0m \u001b[0mheatmap\u001b[0m \u001b[0;34m=\u001b[0m \u001b[0mgenerate_sequence_seq_as_inp\u001b[0m\u001b[0;34m(\u001b[0m\u001b[0mmodel\u001b[0m\u001b[0;34m,\u001b[0m \u001b[0mvocab_map\u001b[0m\u001b[0;34m,\u001b[0m \u001b[0mseq_length\u001b[0m\u001b[0;34m=\u001b[0m\u001b[0;36m1000\u001b[0m\u001b[0;34m,\u001b[0m\u001b[0mstarting\u001b[0m\u001b[0;34m=\u001b[0m\u001b[0mstarting\u001b[0m\u001b[0;34m,\u001b[0m \u001b[0mreturn_heatmap\u001b[0m\u001b[0;34m=\u001b[0m\u001b[0;32mTrue\u001b[0m\u001b[0;34m)\u001b[0m\u001b[0;34m\u001b[0m\u001b[0;34m\u001b[0m\u001b[0m\n\u001b[0m\u001b[1;32m      2\u001b[0m \u001b[0mprint\u001b[0m\u001b[0;34m(\u001b[0m\u001b[0mgen\u001b[0m\u001b[0;34m)\u001b[0m\u001b[0;34m\u001b[0m\u001b[0;34m\u001b[0m\u001b[0m\n",
      "\u001b[0;32m<ipython-input-8-2b2da35f960e>\u001b[0m in \u001b[0;36mgenerate_sequence_seq_as_inp\u001b[0;34m(model, vocab_map, seq_length, starting, return_heatmap)\u001b[0m\n\u001b[1;32m      9\u001b[0m         \u001b[0mbatch\u001b[0m \u001b[0;34m=\u001b[0m \u001b[0mnp\u001b[0m\u001b[0;34m.\u001b[0m\u001b[0mzeros\u001b[0m\u001b[0;34m(\u001b[0m\u001b[0;34m(\u001b[0m\u001b[0;36m1\u001b[0m\u001b[0;34m,\u001b[0m \u001b[0mseq_len\u001b[0m\u001b[0;34m)\u001b[0m\u001b[0;34m)\u001b[0m\u001b[0;34m\u001b[0m\u001b[0;34m\u001b[0m\u001b[0m\n\u001b[1;32m     10\u001b[0m         \u001b[0mbatch\u001b[0m\u001b[0;34m[\u001b[0m\u001b[0;36m0\u001b[0m\u001b[0;34m]\u001b[0m \u001b[0;34m=\u001b[0m \u001b[0msequence_index\u001b[0m\u001b[0;34m[\u001b[0m\u001b[0;34m-\u001b[0m\u001b[0mseq_len\u001b[0m\u001b[0;34m:\u001b[0m\u001b[0;34m]\u001b[0m\u001b[0;34m\u001b[0m\u001b[0;34m\u001b[0m\u001b[0m\n\u001b[0;32m---> 11\u001b[0;31m         \u001b[0mpredicted_probs\u001b[0m \u001b[0;34m=\u001b[0m \u001b[0mmodel\u001b[0m\u001b[0;34m.\u001b[0m\u001b[0mpredict_on_batch\u001b[0m\u001b[0;34m(\u001b[0m\u001b[0mbatch\u001b[0m\u001b[0;34m)\u001b[0m\u001b[0;34m.\u001b[0m\u001b[0mravel\u001b[0m\u001b[0;34m(\u001b[0m\u001b[0;34m)\u001b[0m\u001b[0;34m\u001b[0m\u001b[0;34m\u001b[0m\u001b[0m\n\u001b[0m\u001b[1;32m     12\u001b[0m \u001b[0;31m#         print(predicted_probs.shape)\u001b[0m\u001b[0;34m\u001b[0m\u001b[0;34m\u001b[0m\u001b[0;34m\u001b[0m\u001b[0m\n\u001b[1;32m     13\u001b[0m         \u001b[0msample\u001b[0m \u001b[0;34m=\u001b[0m \u001b[0mnp\u001b[0m\u001b[0;34m.\u001b[0m\u001b[0mrandom\u001b[0m\u001b[0;34m.\u001b[0m\u001b[0mchoice\u001b[0m\u001b[0;34m(\u001b[0m\u001b[0mrange\u001b[0m\u001b[0;34m(\u001b[0m\u001b[0mn_vocab\u001b[0m\u001b[0;34m)\u001b[0m\u001b[0;34m,\u001b[0m \u001b[0msize\u001b[0m \u001b[0;34m=\u001b[0m \u001b[0;36m1\u001b[0m\u001b[0;34m,\u001b[0m \u001b[0mp\u001b[0m \u001b[0;34m=\u001b[0m \u001b[0mpredicted_probs\u001b[0m\u001b[0;34m)\u001b[0m\u001b[0;34m[\u001b[0m\u001b[0;36m0\u001b[0m\u001b[0;34m]\u001b[0m\u001b[0;34m\u001b[0m\u001b[0;34m\u001b[0m\u001b[0m\n",
      "\u001b[0;32m~/.conda/envs/cs478project/lib/python3.6/site-packages/keras/engine/training.py\u001b[0m in \u001b[0;36mpredict_on_batch\u001b[0;34m(self, x)\u001b[0m\n\u001b[1;32m   1266\u001b[0m             \u001b[0mNumpy\u001b[0m \u001b[0marray\u001b[0m\u001b[0;34m(\u001b[0m\u001b[0ms\u001b[0m\u001b[0;34m)\u001b[0m \u001b[0mof\u001b[0m \u001b[0mpredictions\u001b[0m\u001b[0;34m.\u001b[0m\u001b[0;34m\u001b[0m\u001b[0;34m\u001b[0m\u001b[0m\n\u001b[1;32m   1267\u001b[0m         \"\"\"\n\u001b[0;32m-> 1268\u001b[0;31m         \u001b[0mx\u001b[0m\u001b[0;34m,\u001b[0m \u001b[0m_\u001b[0m\u001b[0;34m,\u001b[0m \u001b[0m_\u001b[0m \u001b[0;34m=\u001b[0m \u001b[0mself\u001b[0m\u001b[0;34m.\u001b[0m\u001b[0m_standardize_user_data\u001b[0m\u001b[0;34m(\u001b[0m\u001b[0mx\u001b[0m\u001b[0;34m)\u001b[0m\u001b[0;34m\u001b[0m\u001b[0;34m\u001b[0m\u001b[0m\n\u001b[0m\u001b[1;32m   1269\u001b[0m         \u001b[0;32mif\u001b[0m \u001b[0mself\u001b[0m\u001b[0;34m.\u001b[0m\u001b[0m_uses_dynamic_learning_phase\u001b[0m\u001b[0;34m(\u001b[0m\u001b[0;34m)\u001b[0m\u001b[0;34m:\u001b[0m\u001b[0;34m\u001b[0m\u001b[0;34m\u001b[0m\u001b[0m\n\u001b[1;32m   1270\u001b[0m             \u001b[0mins\u001b[0m \u001b[0;34m=\u001b[0m \u001b[0mx\u001b[0m \u001b[0;34m+\u001b[0m \u001b[0;34m[\u001b[0m\u001b[0;36m0.\u001b[0m\u001b[0;34m]\u001b[0m\u001b[0;34m\u001b[0m\u001b[0;34m\u001b[0m\u001b[0m\n",
      "\u001b[0;32m~/.conda/envs/cs478project/lib/python3.6/site-packages/keras/engine/training.py\u001b[0m in \u001b[0;36m_standardize_user_data\u001b[0;34m(self, x, y, sample_weight, class_weight, check_array_lengths, batch_size)\u001b[0m\n\u001b[1;32m    749\u001b[0m             \u001b[0mfeed_input_shapes\u001b[0m\u001b[0;34m,\u001b[0m\u001b[0;34m\u001b[0m\u001b[0;34m\u001b[0m\u001b[0m\n\u001b[1;32m    750\u001b[0m             \u001b[0mcheck_batch_axis\u001b[0m\u001b[0;34m=\u001b[0m\u001b[0;32mFalse\u001b[0m\u001b[0;34m,\u001b[0m  \u001b[0;31m# Don't enforce the batch size.\u001b[0m\u001b[0;34m\u001b[0m\u001b[0;34m\u001b[0m\u001b[0m\n\u001b[0;32m--> 751\u001b[0;31m             exception_prefix='input')\n\u001b[0m\u001b[1;32m    752\u001b[0m \u001b[0;34m\u001b[0m\u001b[0m\n\u001b[1;32m    753\u001b[0m         \u001b[0;32mif\u001b[0m \u001b[0my\u001b[0m \u001b[0;32mis\u001b[0m \u001b[0;32mnot\u001b[0m \u001b[0;32mNone\u001b[0m\u001b[0;34m:\u001b[0m\u001b[0;34m\u001b[0m\u001b[0;34m\u001b[0m\u001b[0m\n",
      "\u001b[0;32m~/.conda/envs/cs478project/lib/python3.6/site-packages/keras/engine/training_utils.py\u001b[0m in \u001b[0;36mstandardize_input_data\u001b[0;34m(data, names, shapes, check_batch_axis, exception_prefix)\u001b[0m\n\u001b[1;32m    136\u001b[0m                             \u001b[0;34m': expected '\u001b[0m \u001b[0;34m+\u001b[0m \u001b[0mnames\u001b[0m\u001b[0;34m[\u001b[0m\u001b[0mi\u001b[0m\u001b[0;34m]\u001b[0m \u001b[0;34m+\u001b[0m \u001b[0;34m' to have shape '\u001b[0m \u001b[0;34m+\u001b[0m\u001b[0;34m\u001b[0m\u001b[0;34m\u001b[0m\u001b[0m\n\u001b[1;32m    137\u001b[0m                             \u001b[0mstr\u001b[0m\u001b[0;34m(\u001b[0m\u001b[0mshape\u001b[0m\u001b[0;34m)\u001b[0m \u001b[0;34m+\u001b[0m \u001b[0;34m' but got array with shape '\u001b[0m \u001b[0;34m+\u001b[0m\u001b[0;34m\u001b[0m\u001b[0;34m\u001b[0m\u001b[0m\n\u001b[0;32m--> 138\u001b[0;31m                             str(data_shape))\n\u001b[0m\u001b[1;32m    139\u001b[0m     \u001b[0;32mreturn\u001b[0m \u001b[0mdata\u001b[0m\u001b[0;34m\u001b[0m\u001b[0;34m\u001b[0m\u001b[0m\n\u001b[1;32m    140\u001b[0m \u001b[0;34m\u001b[0m\u001b[0m\n",
      "\u001b[0;31mValueError\u001b[0m: Error when checking input: expected input to have shape (1,) but got array with shape (16,)"
     ]
    }
   ],
   "source": [
    "gen, heatmap = generate_sequence_seq_as_inp(model, vocab_map, seq_length=1000,starting=starting, return_heatmap=True)\n",
    "print(gen)"
   ]
  },
  {
   "cell_type": "code",
   "execution_count": 13,
   "metadata": {},
   "outputs": [
    {
     "name": "stdout",
     "output_type": "stream",
     "text": [
      "\"D7\"A^GA DFADtAA|GG DFA|AAA|\"G\n",
      "\"AA\"AAA|\"GG\"A7 AcB|\"GG\"A\"eAAA-\"GG\"B\"AAAAGcGG\"G\"AAAAGBGG|A\"AAAAGBGG|\n",
      "\"Ac\"BGAGG|\n",
      "\"AB\"BG GG|\n",
      "\"AB2B GGG|\n",
      "\"AB2B GGG|\n",
      "\"AB2 dGGG|G\"GBd GGcF|\n",
      "\"GBdG GFA||\"GBd DGFA|\n",
      "\"Gdd 3FF:|\n",
      "\"G/:e/:a\n",
      "\n",
      "\n",
      "\n",
      "/6::/:\n",
      "\n",
      "\n",
      "\n",
      "\n",
      "\n",
      ":::::\n",
      "\n",
      "\n",
      "PFP:::\n",
      "3K::Mu)P:\n",
      "\n",
      "::::K8\n",
      "P\n",
      "\n",
      "\n",
      "P:::\\:\n",
      "\n",
      "\n",
      "\n",
      "PP:C:\n",
      "::\n",
      "\n",
      "\n",
      ":::PP\n",
      "\n",
      "\n",
      ":\n",
      "\n",
      "P::6:\n",
      "\n",
      "|P:\n",
      "P:::\n",
      "\n",
      ":/:::.:3PABBPPP::]VBBEF4K1>aAzM!lIhuFuoiD7u-h]:['v0Vl%Pp]!9\\I1%[Ks~pnvs0oIS%s0Cznhr%!88u>s%t\n"
     ]
    }
   ],
   "source": [
    "print(gen)"
   ]
  },
  {
   "cell_type": "code",
   "execution_count": 12,
   "metadata": {
    "scrolled": false
   },
   "outputs": [
    {
     "name": "stdout",
     "output_type": "stream",
     "text": [
      ",FE B,DB,|\"Eb\"G2B \"E7\"E2A|\"Am\"ABA \"D7\"ABc|\n",
      "\"G\"B3 GBd|\"C\"egf g2e|\"G\"dBA \"D7\"AGF|\"G\"G3 -G2:|\n",
      "P:B\n",
      "|:D|\"G\"G2A B2c|\"G\"d3 B2d|\"C\"e2d \"D7\"c2d|\"G\"B3 G2D|\"G\"G2A B2e|\"G\"g3 f3|\n",
      "\"C\"g2e e2c|\"G\"ded GBd|\"G\"g2d edB|\"Am\"ABG \"D7\"DEF|\"G\"G2G B2B||\n",
      "\"D\"A2F \"A\"E2A|\"D\"F2A d2f|\"G\"\"g\"e2f gef|\"Em\"g2f \"A7\"edc|\"D\"d3 d2||\n",
      "\n",
      "\n",
      "|:G|\"C\"cdc efg|\"G7\"GAG GAB|\"C\"ceg gee|\"G\"D3 -\"D7\"def|\n",
      "\"G\"g3 \"D7\"gfd|\"G\"B3 G3|\"Am\"gba \"D7\"a2g|\"C\"gfe cBG|\"F\"A2F \"Gb\"D2||\n",
      "\n",
      "\n",
      "F|\"G\"GAB \"D\"A2F|\"G\"G=Bd \"D7\"DFA|\"G\"BAG \"D7\"FED|\"G\"G3 -G2:|\n",
      "P:B\n",
      "|:A|\"Am\"ABA A2B|\"Am\"cde \"G\"^ded|\"Am\"\"F\"A2B \"E7\"cB^G|\"Am\"A3 -A2:|\n",
      "\n",
      "\n",
      "f/2g/2|\"A\"aec ace|\"Bm\"f^ef dfd|\"A\"ecA \"A7\"ece|\"D\"f2f \"A\"ecA|\"E7\"BAG \"A\"A2:|\n",
      "\n",
      "\n",
      "\"G\"gfg \"C\"gfe|\"G\"ded Bcd|\"C\"ece \"D7\"d2c|\"G\"BBB BAG|\n",
      "\"D7\"AcB AGF|\"G\"Gdd \"G7\"dcB|\"C\"AcB \"D7\"AGF|\"G\"GAB \"C\"EFG|\"D7\"DEF \"G\"G2:|\n",
      "\n",
      "\n",
      "g|\"G\"gfg bge|edd Bdd|\"G\"bgg gdB|\"D7\"ABG A2d|\n",
      "\"G\"ggg gfe|\"G\"gag bge|\"G\"dBG \"D\"A3|\"G\"dBG \"D\"EDE|\"G\"GBd g2a|\"G\"bag \"D\"agf|\n",
      "\"G\"gab \"C\"efg|ecc e2d|\"G\"gdB GBd|\"D7\"fed ^cdF|EF=c def|\n",
      "\"G\"ggg dgd|\"G\"BdB GBd|\"C\"ece \"D7\"e2a|\"G\"bgf \"D7\"gfe|\n",
      "\"G\"dBG GBd|\"C\"ecA \"G\n"
     ]
    }
   ],
   "source": [
    "import random\n",
    "initial_index = np.random.randint(0, n_vocab, size=(1,))[0]\n",
    "music_abc, heatmap = generate_sequence(model, vocab_map, initial_index=initial_index, seq_length=1000, return_heatmap=True)\n",
    "# /**/\n",
    "print(music_abc)"
   ]
  },
  {
   "cell_type": "code",
   "execution_count": 15,
   "metadata": {},
   "outputs": [
    {
     "name": "stdout",
     "output_type": "stream",
     "text": [
      "[[ 0.01541017  0.01494989  0.01602851 ...,  0.01488989  0.0199335\n",
      "   0.01592204]\n",
      " [ 0.0162839   0.0165707   0.01745183 ...,  0.01685495  0.02203951\n",
      "   0.01638138]\n",
      " [ 0.01616734  0.01641496  0.01719277 ...,  0.01679535  0.0199335\n",
      "   0.01619886]]\n"
     ]
    }
   ],
   "source": [
    "print(heatmap[1, :3])"
   ]
  },
  {
   "cell_type": "code",
   "execution_count": 26,
   "metadata": {},
   "outputs": [
    {
     "data": {
      "text/plain": [
       "<matplotlib.axes._subplots.AxesSubplot at 0x2ac68c4c8860>"
      ]
     },
     "execution_count": 26,
     "metadata": {},
     "output_type": "execute_result"
    },
    {
     "data": {
      "image/png": "[encoded data removed]",
      "text/plain": [
       "<Figure size 720x1440 with 1 Axes>"
      ]
     },
     "metadata": {
      "needs_background": "light"
     },
     "output_type": "display_data"
    }
   ],
   "source": [
    "import pandas as pd\n",
    "from collections import Counter\n",
    "a = sorted(list(music_abc))\n",
    "letter_counts = Counter(a)\n",
    "df = pd.DataFrame.from_dict(letter_counts, orient='index')\n",
    "df.plot(kind='bar', figsize=(10,20))"
   ]
  },
  {
   "cell_type": "code",
   "execution_count": 19,
   "metadata": {},
   "outputs": [
    {
     "data": {
      "text/plain": [
       "<matplotlib.axes._subplots.AxesSubplot at 0x2b934cce6588>"
      ]
     },
     "execution_count": 19,
     "metadata": {},
     "output_type": "execute_result"
    },
    {
     "data": {
      "image/png": "[encoded data removed]",
      "text/plain": [
       "<Figure size 720x1440 with 1 Axes>"
      ]
     },
     "metadata": {
      "needs_background": "light"
     },
     "output_type": "display_data"
    }
   ],
   "source": [
    "import pandas as pd\n",
    "from collections import Counter\n",
    "a = sorted(list(music_abc))\n",
    "letter_counts = Counter(a)\n",
    "df = pd.DataFrame.from_dict(letter_counts, orient='index')\n",
    "df.plot(kind='bar', figsize=(10,20))"
   ]
  },
  {
   "cell_type": "code",
   "execution_count": 27,
   "metadata": {
    "collapsed": true
   },
   "outputs": [],
   "source": [
    "def idx_to_char(idx):\n",
    "    return vocab_map['idx2char'][str(int(idx))]\n",
    "\n",
    "vfunc = np.vectorize(idx_to_char)"
   ]
  },
  {
   "cell_type": "code",
   "execution_count": 28,
   "metadata": {
    "collapsed": true
   },
   "outputs": [],
   "source": [
    "text_map= vfunc(heatmap[0,:,0:100])"
   ]
  },
  {
   "cell_type": "code",
   "execution_count": 29,
   "metadata": {},
   "outputs": [
    {
     "data": {
      "text/plain": [
       "array([[ 0.02958182,  0.8131507 ,  0.10241242,  0.24784282],\n",
       "       [ 0.2033774 ,  0.8131507 ,  0.24275403,  0.35871959],\n",
       "       [ 0.18712522,  0.04095986,  0.10241242,  0.24784282],\n",
       "       [ 0.09096339,  0.02403539,  0.08286086,  0.11091366]])"
      ]
     },
     "execution_count": 29,
     "metadata": {},
     "output_type": "execute_result"
    }
   ],
   "source": [
    "heatmap[1,:,0:1000][:4,:4]"
   ]
  },
  {
   "cell_type": "code",
   "execution_count": 30,
   "metadata": {},
   "outputs": [
    {
     "name": "stderr",
     "output_type": "stream",
     "text": [
      "/home/cseos2g/datduyn/.conda/envs/cs478project/lib/python3.6/site-packages/matplotlib/tight_layout.py:176: UserWarning: Tight layout not applied. The left and right margins cannot be made large enough to accommodate all axes decorations. \n",
      "  warnings.warn('Tight layout not applied. The left and right margins '\n"
     ]
    },
    {
     "data": {
      "image/png": "[encoded data removed]",
      "text/plain": [
       "<Figure size 432x288 with 2 Axes>"
      ]
     },
     "metadata": {
      "needs_background": "light"
     },
     "output_type": "display_data"
    }
   ],
   "source": [
    "#https://matplotlib.org/gallery/images_contours_and_fields/image_annotated_heatmap.html\n",
    "fig, ax = plt.subplots()\n",
    "im = ax.imshow(heatmap[1,:,0:30])\n",
    "\n",
    "# Loop over data dimensions and create text annotations.\n",
    "for i in range(len(text_map)):\n",
    "    for j in range(len(text_map[0])):\n",
    "        text = ax.text(j, i, text_map[i, j],\n",
    "                       ha=\"center\", va=\"center\", color=\"w\")\n",
    "# fig.colorbar(ax)\n",
    "fig.colorbar(im,ax=ax)\n",
    "fig.tight_layout()"
   ]
  },
  {
   "cell_type": "code",
   "execution_count": 154,
   "metadata": {},
   "outputs": [
    {
     "data": {
      "text/plain": [
       "array([[  5.98930180e-01,   6.99655414e-01,   9.98980939e-01,\n",
       "          6.74393117e-01,   4.61797208e-01,   2.62753487e-01,\n",
       "          7.37917781e-01,   9.84767139e-01,   2.62753487e-01,\n",
       "          8.93393159e-01],\n",
       "       [  9.20788348e-02,   2.06741422e-01,   2.28617093e-04,\n",
       "          1.20498024e-01,   2.19840884e-01,   1.96328655e-01,\n",
       "          2.03195214e-01,   4.51483112e-03,   1.96328655e-01,\n",
       "          2.31623147e-02],\n",
       "       [  5.88871650e-02,   3.22715864e-02,   1.66049082e-04,\n",
       "          5.39283492e-02,   1.18779249e-01,   1.88566580e-01,\n",
       "          2.05463115e-02,   3.28564504e-03,   1.88566580e-01,\n",
       "          1.42358653e-02],\n",
       "       [  5.53393178e-02,   3.03188227e-02,   9.80730038e-05,\n",
       "          2.70178188e-02,   9.04975384e-02,   7.19026774e-02,\n",
       "          1.64709259e-02,   2.77934317e-03,   7.19026774e-02,\n",
       "          1.26095721e-02],\n",
       "       [  3.86340655e-02,   1.29396087e-02,   9.12688774e-05,\n",
       "          1.58256814e-02,   3.36676463e-02,   6.42791986e-02,\n",
       "          1.52911050e-02,   2.75164819e-03,   6.42791986e-02,\n",
       "          1.14591857e-02]])"
      ]
     },
     "execution_count": 154,
     "metadata": {},
     "output_type": "execute_result"
    }
   ],
   "source": [
    "heat_map[1]"
   ]
  },
  {
   "cell_type": "code",
   "execution_count": null,
   "metadata": {
    "collapsed": true
   },
   "outputs": [],
   "source": [
    "out_soft\n",
    "\n",
    "[ 0.00881344  0.00819033  0.01003748  0.01439313  0.01566641  0.02012172\n",
    "  0.02670544  0.01429924  0.00817159  0.0243393   0.01808797  0.00786304\n",
    "  0.02059154  0.00654612  0.01358718  0.01904634  0.00678441  0.01074101\n",
    "  0.00991203  0.01018245  0.02273625  0.01028684  0.0168102   0.01229161\n",
    "  0.01059775  0.00779227  0.01728607  0.00806514  0.02377261  0.00976335\n",
    "  0.01870234  0.01534564  0.01961709  0.01604964  0.00974267  0.01735051\n",
    "  0.03136642  0.02046453  0.01430773  0.01043758  0.0158743   0.01535269\n",
    "  0.01675558  0.01484622  0.00879462  0.01782196  0.01018771  0.02304659\n",
    "  0.01717358  0.00904324  0.00585431  0.02191257  0.01342308  0.00722929\n",
    "  0.02692387  0.01162753  0.00651205  0.00807466  0.01137613  0.01136241\n",
    "  0.02234575  0.00584393  0.0216484   0.01242542  0.01709915  0.05033881\n",
    "  0.01023974]\n",
    "[ 0.02316007  0.01488934  0.00380305  0.01023144  0.02200833  0.0071333\n",
    "  0.00962085  0.00867375  0.04411287  0.00929209  0.02736273  0.00992851\n",
    "  0.00402567  0.01422336  0.04081254  0.0120401   0.05193588  0.01331224\n",
    "  0.02914766  0.00534466  0.0457323   0.00564058  0.04919361  0.02759544\n",
    "  0.00616586  0.04105065  0.01936003  0.00687145  0.00368081  0.00510364\n",
    "  0.01049835  0.00649755  0.00277873  0.00251447  0.01110584  0.01216636\n",
    "  0.00242664  0.00095192  0.00866162  0.00846107  0.00206614  0.01816297\n",
    "  0.02370209  0.006257    0.00408039  0.0126074   0.01218091  0.00544341\n",
    "  0.01421754  0.01640938  0.00847971  0.00798011  0.00543279  0.00355627\n",
    "  0.00132769  0.01281493  0.03602673  0.03887602  0.00417642  0.00482891\n",
    "  0.02533414  0.01454004  0.02662339  0.00611772  0.00744368  0.03605494\n",
    "  0.00774393]"
   ]
  },
  {
   "cell_type": "code",
   "execution_count": null,
   "metadata": {
    "collapsed": true
   },
   "outputs": [],
   "source": []
  },
  {
   "cell_type": "code",
   "execution_count": 9,
   "metadata": {
    "collapsed": true
   },
   "outputs": [],
   "source": [
    "#header info: http://trillian.mit.edu/~jc/music/abc/doc/ABCtut_Headers.html#I_Key\n",
    "header = '''\n",
    "X: 1\n",
    "T:AbcRnn\n",
    "% abcRnn\n",
    "M:4/4\n",
    "K:Cmin\n",
    "'''\n",
    "\n",
    "selected = '''\n",
    "^D/2A/2B/2A/2A F2F/2G/2|\n",
    "Aca aag|f/2a/2g/2f/2d/2 e3:|\n",
    "\\\n",
    "A/2g/2f/2g/2|\n",
    "f/2a3/2\n",
    "e/2A/2 f/2g/2g/2f/2d/2^G/2|\n",
    "\"D\"f2d/2d/2 \"Bm\"a3/2f/2a/2|\"Em\"g3 \"E7/c+\"e2d|\"A7/c+\"e2e \"F/f+\"d2c|\"Bm\"B2B A2^g|\n",
    "\"B7\"a2f f2f|\"E\"g2e \"B7\"B2d|\"B7\"e2f g2g|\"B7\"a3 a2f|\n",
    "\"D7\"d3 -c=cd|\"G\"B2G GBd|\"C\"e2e c2e|\"Am\"a3 \"G7\"g2d|\"C\"g3 z2:|\n",
    "P:C\n",
    "\n",
    "\n",
    "-----------------------------------------------------------------------------\n",
    "_ef|\"A\"a^ag \"D\"fed|\"F\"ecA \"G\"Bcd|\"Am\"e3 -\"D7\"d2||\n",
    "K:D\n",
    "\"D\"AFA \"G\"Bcd|\"D\"Adf \"G\"gab|\"D\"agf def|\"A7\"edc A2a|\"A7\"afd e2c|\n",
    "\"D\"d3 d2f|\"D\"A2f \"A/e\"c2e|\"Bm\"dcd \"E7\"e3|\"A\"cBc def|\n",
    "\"Bm\"dfB BcB|\"A\"cde \"E7\"e2A|[1\"A\"A3 -A2||\n",
    " [2\"A\"A3 A2G/2F/2|E/2A/2e/2 \"D\"dcd|\"A\"e3 e2c|\"A\"A3 -A7||\n",
    "K\n",
    "K:D\n",
    "\"D\"[2F2A \"A\"ABc|\"Bm\"d2d \"D\n",
    "'''\n",
    "\n",
    "selected = '''\n",
    "X:1\n",
    "M:3/4\n",
    "L:1/16\n",
    "K:Bm\n",
    "[D,2D,2D,,2]>D,2 D,2D,2 D,2D,2 | D,2>D,2 D,2D,2 D,2D,2 | D,2>D,2 D,2D,2 D,2D,2 | D,2>D,2 D,2D,2 D,2D,2 | [d2D,2D2A,2D,2A,,2D,,2]D,0[DD,] [D2D,2][D2D,2] [D2D,2][D2D,2] |\n",
    "[D,2D2]D,0[DD,] [f2D2D,2][f2D2D,2] [d2D2D,2][f2D2D,2] | [g2D,2D2G,2G,,2]D,0[DD,] [D2D,2][D2D,2] [D2D,2][D2D,2] | [f2D,2D2A,2A,,2]D,0[DD,] [D2D,2][D2D,2] [D2D,2][D2D,2] | [d2D,2D2D2D,2D,2D,,2]D,0[DD,] [D2D,2][D2D,2] [D2D,2][D2D,2] |\n",
    "[D,2D2]D,0[DD,] [f2D2D,2][f2D2D,2] [d2D2D,2][f2D2D,2] | [e2=C,2C2C2C,2]C,C,0[CC,] [C2C,2][C2C,2] [C2C,2][C2C,2] | [c2A,2A,,2A,2A,,2]>[A,2A,,2] [d2A,2A,,2][e2A,2A,,2] [A,2A,,2][A,2A,,2] | [f2D,2D2D2D,2D,2D,,2]D,D,0[DD,] [D2D,2][D2D,2] [D2D,2][D2D,2] |\n",
    "[D,2D2]D,D,0[DD,] [d2D2D,2][f2D2D,2] [d2D2D,2][f2D2D,2] | [b2B,2B,,2G2G,2]>[B,2B,,2] [B,2B,,2][B,2B,,2] [B,2B,,2][B,2B,,2] | [a2F,2F,,2F2F,2]>[F,2F,,2] [F,2F,,2][G,2G,,2] [g2G,2G,,2][f2G,2G,,2] | [e2A,,2A,2E2D,2E,2D,,2]A,,A,,0[A,A,,] [A,2A,,2][A,2A,,2] [A,2A,,2][A,2A,,2] |\n",
    "[A,2A,,2][A,2A,,2] [A,2A,,2][A,2A,,2] [A,2A,,2][A,2A,,2] | [d2G,,2G,2D2D,2]G,,G,,0[G,G,,] [G,2G,,2][G,2G,,2] [e2G,2G,,2][f2G,2G,,2] | [e2A,,2A,2E2E,2]A,,A,,0[A,A,,] [A,2A,,2][A,2A,,2] [A,2A,,2][A,2A,,2] | [G,,2G,2D2D,2D,2D,,2]G,,G,,0[G,G,,] [d2G,2G,,2][d2G,2G,,2] [e2G,2G,,2][f2G,2G,,2] |\n",
    "[e2A,,2A,2C2C,2]A,,A,,0[A,A,,] [A,2A,,2][A,2A,,2] [A,2A,,2][d2A,2A,,2] | [d2D,2D2D2D,2]D,0[DD,] [D2D,2][D2D,2] [D2D,2][D2D,2] | [D,2D2]D,0[DD,] [D2D,2][D2D,2] [D2D,2][D2D,2] | [D,2D,2D,,2]>D,2 D,2D,2 D,2D,2 |\n",
    "D,2>D,2 D,2D,2 D,2D,2 | D,2>D,2 D,2D,2 D,2D,2 | D,2>D,2 D,2D,2 D,2D,2 | [d2d2D2D,2D2A,2D,2A,,2D,,2d2]D,0[DD,] [D2D,2][D2D,2] [D2D,2][D2D,2] |\n",
    "[D,2D2]D,0[DD,] [f2f2D2D,2f2][f2f2D2D,2] [d2d2D2D,2d2][f2f2D2D,2f2] | [g2g2A,2D,2D2G,2G,,2g2]D,0[DD,] [D2D,2][D2D,2] [D2D,2][D2D,2] | [f2f2A,2D,2D,2D2A,2A,,2f2]D,0[DD,] [D2D,2][D2D,2] [D2D,2][D2D,2] | [d2d2D,2D2D2D,2D,2D,,2d2]D,0[DD,] [D2D,2][D2D,2] [D2D,2][D2D,2] |\n",
    "[D,2D2]D,0[DD,] [f2f2D2D,2f2][f2f2D2D,2] [d2d2D2D,2d2][f2f2D2D,2f2] | [e2e2=C,2C2C2C,2e2]C,C,0[CC,] [C2C,2][C2C,2] [C2C,2][C2C,2] | [c2c2A,2A,,2A,2A,,2c2]>[A,2A,,2] [d2d2A,2A,,2d2][e2e2A,2A,,2e2] [A,2A,,2][A,2A,,2] | [f2f2D2D,2D2d2D2D,2D,2D,,2f2]D,D,0[DD,] [D2D,2][E2D2D,2e2] [D2D,2][D2D,2] |\n",
    "[F2D,2D2f2]D,D,0[DD,] [d2d2D2D,2d2][f2f2D2D2D,2d2f2] [d2d2D2D,2][f2f2D2D,2] | [b2b2G2B,2B,,2g2G2G,2b2]>[B,2B,,2] [B,2B,,2][B,2B,,2] [B,2B,,2][B,2B,,2] | [a2a2F2F,2F,,2f2F2F,2a2]>[F,2F,,2] [F,2F,,2][G,2G,,2] [g2g2A2G,2G,,2g2][f2f2F2G,2G,,2f2] | [e2e2E2A,,2A,2E2D,2E,2D,,2e2]A,,A,,0[A,A,,] [A,2A,,2][A,2A,,2] [A,2A,,2][A,2A,,2] |\n",
    "[A,2A,,2][A,2A,,2] [A,2A,,2][A,2A,,2] [A,2A,,2][A,2A,,2] | [d2d2G,,2G,2D2D,2d2]G,,G,,0[G,G,,] [G,2G,,2][G,2G,,2] [e2e2G,2G,,2e2][f2f2G,2G,,2f2] | [e2e2A,,2A,2E2E,2e2]A,,A,,0[A,A,,] [A,2A,,2][A,2A,,2] [A,2A,,2][A,2A,,2] | [G,,2G,2D2D,2D,2D,,2]G,,G,,0[G,G,,] [d2d2G,2G,,2d2][d2d2G,2G,,2d2] [e2e2G,2G,,2e2][f2f2G,2G,,2f2] |\n",
    "[e2e2A,,2A,2C2C,2e2]A,,A,,0[A,A,,] [A,2A,,2][A,2A,,2] [A,2A,,2][d2d2A,2A,,2d2] | [d2d2D,2D2D2D,2d2]D,0[DD,] [D2D,2][D2D,2] [D2D,2][D2D,2] | [D,2D2]D,0[DD,] [D2D,2][D2D,2] [D2D,2][D2D,2] | [d2A,2F,2d2D,2D,,2A2A,2F,2F2C2A,2E,2B,,2F,,2D,2D2d'2F2A,2D,2A,,2D,,2d2E,2]D,0[DD,] [F2C2A,2E,2B,,2F,,2D2D,2][D,2D,,2F2C2A,2E,2B,,2F,,2D2D,2] [F2C2A,2E,2B,,2F,,2D2D,2][D2D,2] |\n",
    "[D,2D,,2F2C2A,2E,2B,,2F,,2D,2D2][F0C0A,0E,0B,,0F,,0]<D,0[DD,] [f2f2F2C2A,2E,2B,,2F,,2D2D,2f'2f2][f2D2A,2f2D,2D,,2d2D2A,2F2C2A,2E,2B,,2F,,2D2D,2] [d2d2D2D,2d'2d2][f2f2F2C2A,2E,2B,,2F,,2D2D,2f'2f2] | [g2D2B,2g2D2D,2D,,2A2D2B,2F2C2A,2E,2B,,2F,,2D,2D2g'2G2G,2G,,2g2]D,0[DD,] [F2C2A,2E,2B,,2F,,2D2D,2][D2D,2D,,2F2C2A,2E,2B,,2F,,2D2D,2] [F2C2A,2E,2B,,2F,,2D2D,2][D2D,2] | [f2D2A,2f2D2D,2D,,2F2D2A,2F2C2A,2E,2B,,2F,,2D,2D2f'2F2A,2A,,2f2][F0C0A,0E,0B,,0F,,0]<D,0[DD,] [F2C2A,2E,2B,,2F,,2D2D,2][D2D,2D,,2F2C2A,2E,2B,,2F,,2D2D,2] [D2D,2][F2C2A,2E,2B,,2F,,2D2D,2] | [d2A,2F,2d2A2D,2D,,2A2A,2F,2F2C2A,2E,2B,,2F,,2D,2D2d'2F2D2D,2D,2D,,2d2G,2E,2]D,0[DD,] [F2C2A,2E,2B,,2F,,2D2D,2][A2D,2D,,2F2C2A,2E,2B,,2F,,2D2D,2] [F2C2A,2E,2B,,2F,,2D2D,2][D2D,2] |\n",
    "[A2D,2D,,2F2C2A,2E,2B,,2F,,2D,2D2][F0C0A,0E,0B,,0F,,0]<D,0[DD,] [f2f2F2C2A,2E,2B,,2F,,2D2D,2f'2f2][f2D2A,2f2A2D,2D,,2d2D2A,2F2C2A,2E,2B,,2F,,2D2D,2] [d2d2D2D,2d'2d2][f2f2F2C2A,2E,2B,,2F,,2D2D,2f'2f2] | [e2=C2G,2e2d2D,2D,,2A2C2G,2F2^C2A,2E,2B,,2F,,2=C,2C2e'2E2C2C,2e2]C,C,0[CC,] [F2^C2A,2E,2B,,2F,,2=C2C,2][c2D,2D,,2F2^C2A,2E,2B,,2F,,2=C2C,2] [F2^C2A,2E,2B,,2F,,2=C2C,2][C2C,2] | [c2A,2E,2c2B2D,2D,,2G2A,2E,2F2C2A,2E,2B,,2F,,2A,2A,,2c'2C2A,2A,,2c2][F2C2A,2E,2B,,2F,,2][A,A,,] [d2d2F2C2A,2E,2B,,2F,,2A,2A,,2d'2d2][e2C2A,2e2A2D,2D,,2F2C2A,2E,2B,,2F,,2A,2A,,2e'2e2] [A,2A,,2][F2C2A,2E,2B,,2F,,2A,2A,,2] | [f2D2A,2f2d2F2D,2D,,2F2D2A,2F2C2A,2E,2B,,2F,,2D,2D2f'2F2D2D,2D,2D,,2f2E,2]D,D,0[DD,] [F2C2A,2E,2B,,2F,,2D2D,2][d2F2D,2D,,2F2C2A,2E,2B,,2F,,2D2D,2] [F2C2A,2E,2B,,2F,,2D2D,2][D2D,2] |\n",
    "[d2F2D,2D,,2F2C2A,2E,2B,,2F,,2D,2D2][F0C0A,0E,0B,,0F,,0D,0]<D,0[DD,] [d2d2F2C2A,2E,2B,,2F,,2D2D,2d'2d2][f2D2A,2f2d2F2D,2D,,2F2D2A,2F2C2A,2E,2B,,2F,,2D2D,2f'2f2] [d2d2D2D,2][f2f2F2C2A,2E,2B,,2F,,2D2D,2] | [b2F2D2b2e2G2D,2D,,2F2D2F2C2A,2E,2B,,2F,,2B,2B,,2b'2B2G2G,2b2]>[B,2B,,2] [F2C2A,2E,2B,,2F,,2B,2B,,2][d2G2D,2D,,2F2C2A,2E,2B,,2F,,2B,2B,,2] [F2C2A,2E,2B,,2F,,2B,2B,,2][B,2B,,2] | [a2F2C2a2a2F2D,2D,,2A2C2F2C2A,2E,2B,,2F,,2F,2F,,2a'2A2F2F,2a2][F2C2A,2E,2B,,2F,,2][F,F,,] [F2C2A,2E,2B,,2F,,2F,2F,,2][D2B,2d2F2D,2D,,2G2D2B,2F2C2A,2E,2B,,2F,,2G,2G,,2] [g2g2e2G,2G,,2g'2g2][f2f2c2F2C2A,2E,2B,,2F,,2G,2G,,2f'2f2] | [e2C2A,2e2d2A2D,2D,,2E2C2A,2F2C2A,2E,2B,,2F,,2A,,2A,2e'2e2E2D,2E,2D,,2e2C,2]A,,A,,0[A,A,,] [F2C2A,2E,2B,,2F,,2A,2A,,2][D,2D,,2F2C2A,2E,2B,,2F,,2A,2A,,2] [F2C2A,2E,2B,,2F,,2A,2A,,2][A,2A,,2] |\n",
    "[D,2D,,2F2C2A,2E,2B,,2F,,2A,2A,,2][F2C2A,2E,2B,,2F,,2A,2A,,2] [F2C2A,2E,2B,,2F,,2A,2A,,2][D,2D,,2F2C2A,2E,2B,,2F,,2A,2A,,2] [A,2A,,2][F2C2A,2E,2B,,2F,,2A,2A,,2] | [d2B,2G,2d2a2d2D,2D,,2d2B,2G,2F2C2A,2E,2B,,2F,,2G,,2G,2d'2g2D2D,2d2]G,,G,,0[G,G,,] [F2C2A,2E,2B,,2F,,2G,2G,,2][D,2D,,2F2C2A,2E,2B,,2F,,2G,2G,,2] [e2e2F2C2A,2E,2B,,2F,,2G,2G,,2e'2e2][f2f2G,2G,,2f'2f2] | [e2C2A,2e2d2A2D,2D,,2e2C2A,2F2C2A,2E,2B,,2F,,2A,,2A,2e'2a2E2E,2e2][F0C0A,0E,0B,,0F,,0A,,0]<A,,0[A,A,,] [F2C2A,2E,2B,,2F,,2A,2A,,2][D,2D,,2F2C2A,2E,2B,,2F,,2A,2A,,2] [A,2A,,2][F2C2A,2E,2B,,2F,,2A,2A,,2] | [B,2G,2d2B,2G,2F2C2A,2E,2B,,2F,,2G,,2G,2f2D2D,2D,2D,,2]G,,G,,0[G,G,,] [d2d2F2C2A,2E,2B,,2F,,2G,2G,,2d'2d2][d2d2F2C2A,2E,2B,,2F,,2G,2G,,2d'2d2] [e2e2F2C2A,2E,2B,,2F,,2G,2G,,2e'2e2][f2f2G,2G,,2f'2f2] |\n",
    "[e2C2A,2e2e2C2A,2F2C2A,2E,2B,,2F,,2A,,2A,2e'2e2C2C,2e2][F0C0A,0E,0B,,0F,,0A,,0]<A,,0[A,A,,] [F2C2A,2E,2B,,2F,,2A,2A,,2][F2C2A,2E,2B,,2F,,2A,2A,,2] [A,2A,,2][d2d2F2C2A,2E,2B,,2F,,2A,2A,,2d'2d2] | [d2d2d2D2A,2F2C2A,2E,2B,,2F,,2D,2D2d'2d2D2D,2d2]D,0[DD,] [F2C2A,2E,2B,,2F,,2D2D,2][F2C2A,2E,2B,,2F,,2D2D,2] [F2C2A,2E,2B,,2F,,2D2D,2][D2D,2] | [F2C2A,2E,2B,,2F,,2D,2D2][F0C0A,0E,0B,,0F,,0]<D,0[DD,] [F2C2A,2E,2B,,2F,,2D2D,2][F2C2A,2E,2B,,2F,,2D2D,2] [D2D,2][F2C2A,2E,2B,,2F,,2D2D,2] | [D,4D,4G4D,4G,4G4D,4]>[A4A4] [B4B4] |\n",
    "[G4G4] [=C,4C,4G4C,4G4C,4]>[A4A4] | [B4B4] [G4G4] [B,,4B,,4G4B,,4G,4G4B,,4] | [A4A4] [B4B4] [e2e2][B2B2] | [E,8E,8d8E,8d8E,8] [A,,8A,,8A8D,8A8D,8] |\n",
    "[=C,6A6C,6A6C,6][BB]c | =ccc2>G2G4< [A,,4A,,4A4A,,4] |[AB]B =ccc3G3G2 | [G,,6E6G,,6E6G,,6][GG][A4A4][D21D21] |\n",
    "[=C12G,,12C12G,,12] | [D4D4] | [G,8G,8] [A,8A,8] | [A,,16A,,16A,,16] |\n",
    "[G2G,,2G,2G,,2G,2G,,2G,,2][G14G,14] | [d4D,4d4F4D4D,4D,,4d4] [f4f4A4f4] [a6a6c6a6] |[g2g2B2g2] [g8g8B8F8g8] | [f8f8A8f8] [d4D,4d4F4G4D,4D,,4d4] |\n",
    "[f4f4A4f4] [a4a4c4a4]>[g4g4B4g4] | [f16f16A16A16f16] | [d4D,4d4G4D4D,4D,,4d4] [g4g4B4g4] | [b4b4d4b4]>[a4a4d4a4] [a8a8c8B8a8] |\n",
    "[g6g6B6g6][aaa][g2g2g2] | [f8D,8f8A8G8D,8D,,8f8] F8 | [d4d4F4d4d4] [f4f4B4f4] | [b4b4d4b4]>[a4a4c4a4] [a8D,8a8c8A8D,8D,,8a8] |\n",
    "[g6g6B6g6][ggg][f2f2f2] | [e16e16A16E16e16] | [D,16D16D,16D,,16] | [d0D,0d0A0D0F,,0F0f0D0D,0D,0D,,0d0A0D0] B,,4 E,4 A,4 C4 |\n",
    "[f4f4A4a4f4] [a4a4c4c'4a4]>[g4g4B4b4g4] | [g0g0F,,0B0b0F0F,0g0] B,,8 E,8 A,8 C8 [f8f8d8E8A8a8f8d8E8] | [d0D,0d0A0A,0F,,0F0f0G0D,0G,0D,,0d0A0D0] B,,4 E,4 A,4 C4 [f4f4A4a4f4] | [a4a4c4c'4a4]>[g4g4B4b4g4] [f16f16F16F,16F,,16A16a16A16A,16f16F16D16] B,,16 E,16 A,16 C16 |\n",
    "[d0D,0d0D,0B,0F,,0G0g0D0D,0D,0D,,0d0] B,, E, A, CG,,D,[B,G,,] [ggD,Bbg]G,,[B,D,]G,, [bbD,dd'b]G,,D,G,, | [B,D,][B,G,,][a2a2D,2d2d'2a2]G,, [a0a0D,0A,0F,,0c0c'0B0B,0a0] B,, E, A, CG,,D,[A,G,,] D,G,,[A,D,]G,, | [ggD,Bbg]G,,D,G,, [A,D,][A,G,,][aaa]D,0[g2g2g2]G,, [f8D,8f8E8F,,8A8a8G8D,8G,8D,,8f8E,8] [A8B,,8] E,8 A,8 C8 | [F8F,8] |\n",
    "[d0d0F,,0F0f0d0D0d0] B,,4 E,4 A,4 C4 [f4f4B4b4f4] [b6b6d6d'6b6] |[a2a2c2c'2a2] [a0D,0a0F,,0c0c'0A0D,0A,0D,,0a0] B,,8 E,8 A,8 C8 | [g6g6B6b6g6][ggg][f2f2f2] [e0e0F,,0A0a0E0E,0e0] B,,16 E,16 A,16 C16 | [D,16F,,16D16D,16D,16D,,16] B,,16 E,16 A,16 C16 |\n",
    "[d2d2D,2d2D2D,2D2A,2D,2A,,2D,,2d2]D,0[DD,] [D2D,2][D2D,2] | [D2D,2][D2D,2] [D,2D2]D,0[DD,] [f2f2D2D,2f2][f2f2D2D,2] | [d2d2D2D,2d2][f2f2D2D,2f2] [g2G2D,2g2A,2D,2D2G,2G,,2g2]D,0[DD,] [D2D,2][D2D,2] | [D2D,2][D2D,2] [f2F2f2A,2D,2D,2D2A,2A,,2f2]D,0[DD,] [D2D,2][D2D,2] |\n",
    "[D2D,2][D2D,2] [d2d2D,2d2D,2D2D2D,2D,2D,,2d2]D,0[DD,] [D2D,2][D2D,2] | [D2D,2][D2D,2] [D,2D2]D,0[DD,] [f2f2D2D,2f2][f2f2D2D,2] | [d2d2D2D,2d2][f2f2D2D,2f2] [eeG,,e=C,CCC,e]d[A0C,0]<C,0[CC,] [C2C,2][G2C2C,2] | [=C2C,2][C2C,2] [^c2c2A,2A,,2A,2A,,2c2]>[A,2A,,2] [d2d2A,2A,,2d2][e2F2D,2e2A,2A,,2e2] |\n",
    "[A,2A,,2][A,2A,,2] [f2D,2f2D2D,2D2d2D2D,2D,2D,,2f2]D,D,0[DD,] [D2D,2][E2D2D,2e2] | [D2D,2][D2D,2] [F2D,2D2f2]D,D,0[DD,] [d2d2D2D,2d2][f2f2D2D2D,2d2f2] | [d2d2D2D,2][f2f2D2D,2] [b2b2G2B,2B,,2g2G2G,2b2]>[B,2B,,2] [B,2B,,2][B,2B,,2] | [B,2B,,2][B,2B,,2] [a2a2F2F,2F,,2f2F2F,2a2]>[F,2F,,2] [F,2F,,2][G,2G,,2] |\n",
    "[g2g2A2G,2G,,2g2][f2f2F2G,2G,,2f2] [e2D,2e2E2A,,2A,2E2D,2E,2D,,2e2]A,,A,,0[A,A,,] [A,2A,,2][A,2A,,2] | [A,2A,,2][A,2A,,2] [A,2A,,2][A,2A,,2] [A,2A,,2][A,2A,,2] | [A,2A,,2][A,2A,,2] [d2d2G,,2G,2D2D,2d2]G,,G,,0[G,G,,] [G,2G,,2][G,2G,,2] | [e2e2G,2G,,2e2][f2f2G,2G,,2f2] [e2e2A,,2A,2E2E,2e2]A,,A,,0[A,A,,] [A,2A,,2][A,2A,,2] |\n",
    "[A,2A,,2][A,2A,,2] [D,2G,,2G,2D2D,2D,2D,,2]G,,G,,0[G,G,,] [d2d2G,2G,,2d2][d2d2G,2G,,2d2] | [e2e2G,2G,,2e2][f2f2G,2G,,2f2] [e2e2A,,2A,2C2C,2e2]A,,A,,0[A,A,,] [A,2A,,2][A,2A,,2] | [A,2A,,2][d2d2A,2A,,2d2] [d2d2D,2D2D2D,2d2]D,0[DD,] [D2D,2][D2D,2] | [D2D,2][D2D,2] [D,2D2]D,0[DD,] [D2D,2][D2D,2] |\n",
    "[D2D,2][D2D,2] [d2A,2F,2d2D,2D,,2A2A,2F,2F2C2A,2E,2B,,2F,,2D,2D2d'2F2A,2D,2A,,2D,,2d2E,2]D,0[DD,] [F2C2A,2E,2B,,2F,,2D2D,2][D,2D,,2F2C2A,2E,2B,,2F,,2D2D,2] | [F2C2A,2E,2B,,2F,,2D2D,2][D2D,2] [D,2D,,2F2C2A,2E,2B,,2F,,2D,2D2][F0C0A,0E,0B,,0F,,0]<D,0[DD,] [f2f2F2C2A,2E,2B,,2F,,2D2D,2f'2f2][f2D2A,2f2D,2D,,2d2D2A,2F2C2A,2E,2B,,2F,,2D2D,2] | [d2d2D2D,2d'2d2][f2f2F2C2A,2E,2B,,2F,,2D2D,2f'2f2] [g2D2B,2g2D2D,2D,,2A2D2B,2F2C2A,2E,2B,,2F,,2D,2D2g'2G2G,2G,,2g2]D,0[DD,] [F2C2A,2E,2B,,2F,,2D2D,2][D2D,2D,,2F2C2A,2E,2B,,2F,,2D2D,2] | [F2C2A,2E,2B,,2F,,2D2D,2][D2D,2] [f2D2A,2f2D2D,2D,,2F2D2A,2F2C2A,2E,2B,,2F,,2D,2D2f'2F2A,2A,,2f2][F0C0A,0E,0B,,0F,,0]<D,0[DD,] [F2C2A,2E,2B,,2F,,2D2D,2][D2D,2D,,2F2C2A,2E,2B,,2F,,2D2D,2] |\n",
    "[D2D,2][F2C2A,2E,2B,,2F,,2D2D,2] [d2A,2F,2d2A2D,2D,,2A2A,2F,2F2C2A,2E,2B,,2F,,2D,2D2d'2F2D2D,2D,2D,,2d2G,2E,2]D,0[DD,] [F2C2A,2E,2B,,2F,,2D2D,2][A2D,2D,,2F2C2A,2E,2B,,2F,,2D2D,2] | [F2C2A,2E,2B,,2F,,2D2D,2][D2D,2] [A2D,2D,,2F2C2A,2E,2B,,2F,,2D,2D2][F0C0A,0E,0B,,0F,,0]<D,0[DD,] [f2f2F2C2A,2E,2B,,2F,,2D2D,2f'2f2][f2D2A,2f2A2D,2D,,2d2D2A,2F2C2A,2E,2B,,2F,,2D2D,2] | [d2d2D2D,2d'2d2][f2f2F2C2A,2E,2B,,2F,,2D2D,2f'2f2] [e2=C2G,2e2d2D,2D,,2A2C2G,2F2^C2A,2E,2B,,2F,,2=C,2C2e'2E2C2C,2e2]C,C,0[CC,] [F2^C2A,2E,2B,,2F,,2=C2C,2][c2D,2D,,2F2^C2A,2E,2B,,2F,,2=C2C,2] | [F2C2A,2E,2B,,2F,,2=C2C,2][C2C,2] [^c2A,2E,2c2B2D,2D,,2G2A,2E,2F2C2A,2E,2B,,2F,,2A,2A,,2c'2C2A,2A,,2c2][F2C2A,2E,2B,,2F,,2][A,A,,] [d2d2F2C2A,2E,2B,,2F,,2A,2A,,2d'2d2][e2C2A,2e2A2D,2D,,2F2C2A,2E,2B,,2F,,2A,2A,,2e'2e2] |\n",
    "[A,2A,,2][F2C2A,2E,2B,,2F,,2A,2A,,2] [f2D2A,2f2d2F2D,2D,,2F2D2A,2F2C2A,2E,2B,,2F,,2D,2D2f'2F2D2D,2D,2D,,2f2E,2]D,D,0[DD,] [F2C2A,2E,2B,,2F,,2D2D,2][d2F2D,2D,,2F2C2A,2E,2B,,2F,,2D2D,2] | [F2C2A,2E,2B,,2F,,2D2D,2][D2D,2] [d2F2D,2D,,2F2C2A,2E,2B,,2F,,2D,2D2][F0C0A,0E,0B,,0F,,0D,0]<D,0[DD,] [d2d2F2C2A,2E,2B,,2F,,2D2D,2d'2d2][f2D2A,2f2d2F2D,2D,,2F2D2A,2F2C2A,2E,2B,,2F,,2D2D,2f'2f2] | [d2d2D2D,2][f2f2F2C2A,2E,2B,,2F,,2D2D,2] [b2F2D2b2e2G2D,2D,,2F2D2F2C2A,2E,2B,,2F,,2B,2B,,2b'2B2G2G,2b2]>[B,2B,,2] [F2C2A,2E,2B,,2F,,2B,2B,,2][d2G2D,2D,,2F2C2A,2E,2B,,2F,,2B,2B,,2] | [F2C2A,2E,2B,,2F,,2B,2B,,2][B,2B,,2] [a2F2C2a2a2F2D,2D,,2A2C2F2C2A,2E,2B,,2F,,2F,2F,,2a'2A2F2F,2a2][F2C2A,2E,2B,,2F,,2][F,F,,] [F2C2A,2E,2B,,2F,,2F,2F,,2][D2B,2d2F2D,2D,,2G2D2B,2F2C2A,2E,2B,,2F,,2G,2G,,2] |\n",
    "[g2g2e2G,2G,,2g'2g2][f2f2c2F2C2A,2E,2B,,2F,,2G,2G,,2f'2f2] [e2C2A,2e2d2A2D,2D,,2E2C2A,2F2C2A,2E,2B,,2F,,2A,,2A,2e'2e2E2D,2E,2D,,2e2C,2]A,,A,,0[A,A,,] [F2C2A,2E,2B,,2F,,2A,2A,,2][D,2D,,2F2C2A,2E,2B,,2F,,2A,2A,,2] | [F2C2A,2E,2B,,2F,,2A,2A,,2][A,2A,,2] [D,2D,,2F2C2A,2E,2B,,2F,,2A,2A,,2][F2C2A,2E,2B,,2F,,2A,2A,,2] [F2C2A,2E,2B,,2F,,2A,2A,,2][D,2D,,2F2C2A,2E,2B,,2F,,2A,2A,,2] | [A,2A,,2][F2C2A,2E,2B,,2F,,2A,2A,,2] [d2B,2G,2d2a2d2D,2D,,2d2B,2G,2F2C2A,2E,2B,,2F,,2G,,2G,2d'2g2D2D,2d2]G,,G,,0[G,G,,] [F2C2A,2E,2B,,2F,,2G,2G,,2][D,2D,,2F2C2A,2E,2B,,2F,,2G,2G,,2] | [e2e2F2C2A,2E,2B,,2F,,2G,2G,,2e'2e2][f2f2G,2G,,2f'2f2] [e2C2A,2e2d2A2D,2D,,2e2C2A,2F2C2A,2E,2B,,2F,,2A,,2A,2e'2a2E2E,2e2][F0C0A,0E,0B,,0F,,0A,,0]<A,,0[A,A,,] [F2C2A,2E,2B,,2F,,2A,2A,,2][D,2D,,2F2C2A,2E,2B,,2F,,2A,2A,,2] |\n",
    "[A,2A,,2][F2C2A,2E,2B,,2F,,2A,2A,,2] [B,2G,2d2B,2G,2F2C2A,2E,2B,,2F,,2G,,2G,2f2D2D,2D,2D,,2]G,,G,,0[G,G,,] [d2d2F2C2A,2E,2B,,2F,,2G,2G,,2d'2d2][d2d2F2C2A,2E,2B,,2F,,2G,2G,,2d'2d2] | [e2e2F2C2A,2E,2B,,2F,,2G,2G,,2e'2e2][f2f2G,2G,,2f'2f2] [e2C2A,2e2e2C2A,2F2C2A,2E,2B,,2F,,2A,,2A,2e'2e2C2C,2e2][F0C0A,0E,0B,,0F,,0A,,0]<A,,0[A,A,,] [F2C2A,2E,2B,,2F,,2A,2A,,2][F2C2A,2E,2B,,2F,,2A,2A,,2] | [A,2A,,2][d2d2F2C2A,2E,2B,,2F,,2A,2A,,2d'2d2] [d2d2d2D2A,2F2C2A,2E,2B,,2F,,2D,2D2d'2d2D2D,2d2]D,0[DD,] [F2C2A,2E,2B,,2F,,2D2D,2][F2C2A,2E,2B,,2F,,2D2D,2] | [F2C2A,2E,2B,,2F,,2D2D,2][D2D,2] [F2C2A,2E,2B,,2F,,2D,2D2][F0C0A,0E,0B,,0F,,0]<D,0[DD,] [F2C2A,2E,2B,,2F,,2D2D,2][F2C2A,2E,2B,,2F,,2D2D,2] |\n",
    "[D2D,2][F2C2A,2E,2B,,2F,,2D2D,2] F,,24 B,,24 E,24 A,24 C24 F24 |\n",
    "'''\n",
    "\n",
    "\n",
    "\n",
    "music_abc = header + music_abc"
   ]
  },
  {
   "cell_type": "code",
   "execution_count": 13,
   "metadata": {},
   "outputs": [
    {
     "data": {
      "text/plain": [
       "\"\\n\\n[dD,]FddDd| [dDD,Ff]f [ddD]dB [d^Gd]B[A_C,] | [D2F2c2][F2D,2D,2]=c2 |\\n[ebE]c[_ge][d'4c4e4d'4d4G4 D4g4g4G4C4 |\\nG2 [e'4E4C,4e4] | [c'4B4]c2 d4 a4 |\\nd f4=e' [c'^AeE]bG | [D,E]cF[a']A[adf] | [a'GFC,]c'b[g'e']B,[dfGB,] | [Eeg][Bb'eeE]<[bFfFB,,,,]ed[aAB,,] [ga][a0G0b0] [d4D,,,,4] [a0e0B0]<G0 [^C0D0G0d0B,\\n\""
      ]
     },
     "execution_count": 13,
     "metadata": {},
     "output_type": "execute_result"
    }
   ],
   "source": [
    "music_abc = '''\n",
    "X: 1\n",
    "T: Cooley's\n",
    "M: 4/4\n",
    "R: reel\n",
    "K: Cmin\n",
    "X: 1\n",
    "T: Cooley's\n",
    "M: 4/4\n",
    "L: 1/8\n",
    "R: reel\n",
    "K: Emin\n",
    "g|\"a\"a2a \"A\"Age|\"Bm\"fec \"E7\"edB|\"A\"A3 -A2||\n",
    "\"A\"e3 -c3|\"F#m\"ABA ABc|\"E7\"dcB \"A\"A3| \"A7\"AEG cdc|\"D\"\"B/f+\"d3 d2e|\"Eb\"g2f efg|\\\n",
    "\"A7\"a3 a2f|\"D\"efe d2c|\"D\"def af\\\n",
    "|\n",
    "\"G\"\"Bb\"b2b \"D\"\"Bm\"b2b|\"D\"a3 \"A7\"a3|\"D\"A3 \"Bm\"a3|\"Em\"b3 \"A7\"a3||\n",
    "\"Am\"c'ag efe|\"Am\"dcB A2G|\"Am\"aAA eAd|\"Am\"\"em\"A3 \"D7\"def|\n",
    "\"G\"g3 \"D\"f3|\"C\"efe \"G\"dzd|\"C\"efe dgc|\"D\"d3 \"A7\"d2:|\n",
    "P:B\n",
    "e|\"D\"f2f fed|\"Am\"ecA \"G\"B2e|\"Am\"ede \"Dm\"faf|\"E7\"efe edB|\"Am\"ABA \"Em\"\"Bm\"B2A|\n",
    "\"Am\"AcA A2G|A2G c2G|\"Am\"EAA A2B|c2B c2d|\"Am\"e3 ||\n",
    "e|\"G\"dBB BAG|\"D\"AGA \"Bm\"d2d|\"A7\"cdc \"D\"d3|\n",
    "\"G\"g2d \"C\"efe|\"Am\"d3 -d2e|\"Dm\"fed \"G7\"g2d|\"C\"e2d \"C\"e3|\"G\"d2g \"D\"bga|\"C\"gfe \"G\"d2B|\"Am\"c2A \"G7\"DFE|\"G\"G2A \"D7\"B2c|\\\n",
    "\"G\"B3 -B2c|\"Am\"A2G \"D7\"E2F|\"G\"G3 G2:|\n",
    "\"D\"ABA AFD|\"D\"AFA \"G\"BAA|\"D\"AFA def|\"A7\"gfe \"D\"d3:|\n",
    "f|\"Em\"efg BBB|efg B2B|\"Em\"egf \"A7\"gfe|\"D\"d3 d2:|\n",
    "c|\"G\"deg \"C\"gfe|\"G\"dcB \"Am\"ABc|\"Em\"BAG \"D7\"ABc|\"G\"BAG G2:|\n",
    "P:B\n",
    "g|\"G\"gfg gdg|\"D7\"fdf dfd|\"G\"Bdg bgb|\"D7\"aba dfa|\"G\"bga gag|\"D\"fga agf|\n",
    "\"C\"ege \"G/b\"dgg|\"D7/a\"cgg \"G\"BgB \"D7\"cBA|\"G\"G3 -G2A||\n",
    "\"F\"AAA cfe|\"Bm\"d3 -dB_c|\"Bb\"BAB gBB|fF\n",
    "'''\n",
    "\n",
    "'''\n",
    "\n",
    "[dD,]FddDd| [dDD,Ff]f [ddD]dB [d^Gd]B[A_C,] | [D2F2c2][F2D,2D,2]=c2 |\n",
    "[ebE]c[_ge][d'4c4e4d'4d4G4 D4g4g4G4C4 |\n",
    "G2 [e'4E4C,4e4] | [c'4B4]c2 d4 a4 |\n",
    "d f4=e' [c'^AeE]bG | [D,E]cF[a']A[adf] | [a'GFC,]c'b[g'e']B,[dfGB,] | [Eeg][Bb'eeE]<[bFfFB,,,,]ed[aAB,,] [ga][a0G0b0] [d4D,,,,4] [a0e0B0]<G0 [^C0D0G0d0B,\n",
    "'''"
   ]
  },
  {
   "cell_type": "markdown",
   "metadata": {},
   "source": [
    "- remove #\n",
    "- bracket linter\n",
    "- invalid: `[d4c'C4A,4C,4f4f4A4A,4,C4]`. no note in chord after number and closing `]`\n",
    "- after `[` cannot start with a number\n",
    "- syntax: http://abcnotation.com/wiki/abc:standard:v2.1"
   ]
  },
  {
   "cell_type": "code",
   "execution_count": 14,
   "metadata": {},
   "outputs": [
    {
     "name": "stdout",
     "output_type": "stream",
     "text": [
      "\n",
      "X: 1\n",
      "T: Cooley's\n",
      "M: 4/4\n",
      "R: reel\n",
      "K: Cmin\n",
      "X: 1\n",
      "T: Cooley's\n",
      "M: 4/4\n",
      "L: 1/8\n",
      "R: reel\n",
      "K: Emin\n",
      "g|\"a\"a2a \"A\"Age|\"Bm\"fec \"E7\"edB|\"A\"A3 -A2||\n",
      "\"A\"e3 -c3|\"F#m\"ABA ABc|\"E7\"dcB \"A\"A3| \"A7\"AEG cdc|\"D\"\"B/f+\"d3 d2e|\"Eb\"g2f efg|\"A7\"a3 a2f|\"D\"efe d2c|\"D\"def af|\n",
      "\"G\"\"Bb\"b2b \"D\"\"Bm\"b2b|\"D\"a3 \"A7\"a3|\"D\"A3 \"Bm\"a3|\"Em\"b3 \"A7\"a3||\n",
      "\"Am\"c'ag efe|\"Am\"dcB A2G|\"Am\"aAA eAd|\"Am\"\"em\"A3 \"D7\"def|\n",
      "\"G\"g3 \"D\"f3|\"C\"efe \"G\"dzd|\"C\"efe dgc|\"D\"d3 \"A7\"d2:|\n",
      "P:B\n",
      "e|\"D\"f2f fed|\"Am\"ecA \"G\"B2e|\"Am\"ede \"Dm\"faf|\"E7\"efe edB|\"Am\"ABA \"Em\"\"Bm\"B2A|\n",
      "\"Am\"AcA A2G|A2G c2G|\"Am\"EAA A2B|c2B c2d|\"Am\"e3 ||\n",
      "e|\"G\"dBB BAG|\"D\"AGA \"Bm\"d2d|\"A7\"cdc \"D\"d3|\n",
      "\"G\"g2d \"C\"efe|\"Am\"d3 -d2e|\"Dm\"fed \"G7\"g2d|\"C\"e2d \"C\"e3|\"G\"d2g \"D\"bga|\"C\"gfe \"G\"d2B|\"Am\"c2A \"G7\"DFE|\"G\"G2A \"D7\"B2c|\"G\"B3 -B2c|\"Am\"A2G \"D7\"E2F|\"G\"G3 G2:|\n",
      "\"D\"ABA AFD|\"D\"AFA \"G\"BAA|\"D\"AFA def|\"A7\"gfe \"D\"d3:|\n",
      "f|\"Em\"efg BBB|efg B2B|\"Em\"egf \"A7\"gfe|\"D\"d3 d2:|\n",
      "c|\"G\"deg \"C\"gfe|\"G\"dcB \"Am\"ABc|\"Em\"BAG \"D7\"ABc|\"G\"BAG G2:|\n",
      "P:B\n",
      "g|\"G\"gfg gdg|\"D7\"fdf dfd|\"G\"Bdg bgb|\"D7\"aba dfa|\"G\"bga gag|\"D\"fga agf|\n",
      "\"C\"ege \"G/b\"dgg|\"D7/a\"cgg \"G\"BgB \"D7\"cBA|\"G\"G3 -G2A||\n",
      "\"F\"AAA cfe|\"Bm\"d3 -dB_c|\"Bb\"BAB gBB|fF\n",
      "\n"
     ]
    }
   ],
   "source": [
    "print(music_abc)"
   ]
  },
  {
   "cell_type": "code",
   "execution_count": 15,
   "metadata": {
    "collapsed": true,
    "scrolled": false
   },
   "outputs": [],
   "source": [
    "from music21 import *\n",
    "abcScore = converter.parse(music_abc, format='abc')\n",
    "mf = midi.translate.streamToMidiFile(abcScore)\n",
    "mf.open('./midi_epoch20-03.mid', 'wb')\n",
    "mf.write()\n",
    "mf.close()"
   ]
  },
  {
   "cell_type": "code",
   "execution_count": null,
   "metadata": {
    "collapsed": true
   },
   "outputs": [],
   "source": []
  },
  {
   "cell_type": "code",
   "execution_count": null,
   "metadata": {
    "collapsed": true
   },
   "outputs": [],
   "source": []
  }
 ],
 "metadata": {
  "kernelspec": {
   "display_name": "Python (cs478project)",
   "language": "python",
   "name": "cs478project"
  },
  "language_info": {
   "codemirror_mode": {
    "name": "ipython",
    "version": 3
   },
   "file_extension": ".py",
   "mimetype": "text/x-python",
   "name": "python",
   "nbconvert_exporter": "python",
   "pygments_lexer": "ipython3",
   "version": "3.6.7"
  }
 },
 "nbformat": 4,
 "nbformat_minor": 2
}
