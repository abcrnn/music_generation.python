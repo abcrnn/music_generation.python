{
 "cells": [
  {
   "cell_type": "markdown",
   "metadata": {},
   "source": [
    "## Quick Abc to midi converter\n",
    "- http://www.mandolintab.net/abcconverter.php\n",
    "\n",
    "\n",
    "## Major and Minor\n",
    "- https://www.youtube.com/watch?v=fKpUBsn_jmA\n",
    "- help create mood and atmossphere of music"
   ]
  },
  {
   "cell_type": "code",
   "execution_count": 1,
   "metadata": {},
   "outputs": [],
   "source": [
    "import os\n",
    "import json\n",
    "import numpy as np\n",
    "import pandas as pd\n",
    "import matplotlib.pyplot as plt\n",
    "import sys\n",
    "# Some more magic so that the notebook will reload external python modules;\n",
    "# see http://stackoverflow.com/questions/1907993/autoreload-of-modules-in-ipython\n",
    "%load_ext autoreload\n",
    "%autoreload 2"
   ]
  },
  {
   "cell_type": "code",
   "execution_count": 2,
   "metadata": {
    "collapsed": true
   },
   "outputs": [],
   "source": [
    "BATCH_SIZE = 16\n",
    "N_GRAM = 64\n",
    "MODEL_DIR = './music_model/04_21_19_LayersGeneric_transfer_256_128_classical_cleaned_small_batchsize20_window30/'\n",
    "# MODEL_DIR = './music_model/04_22_19_BindirectionalLayersGeneric_TRANSFER_256_128_jig_horn_cleaned_small_batchsize20_window30/'\n",
    "# MODEL_DIR = ''\n",
    "# MODEL_DIR = './music_model/04_20_19_LayersRNNGeneric_256_128_classical_fixed_activation_batchsize8000/'\n",
    "# MODEL_DIR = './music_model/04_20_19_LayersRNNGeneric_256_128_jig_hog_fixed_activation_batchsize16/'#good model\n",
    "DATA_PATH = './data/jig_hornpipes_cleaned.txt'\n",
    "MODEL_TYPE = 'Default'#unuse for now\n",
    "BATCH_SIZE = 1\n",
    "starting = '''[a2D2F,2][f2D,2]'''\n",
    "SEQ_LENGTH = len(starting)"
   ]
  },
  {
   "cell_type": "code",
   "execution_count": null,
   "metadata": {
    "collapsed": true
   },
   "outputs": [],
   "source": []
  },
  {
   "cell_type": "code",
   "execution_count": 3,
   "metadata": {},
   "outputs": [
    {
     "name": "stdout",
     "output_type": "stream",
     "text": [
      "n_vocab 34\n"
     ]
    }
   ],
   "source": [
    "with open(os.path.join(MODEL_DIR, 'model_dictionary.json')) as f:\n",
    "    vocab_map = json.load(f)\n",
    "\n",
    "n_vocab = len(vocab_map['idx2char'])\n",
    "\n",
    "print('n_vocab', n_vocab)"
   ]
  },
  {
   "cell_type": "code",
   "execution_count": 4,
   "metadata": {
    "scrolled": false
   },
   "outputs": [
    {
     "name": "stderr",
     "output_type": "stream",
     "text": [
      "Using TensorFlow backend.\n"
     ]
    },
    {
     "name": "stdout",
     "output_type": "stream",
     "text": [
      "_________________________________________________________________\n",
      "Layer (type)                 Output Shape              Param #   \n",
      "=================================================================\n",
      "embedding_1 (Embedding)      (1, 16, 512)              17408     \n",
      "_________________________________________________________________\n",
      "lstm_0_256 (LSTM)            (1, 16, 256)              787456    \n",
      "_________________________________________________________________\n",
      "drop_0 (Dropout)             (1, 16, 256)              0         \n",
      "_________________________________________________________________\n",
      "lstm_1_128 (LSTM)            (1, 128)                  197120    \n",
      "_________________________________________________________________\n",
      "drop_1 (Dropout)             (1, 128)                  0         \n",
      "_________________________________________________________________\n",
      "dense_1 (Dense)              (1, 34)                   4386      \n",
      "_________________________________________________________________\n",
      "activation_1 (Activation)    (1, 34)                   0         \n",
      "=================================================================\n",
      "Total params: 1,006,370\n",
      "Trainable params: 1,006,370\n",
      "Non-trainable params: 0\n",
      "_________________________________________________________________\n",
      "\n",
      " None\n"
     ]
    }
   ],
   "source": [
    "from models import MusicModel\n",
    "# model = MusicModel(n_vocab).TwoLayerLSTM(batch_input_shape=(BATCH_SIZE, 1))\n",
    "# model = MusicModel(n_vocab).TwoLayerLSTM(batch_input_shape=(BATCH_SIZE, SEQ_LENGTH))\n",
    "\n",
    "model = MusicModel(n_vocab, 'test').LayersRNNGeneric(batch_input_shape=(BATCH_SIZE, SEQ_LENGTH),\n",
    "                                            layers=['lstm', 'lstm'], \n",
    "                                             layers_size=[256, 128],\n",
    "                                             emb_dim=512,\n",
    "                                             drop_rate=0.15)\n",
    "# model = MusicModel(n_vocab, phase='test').BidirectionalLayersRNNGeneric(batch_input_shape=(BATCH_SIZE, SEQ_LENGTH),\n",
    "#                                                     layers=['lstm','lstm'], \n",
    "#                                                      emb_dim=256,\n",
    "#                                                      layers_size=[256, 128], drop_rate=0.6)\n",
    "\n",
    "# model = MusicModel(n_vocab).LSTMSkipConnection(batch_input_shape=(BATCH_SIZE, SEQ_LENGTH),\n",
    "# #                                                                 layers=[128, 256, 128],\n",
    "#                                                                layers = [128,256,128],\n",
    "#                                                                 emb_dim=256,drop_rate=0.35)\n",
    "\n",
    "# model = MusicModel(n_vocab, phase='test').ResidualLSTM(batch_input_shape=(BATCH_SIZE, SEQ_LENGTH),\n",
    "#                                         rnn_width=128,\n",
    "#                                         rnn_depth=5,\n",
    "#                                         drop_rate=0.15)\n",
    "\n",
    "# model = MusicModel(n_vocab).LSTMSkipConnectionDropBetween(batch_input_shape=(BATCH_SIZE, SEQ_LENGTH),\n",
    "#             layers=[256, 256], \n",
    "#             emb_dim=356, drop_rate=0.15)\n",
    "    \n",
    "# model = MusicModel(n_vocab).LSTMSkipConnection(batch_input_shape=(BATCH_SIZE, SEQ_LENGTH),\n",
    "# #                     layers=[128, 256, 128],\n",
    "#                     layers = [256],\n",
    "#                     emb_dim=256,drop_rate=0.3)\n",
    "print('\\n',model.summary())\n"
   ]
  },
  {
   "cell_type": "code",
   "execution_count": 5,
   "metadata": {
    "collapsed": true
   },
   "outputs": [],
   "source": [
    "from keras.utils import plot_model\n",
    "plot_model(model, to_file='test.png')"
   ]
  },
  {
   "cell_type": "code",
   "execution_count": 6,
   "metadata": {
    "scrolled": false
   },
   "outputs": [],
   "source": [
    "model.load_weights(MODEL_DIR+'/model_weight/'+\"Weights_{}.h5\".format(40)) #by_name=True"
   ]
  },
  {
   "cell_type": "code",
   "execution_count": 7,
   "metadata": {},
   "outputs": [
    {
     "data": {
      "text/plain": [
       "{'0': '[',\n",
       " '1': '6',\n",
       " '2': '^',\n",
       " '3': '1',\n",
       " '4': 'a',\n",
       " '5': 'C',\n",
       " '6': 'g',\n",
       " '7': 'd',\n",
       " '8': ']',\n",
       " '9': '\\\\',\n",
       " '10': 'c',\n",
       " '11': 'D',\n",
       " '12': '\\n',\n",
       " '13': ',',\n",
       " '14': '2',\n",
       " '15': '|',\n",
       " '16': '9',\n",
       " '17': '7',\n",
       " '18': '5',\n",
       " '19': 'E',\n",
       " '20': 'G',\n",
       " '21': '3',\n",
       " '22': ' ',\n",
       " '23': 'b',\n",
       " '24': '>',\n",
       " '25': '<',\n",
       " '26': '_',\n",
       " '27': 'F',\n",
       " '28': '4',\n",
       " '29': '8',\n",
       " '30': 'A',\n",
       " '31': 'f',\n",
       " '32': 'e',\n",
       " '33': 'B'}"
      ]
     },
     "metadata": {},
     "output_type": "display_data"
    }
   ],
   "source": [
    "display(vocab_map['idx2char'])"
   ]
  },
  {
   "cell_type": "code",
   "execution_count": 20,
   "metadata": {},
   "outputs": [
    {
     "data": {
      "text/plain": [
       "16"
      ]
     },
     "execution_count": 20,
     "metadata": {},
     "output_type": "execute_result"
    }
   ],
   "source": [
    "len(starting)"
   ]
  },
  {
   "cell_type": "code",
   "execution_count": 9,
   "metadata": {},
   "outputs": [],
   "source": [
    "\n",
    "\n",
    "def generate_sequence_seq_as_inp(model, vocab_map, seq_length=300,starting='''\"D7\"A^GA DFA''', return_heatmap=False):\n",
    "    if return_heatmap: heat_map = np.zeros(shape=(2, 5+1, seq_length))# 1: idx, 2: is the probility of that index\n",
    "    sequence_index = [int(vocab_map['char2idx'][c]) for c in starting]\n",
    "    seq_len = len(starting)\n",
    "    n_vocab = len(vocab_map['idx2char'])\n",
    "    for i in range(seq_length-seq_len):\n",
    "        batch = np.zeros((1, seq_len))\n",
    "        batch[0] = sequence_index[-seq_len:]\n",
    "        predicted_probs = model.predict_on_batch(batch).ravel()\n",
    "#         print(predicted_probs.shape)\n",
    "        sample = np.random.choice(range(n_vocab), size = 1, p = predicted_probs)[0]\n",
    "        sequence_index.append(sample)\n",
    "#         print(sorted(predicted_probs, reverse=True)[:10])\n",
    "        \n",
    "        if return_heatmap:\n",
    "            heat_map[0,0,i] = sample\n",
    "            heat_map[1,0,i] = predicted_probs[sample]\n",
    "            heat_map[0,1:,i] = sorted_idx = np.argsort(predicted_probs)[-5:][::-1].astype(int)#reversed\n",
    "            heat_map[1,1:,i] = predicted_probs[sorted_idx]\n",
    "    str_seq = seq = ''.join(vocab_map['idx2char'][str(c)] for c in sequence_index)\n",
    "    \n",
    "    #postprocessing here\n",
    "    if return_heatmap:\n",
    "        return str_seq, heat_map\n",
    "    else: return str_seq\n",
    "    \n",
    "def generate_sequence(model, vocab_map, initial_index=0, seq_length=300, return_heatmap=False):\n",
    "    \n",
    "    if return_heatmap: heat_map = np.zeros(shape=(2, 5+1, seq_length))# 1: idx, 2: is the probility of that index\n",
    "    \n",
    "    \n",
    "    sequence_index = [initial_index]\n",
    "    n_vocab = len(vocab_map['idx2char'])\n",
    "    prev_note = '\\n'\n",
    "    stop_note = ['\\n', '%', ']', '[', ' ']\n",
    "    for i in range(seq_length):\n",
    "        batch = np.zeros((1, 1))\n",
    "        batch[0, 0] = sequence_index[-1]\n",
    "#         print(batch)\n",
    "        predicted_probs = model.predict_on_batch(batch)[-1].ravel()\n",
    "        sample = np.random.choice(range(n_vocab), size = 1, p = predicted_probs)[0]\n",
    "#         sample = np.argmax(predicted_probs)\n",
    "        if return_heatmap:\n",
    "            heat_map[0,0,i] = sample\n",
    "            heat_map[1,0,i] = predicted_probs[sample]\n",
    "            heat_map[0,1:,i] = sorted_idx = np.argsort(predicted_probs)[-5:][::-1].astype(int)#reversed\n",
    "            heat_map[1,1:,i] = predicted_probs[sorted_idx]\n",
    "#         print(sorted_idx)\n",
    "#         heat_map[np.argsort(predicted_probs)]\n",
    "#         print(predicted_probs)\n",
    "#         sample = np.argmax(predicted_probs)\n",
    "#         print(predicted_probs)\n",
    "#         print(predicted_probs)\n",
    "#         while vocab_map['idx2char'][str(sample[0])] in ['\\n', '%']:\n",
    "#         print(sample[0])\n",
    "#         if  vocab_map['idx2char'][str(sample[0])] in ['\\n','%', '\\\\']:\n",
    "#             continue\n",
    "#         while vocab_map['idx2char'][str(sample[0])] in stop_note and prev_note in stop_note:\n",
    "#             sample = np.random.choice(range(n_vocab), size = 1, p = predicted_probs)\n",
    "#         print(predicted_probs)\n",
    "#         print(sample[0])\n",
    "\n",
    "        prev_note = vocab_map['idx2char'][str(sample)]\n",
    "        sequence_index.append(sample) \n",
    "    \n",
    "    str_seq = seq = ''.join(vocab_map['idx2char'][str(c)] for c in sequence_index)\n",
    "    \n",
    "    #postprocessing here\n",
    "    if return_heatmap:\n",
    "        return str_seq, heat_map\n",
    "    else: return str_seq\n",
    "    "
   ]
  },
  {
   "cell_type": "markdown",
   "metadata": {},
   "source": [
    "A, G^GF|\"D\"DFF \"A7\"ecA|\"A\"A2e ecA|\"Bm\"e2d \"B7\"d2f|\"A\"eed cea|\"D\"agd \"D\"F2:|\n",
    "P:B\n",
    "c/2G/2|\"D\"E^FE a2A|\"A/f+\"c2^c \"G\"B2d|\"D\"def aed|\"C\"e2e cAG|\"Em\"B2A GBc|\"D\"F3 A3|\n",
    "\"G\"B2B B2||\n",
    "\n",
    "\n",
    "d/2e/2|\"F7\"fed \"A7\"c3|\"Am\"EcA \"A7\"GGA|\n",
    "\"G\"BcB \"C7\"e2e|\"Bm\"ded def|\"G\"d3 \"D7\"FAF|\n",
    "\"D\"a2a f2e|\"A7\"BcA AB,|\"D7\"D2, D2:|\n",
    "P:B\n",
    "g|\"D\""
   ]
  },
  {
   "cell_type": "code",
   "execution_count": 15,
   "metadata": {},
   "outputs": [
    {
     "name": "stdout",
     "output_type": "stream",
     "text": [
      "[a2D2F,2][f2D,2] | e[f2^G2G,2]B [f2A2][e2G2] | [f2A2D2][e2^C2] | f[e2G2]fg [f2A,2]a[gB] | fa5g[fd]e d5^cB[e2c2] |A,2f[e2B,2] ^f[b2C2] | D[g2C2]F, |\n",
      "[d2B,,2]>E,2 [g2B2G,2]>G,2 | [c2B2A,2]>G,2 [A2E2C2A,2] |\n",
      "G2>[B2^C2] [GB]FEF |\n",
      "[G_E]BAG [f2D2]g2 |\n",
      "f2e2 [d2C2]e2 | f2B2 d2^c2 |d2[e2G2]f efg[a2D2] ga[b2D2] |\n",
      "^C2[f2D2]e2[e2E2] |\n",
      "B,2[^c2A,2] d[g2B,2]F, | _E,dD,[e2^C,2]A,, | fgB[e2C,2]^F,2d |\n",
      "b[b2D,2]^C,2[fD,] | 3e2d2c2 3E,2D,2^C, |\n",
      "D,^C,E,_E, [DF,]E,D,C | DG^FE\n",
      "F2G,,2 [F2B2A,2D,2][G2E,2] | [d2A,2F,2]^c2 [_e2E2^c2][c2E,2] |\n",
      "F,,2[g2G,,2] [^G2F,2][B2_E,2] |\n",
      "[D2^F,2] C2B,2 | C4 [G2B,2]A,2 | [D2B,2G,2] [C4A,4] | B,4 [D4A,4] ^G,4 | [e4D4F,4] G,2[D4E4] | [F4A4C4] _B,4 | [c4F4A,4]>G,4 | [c4F,4D,4] B,,4 | [e^F4F,,4] B4 | [G4_E,4E,4] B,4 | ^G,2^F,2 G,4e | A,1F, |\n",
      "[f4G4B,4]>[g4C4] | [f4D4F,4] F,2G, | [A4A,4F,4] ^F,4[BG,E,]G, | [AF,F,]Bc^FG,> | A,4 D,2^G,4 |\n",
      "F,4 E,4 F,2G,2 | [F4D4A,4F,4] [G,4E4] | [D4F4C,4A,4] E4 | [G4D4^F,4A,4]>E4 | [B4^F,4] G,4 [d6A,6] |\n",
      "[F4G,4G,4] [E4G4B,4] |\n",
      "[F4C4] [A4G44] |\n",
      "B,4 [^G4\n"
     ]
    }
   ],
   "source": [
    "gen, heatmap = generate_sequence_seq_as_inp(model, vocab_map, seq_length=1000,starting=starting, return_heatmap=True)\n",
    "print(gen)"
   ]
  },
  {
   "cell_type": "code",
   "execution_count": 13,
   "metadata": {},
   "outputs": [
    {
     "name": "stdout",
     "output_type": "stream",
     "text": [
      "\"D7\"A^GA DFADtAA|GG DFA|AAA|\"G\n",
      "\"AA\"AAA|\"GG\"A7 AcB|\"GG\"A\"eAAA-\"GG\"B\"AAAAGcGG\"G\"AAAAGBGG|A\"AAAAGBGG|\n",
      "\"Ac\"BGAGG|\n",
      "\"AB\"BG GG|\n",
      "\"AB2B GGG|\n",
      "\"AB2B GGG|\n",
      "\"AB2 dGGG|G\"GBd GGcF|\n",
      "\"GBdG GFA||\"GBd DGFA|\n",
      "\"Gdd 3FF:|\n",
      "\"G/:e/:a\n",
      "\n",
      "\n",
      "\n",
      "/6::/:\n",
      "\n",
      "\n",
      "\n",
      "\n",
      "\n",
      ":::::\n",
      "\n",
      "\n",
      "PFP:::\n",
      "3K::Mu)P:\n",
      "\n",
      "::::K8\n",
      "P\n",
      "\n",
      "\n",
      "P:::\\:\n",
      "\n",
      "\n",
      "\n",
      "PP:C:\n",
      "::\n",
      "\n",
      "\n",
      ":::PP\n",
      "\n",
      "\n",
      ":\n",
      "\n",
      "P::6:\n",
      "\n",
      "|P:\n",
      "P:::\n",
      "\n",
      ":/:::.:3PABBPPP::]VBBEF4K1>aAzM!lIhuFuoiD7u-h]:['v0Vl%Pp]!9\\I1%[Ks~pnvs0oIS%s0Cznhr%!88u>s%t\n"
     ]
    }
   ],
   "source": [
    "print(gen)"
   ]
  },
  {
   "cell_type": "code",
   "execution_count": 25,
   "metadata": {
    "scrolled": false
   },
   "outputs": [
    {
     "name": "stdout",
     "output_type": "stream",
     "text": [
      "%\"D\"cB3 \"Am\"a2ee/2e|\"E \"G3| d d3E^d2B d\\\n",
      "\n",
      "P:|\"A2A3 \"^d|\"d|\"C\"c3 \"g/2dd dc3 \"g|\"D\"A \"\"E c+\"D\"D\"fagdB3 \"E7\"G\"c|\n",
      "P:B|\"D\"ab9Ia2d|\"F|\"af+\"G2f/4|B3/2:|\n",
      "P:|\\\n",
      "B,Em\"d|\"C\"AB7\"GF3:|\"ABMm\"DEm\"A\"cBd2d2A\"Ag ^f3 e3 G\" f|\"fedgf|D\"AB \"B2d \"G|\"D\"C\"CP:C\"de3Em\"C\"dg|\"cdbae|\"GFGB\n",
      "\"ag||\\\n",
      "P:F3 \"A/2Em\"f|\"A|\"A \"C\"ed2BABm\"d2edef|\"G\"D\"G\"d|\"C\"C\"B,C\"=cdBm\"GFA\"D\"df3 -Ac/2d|\"addBc/2b2B,BB|\"Em\"A2aga2:B2e|\"de|de \"B|\"A6|\"DF|\n",
      "\n",
      "\n",
      "a BA d||e|\n",
      "\n",
      "d/2-\"ABcB B|\"G d|\n",
      "\n",
      "P:|ce|[2a de|\"GEm\"F|\"DFG edgb2cB2a2AG3ce|\"D|\"d \"D\"D\"g/2GBcB2d \"ed|\n",
      "P:|\"ded| fef Cd c/2agB ed2\"d2BA\"G\"A/2cAG3 Am\"B Bc3 \"A g2A \"agf|\"C\"b \"Am\"C\"e \"G3 dBBcAF|\n",
      "\"fae2e3|\n",
      "\n",
      "d|:|\n",
      "\n",
      "\"d|\\\n",
      "\"B\n",
      "\"D/2|\n",
      "\"D\"Em\"ecBcG A|\n",
      "ag|\"D \"d|\n",
      "BcBm\"D\"E d|\"D c\\\n",
      "P:t\n",
      "\n",
      "\"D3 ABce|\"GA2efe|\"(1ag|\"D\"D7\"G\"F\"f|\"f2a3 \"D7\"c3/2a \"GF|A2B\n",
      "P:|\"a3 Bm\"A/2d -ded-dc|\"d \"f2fee||B \"d -Bc3 d c|\n",
      "A GABGF#!\"D B2FP:A\"Em\"FG\"agbaefe2\"Em\"D7\"D\"G d|\"e/2ga2cAc|\"G \"G3 aga2B2B gfaf|\"f|\"gfe d3 \"=cB7\"F| d cd3 \"Az2ag|\n",
      "B7\"G7\"a2BA\"\"D \"Bc'b2G f||\n",
      "\"GF|\"dcBc|\"E|d2A\"e2ag|\"^d \"Agfa3 -fe|\"G|\n",
      "\n",
      "\"ddBc c'3|\"GFG \"D\"A\"d2a2fed d^dcedf2AB3 g|d2efed2fd2e|\n",
      "\n"
     ]
    }
   ],
   "source": [
    "import random\n",
    "initial_index = np.random.randint(0, n_vocab, size=(1,))[0]\n",
    "music_abc, heatmap = generate_sequence(model, vocab_map, initial_index=initial_index, seq_length=1000, return_heatmap=True)\n",
    "# /**/\n",
    "print(music_abc)"
   ]
  },
  {
   "cell_type": "code",
   "execution_count": 15,
   "metadata": {},
   "outputs": [
    {
     "name": "stdout",
     "output_type": "stream",
     "text": [
      "[[ 0.01541017  0.01494989  0.01602851 ...,  0.01488989  0.0199335\n",
      "   0.01592204]\n",
      " [ 0.0162839   0.0165707   0.01745183 ...,  0.01685495  0.02203951\n",
      "   0.01638138]\n",
      " [ 0.01616734  0.01641496  0.01719277 ...,  0.01679535  0.0199335\n",
      "   0.01619886]]\n"
     ]
    }
   ],
   "source": [
    "print(heatmap[1, :3])"
   ]
  },
  {
   "cell_type": "code",
   "execution_count": 26,
   "metadata": {},
   "outputs": [
    {
     "data": {
      "text/plain": [
       "<matplotlib.axes._subplots.AxesSubplot at 0x2ac68c4c8860>"
      ]
     },
     "execution_count": 26,
     "metadata": {},
     "output_type": "execute_result"
    },
    {
     "data": {
      "image/png": "[encoded data removed]",
      "text/plain": [
       "<Figure size 720x1440 with 1 Axes>"
      ]
     },
     "metadata": {
      "needs_background": "light"
     },
     "output_type": "display_data"
    }
   ],
   "source": [
    "import pandas as pd\n",
    "from collections import Counter\n",
    "a = sorted(list(music_abc))\n",
    "letter_counts = Counter(a)\n",
    "df = pd.DataFrame.from_dict(letter_counts, orient='index')\n",
    "df.plot(kind='bar', figsize=(10,20))"
   ]
  },
  {
   "cell_type": "code",
   "execution_count": 19,
   "metadata": {},
   "outputs": [
    {
     "data": {
      "text/plain": [
       "<matplotlib.axes._subplots.AxesSubplot at 0x2b934cce6588>"
      ]
     },
     "execution_count": 19,
     "metadata": {},
     "output_type": "execute_result"
    },
    {
     "data": {
      "image/png": "[encoded data removed]",
      "text/plain": [
       "<Figure size 720x1440 with 1 Axes>"
      ]
     },
     "metadata": {
      "needs_background": "light"
     },
     "output_type": "display_data"
    }
   ],
   "source": [
    "import pandas as pd\n",
    "from collections import Counter\n",
    "a = sorted(list(music_abc))\n",
    "letter_counts = Counter(a)\n",
    "df = pd.DataFrame.from_dict(letter_counts, orient='index')\n",
    "df.plot(kind='bar', figsize=(10,20))"
   ]
  },
  {
   "cell_type": "code",
   "execution_count": 11,
   "metadata": {
    "collapsed": true
   },
   "outputs": [],
   "source": [
    "def idx_to_char(idx):\n",
    "    return vocab_map['idx2char'][str(int(idx))]\n",
    "\n",
    "vfunc = np.vectorize(idx_to_char)"
   ]
  },
  {
   "cell_type": "code",
   "execution_count": 12,
   "metadata": {
    "collapsed": true
   },
   "outputs": [],
   "source": [
    "text_map= vfunc(heatmap[0,:,0:100])"
   ]
  },
  {
   "cell_type": "code",
   "execution_count": 13,
   "metadata": {},
   "outputs": [
    {
     "data": {
      "text/plain": [
       "array([[  9.99591887e-01,   9.99994397e-01,   6.59476280e-01,\n",
       "          2.73013920e-01],\n",
       "       [  9.99591887e-01,   9.99994397e-01,   6.59476280e-01,\n",
       "          5.37013412e-01],\n",
       "       [  1.89481623e-04,   2.59176750e-06,   3.33892822e-01,\n",
       "          2.73013920e-01],\n",
       "       [  1.72658300e-04,   8.15329713e-07,   4.36530728e-03,\n",
       "          6.63040951e-02]])"
      ]
     },
     "execution_count": 13,
     "metadata": {},
     "output_type": "execute_result"
    }
   ],
   "source": [
    "heatmap[1,:,0:1000][:4,:4]"
   ]
  },
  {
   "cell_type": "code",
   "execution_count": 14,
   "metadata": {},
   "outputs": [
    {
     "name": "stderr",
     "output_type": "stream",
     "text": [
      "/home/cseos2g/datduyn/.conda/envs/cs478project/lib/python3.6/site-packages/matplotlib/tight_layout.py:176: UserWarning: Tight layout not applied. The left and right margins cannot be made large enough to accommodate all axes decorations. \n",
      "  warnings.warn('Tight layout not applied. The left and right margins '\n"
     ]
    },
    {
     "data": {
      "image/png": "[encoded data removed]",
      "text/plain": [
       "<Figure size 432x288 with 2 Axes>"
      ]
     },
     "metadata": {
      "needs_background": "light"
     },
     "output_type": "display_data"
    }
   ],
   "source": [
    "#https://matplotlib.org/gallery/images_contours_and_fields/image_annotated_heatmap.html\n",
    "fig, ax = plt.subplots()\n",
    "im = ax.imshow(heatmap[1,:,0:30])\n",
    "\n",
    "# Loop over data dimensions and create text annotations.\n",
    "for i in range(len(text_map)):\n",
    "    for j in range(len(text_map[0])):\n",
    "        text = ax.text(j, i, text_map[i, j],\n",
    "                       ha=\"center\", va=\"center\", color=\"w\")\n",
    "# fig.colorbar(ax)\n",
    "fig.colorbar(im,ax=ax)\n",
    "fig.tight_layout()"
   ]
  },
  {
   "cell_type": "code",
   "execution_count": 154,
   "metadata": {},
   "outputs": [
    {
     "data": {
      "text/plain": [
       "array([[  5.98930180e-01,   6.99655414e-01,   9.98980939e-01,\n",
       "          6.74393117e-01,   4.61797208e-01,   2.62753487e-01,\n",
       "          7.37917781e-01,   9.84767139e-01,   2.62753487e-01,\n",
       "          8.93393159e-01],\n",
       "       [  9.20788348e-02,   2.06741422e-01,   2.28617093e-04,\n",
       "          1.20498024e-01,   2.19840884e-01,   1.96328655e-01,\n",
       "          2.03195214e-01,   4.51483112e-03,   1.96328655e-01,\n",
       "          2.31623147e-02],\n",
       "       [  5.88871650e-02,   3.22715864e-02,   1.66049082e-04,\n",
       "          5.39283492e-02,   1.18779249e-01,   1.88566580e-01,\n",
       "          2.05463115e-02,   3.28564504e-03,   1.88566580e-01,\n",
       "          1.42358653e-02],\n",
       "       [  5.53393178e-02,   3.03188227e-02,   9.80730038e-05,\n",
       "          2.70178188e-02,   9.04975384e-02,   7.19026774e-02,\n",
       "          1.64709259e-02,   2.77934317e-03,   7.19026774e-02,\n",
       "          1.26095721e-02],\n",
       "       [  3.86340655e-02,   1.29396087e-02,   9.12688774e-05,\n",
       "          1.58256814e-02,   3.36676463e-02,   6.42791986e-02,\n",
       "          1.52911050e-02,   2.75164819e-03,   6.42791986e-02,\n",
       "          1.14591857e-02]])"
      ]
     },
     "execution_count": 154,
     "metadata": {},
     "output_type": "execute_result"
    }
   ],
   "source": [
    "heat_map[1]"
   ]
  },
  {
   "cell_type": "code",
   "execution_count": null,
   "metadata": {
    "collapsed": true
   },
   "outputs": [],
   "source": [
    "out_soft\n",
    "\n",
    "[ 0.00881344  0.00819033  0.01003748  0.01439313  0.01566641  0.02012172\n",
    "  0.02670544  0.01429924  0.00817159  0.0243393   0.01808797  0.00786304\n",
    "  0.02059154  0.00654612  0.01358718  0.01904634  0.00678441  0.01074101\n",
    "  0.00991203  0.01018245  0.02273625  0.01028684  0.0168102   0.01229161\n",
    "  0.01059775  0.00779227  0.01728607  0.00806514  0.02377261  0.00976335\n",
    "  0.01870234  0.01534564  0.01961709  0.01604964  0.00974267  0.01735051\n",
    "  0.03136642  0.02046453  0.01430773  0.01043758  0.0158743   0.01535269\n",
    "  0.01675558  0.01484622  0.00879462  0.01782196  0.01018771  0.02304659\n",
    "  0.01717358  0.00904324  0.00585431  0.02191257  0.01342308  0.00722929\n",
    "  0.02692387  0.01162753  0.00651205  0.00807466  0.01137613  0.01136241\n",
    "  0.02234575  0.00584393  0.0216484   0.01242542  0.01709915  0.05033881\n",
    "  0.01023974]\n",
    "[ 0.02316007  0.01488934  0.00380305  0.01023144  0.02200833  0.0071333\n",
    "  0.00962085  0.00867375  0.04411287  0.00929209  0.02736273  0.00992851\n",
    "  0.00402567  0.01422336  0.04081254  0.0120401   0.05193588  0.01331224\n",
    "  0.02914766  0.00534466  0.0457323   0.00564058  0.04919361  0.02759544\n",
    "  0.00616586  0.04105065  0.01936003  0.00687145  0.00368081  0.00510364\n",
    "  0.01049835  0.00649755  0.00277873  0.00251447  0.01110584  0.01216636\n",
    "  0.00242664  0.00095192  0.00866162  0.00846107  0.00206614  0.01816297\n",
    "  0.02370209  0.006257    0.00408039  0.0126074   0.01218091  0.00544341\n",
    "  0.01421754  0.01640938  0.00847971  0.00798011  0.00543279  0.00355627\n",
    "  0.00132769  0.01281493  0.03602673  0.03887602  0.00417642  0.00482891\n",
    "  0.02533414  0.01454004  0.02662339  0.00611772  0.00744368  0.03605494\n",
    "  0.00774393]"
   ]
  },
  {
   "cell_type": "code",
   "execution_count": null,
   "metadata": {
    "collapsed": true
   },
   "outputs": [],
   "source": []
  },
  {
   "cell_type": "code",
   "execution_count": 9,
   "metadata": {
    "collapsed": true
   },
   "outputs": [],
   "source": [
    "#header info: http://trillian.mit.edu/~jc/music/abc/doc/ABCtut_Headers.html#I_Key\n",
    "header = '''\n",
    "X: 1\n",
    "T:AbcRnn\n",
    "% abcRnn\n",
    "M:4/4\n",
    "K:Cmin\n",
    "'''\n",
    "\n",
    "selected = '''\n",
    "^D/2A/2B/2A/2A F2F/2G/2|\n",
    "Aca aag|f/2a/2g/2f/2d/2 e3:|\n",
    "\\\n",
    "A/2g/2f/2g/2|\n",
    "f/2a3/2\n",
    "e/2A/2 f/2g/2g/2f/2d/2^G/2|\n",
    "\"D\"f2d/2d/2 \"Bm\"a3/2f/2a/2|\"Em\"g3 \"E7/c+\"e2d|\"A7/c+\"e2e \"F/f+\"d2c|\"Bm\"B2B A2^g|\n",
    "\"B7\"a2f f2f|\"E\"g2e \"B7\"B2d|\"B7\"e2f g2g|\"B7\"a3 a2f|\n",
    "\"D7\"d3 -c=cd|\"G\"B2G GBd|\"C\"e2e c2e|\"Am\"a3 \"G7\"g2d|\"C\"g3 z2:|\n",
    "P:C\n",
    "\n",
    "\n",
    "-----------------------------------------------------------------------------\n",
    "_ef|\"A\"a^ag \"D\"fed|\"F\"ecA \"G\"Bcd|\"Am\"e3 -\"D7\"d2||\n",
    "K:D\n",
    "\"D\"AFA \"G\"Bcd|\"D\"Adf \"G\"gab|\"D\"agf def|\"A7\"edc A2a|\"A7\"afd e2c|\n",
    "\"D\"d3 d2f|\"D\"A2f \"A/e\"c2e|\"Bm\"dcd \"E7\"e3|\"A\"cBc def|\n",
    "\"Bm\"dfB BcB|\"A\"cde \"E7\"e2A|[1\"A\"A3 -A2||\n",
    " [2\"A\"A3 A2G/2F/2|E/2A/2e/2 \"D\"dcd|\"A\"e3 e2c|\"A\"A3 -A7||\n",
    "K\n",
    "K:D\n",
    "\"D\"[2F2A \"A\"ABc|\"Bm\"d2d \"D\n",
    "'''\n",
    "\n",
    "selected = '''\n",
    "X:1\n",
    "M:3/4\n",
    "L:1/16\n",
    "K:Bm\n",
    "[D,2D,2D,,2]>D,2 D,2D,2 D,2D,2 | D,2>D,2 D,2D,2 D,2D,2 | D,2>D,2 D,2D,2 D,2D,2 | D,2>D,2 D,2D,2 D,2D,2 | [d2D,2D2A,2D,2A,,2D,,2]D,0[DD,] [D2D,2][D2D,2] [D2D,2][D2D,2] |\n",
    "[D,2D2]D,0[DD,] [f2D2D,2][f2D2D,2] [d2D2D,2][f2D2D,2] | [g2D,2D2G,2G,,2]D,0[DD,] [D2D,2][D2D,2] [D2D,2][D2D,2] | [f2D,2D2A,2A,,2]D,0[DD,] [D2D,2][D2D,2] [D2D,2][D2D,2] | [d2D,2D2D2D,2D,2D,,2]D,0[DD,] [D2D,2][D2D,2] [D2D,2][D2D,2] |\n",
    "[D,2D2]D,0[DD,] [f2D2D,2][f2D2D,2] [d2D2D,2][f2D2D,2] | [e2=C,2C2C2C,2]C,C,0[CC,] [C2C,2][C2C,2] [C2C,2][C2C,2] | [c2A,2A,,2A,2A,,2]>[A,2A,,2] [d2A,2A,,2][e2A,2A,,2] [A,2A,,2][A,2A,,2] | [f2D,2D2D2D,2D,2D,,2]D,D,0[DD,] [D2D,2][D2D,2] [D2D,2][D2D,2] |\n",
    "[D,2D2]D,D,0[DD,] [d2D2D,2][f2D2D,2] [d2D2D,2][f2D2D,2] | [b2B,2B,,2G2G,2]>[B,2B,,2] [B,2B,,2][B,2B,,2] [B,2B,,2][B,2B,,2] | [a2F,2F,,2F2F,2]>[F,2F,,2] [F,2F,,2][G,2G,,2] [g2G,2G,,2][f2G,2G,,2] | [e2A,,2A,2E2D,2E,2D,,2]A,,A,,0[A,A,,] [A,2A,,2][A,2A,,2] [A,2A,,2][A,2A,,2] |\n",
    "[A,2A,,2][A,2A,,2] [A,2A,,2][A,2A,,2] [A,2A,,2][A,2A,,2] | [d2G,,2G,2D2D,2]G,,G,,0[G,G,,] [G,2G,,2][G,2G,,2] [e2G,2G,,2][f2G,2G,,2] | [e2A,,2A,2E2E,2]A,,A,,0[A,A,,] [A,2A,,2][A,2A,,2] [A,2A,,2][A,2A,,2] | [G,,2G,2D2D,2D,2D,,2]G,,G,,0[G,G,,] [d2G,2G,,2][d2G,2G,,2] [e2G,2G,,2][f2G,2G,,2] |\n",
    "[e2A,,2A,2C2C,2]A,,A,,0[A,A,,] [A,2A,,2][A,2A,,2] [A,2A,,2][d2A,2A,,2] | [d2D,2D2D2D,2]D,0[DD,] [D2D,2][D2D,2] [D2D,2][D2D,2] | [D,2D2]D,0[DD,] [D2D,2][D2D,2] [D2D,2][D2D,2] | [D,2D,2D,,2]>D,2 D,2D,2 D,2D,2 |\n",
    "D,2>D,2 D,2D,2 D,2D,2 | D,2>D,2 D,2D,2 D,2D,2 | D,2>D,2 D,2D,2 D,2D,2 | [d2d2D2D,2D2A,2D,2A,,2D,,2d2]D,0[DD,] [D2D,2][D2D,2] [D2D,2][D2D,2] |\n",
    "[D,2D2]D,0[DD,] [f2f2D2D,2f2][f2f2D2D,2] [d2d2D2D,2d2][f2f2D2D,2f2] | [g2g2A,2D,2D2G,2G,,2g2]D,0[DD,] [D2D,2][D2D,2] [D2D,2][D2D,2] | [f2f2A,2D,2D,2D2A,2A,,2f2]D,0[DD,] [D2D,2][D2D,2] [D2D,2][D2D,2] | [d2d2D,2D2D2D,2D,2D,,2d2]D,0[DD,] [D2D,2][D2D,2] [D2D,2][D2D,2] |\n",
    "[D,2D2]D,0[DD,] [f2f2D2D,2f2][f2f2D2D,2] [d2d2D2D,2d2][f2f2D2D,2f2] | [e2e2=C,2C2C2C,2e2]C,C,0[CC,] [C2C,2][C2C,2] [C2C,2][C2C,2] | [c2c2A,2A,,2A,2A,,2c2]>[A,2A,,2] [d2d2A,2A,,2d2][e2e2A,2A,,2e2] [A,2A,,2][A,2A,,2] | [f2f2D2D,2D2d2D2D,2D,2D,,2f2]D,D,0[DD,] [D2D,2][E2D2D,2e2] [D2D,2][D2D,2] |\n",
    "[F2D,2D2f2]D,D,0[DD,] [d2d2D2D,2d2][f2f2D2D2D,2d2f2] [d2d2D2D,2][f2f2D2D,2] | [b2b2G2B,2B,,2g2G2G,2b2]>[B,2B,,2] [B,2B,,2][B,2B,,2] [B,2B,,2][B,2B,,2] | [a2a2F2F,2F,,2f2F2F,2a2]>[F,2F,,2] [F,2F,,2][G,2G,,2] [g2g2A2G,2G,,2g2][f2f2F2G,2G,,2f2] | [e2e2E2A,,2A,2E2D,2E,2D,,2e2]A,,A,,0[A,A,,] [A,2A,,2][A,2A,,2] [A,2A,,2][A,2A,,2] |\n",
    "[A,2A,,2][A,2A,,2] [A,2A,,2][A,2A,,2] [A,2A,,2][A,2A,,2] | [d2d2G,,2G,2D2D,2d2]G,,G,,0[G,G,,] [G,2G,,2][G,2G,,2] [e2e2G,2G,,2e2][f2f2G,2G,,2f2] | [e2e2A,,2A,2E2E,2e2]A,,A,,0[A,A,,] [A,2A,,2][A,2A,,2] [A,2A,,2][A,2A,,2] | [G,,2G,2D2D,2D,2D,,2]G,,G,,0[G,G,,] [d2d2G,2G,,2d2][d2d2G,2G,,2d2] [e2e2G,2G,,2e2][f2f2G,2G,,2f2] |\n",
    "[e2e2A,,2A,2C2C,2e2]A,,A,,0[A,A,,] [A,2A,,2][A,2A,,2] [A,2A,,2][d2d2A,2A,,2d2] | [d2d2D,2D2D2D,2d2]D,0[DD,] [D2D,2][D2D,2] [D2D,2][D2D,2] | [D,2D2]D,0[DD,] [D2D,2][D2D,2] [D2D,2][D2D,2] | [d2A,2F,2d2D,2D,,2A2A,2F,2F2C2A,2E,2B,,2F,,2D,2D2d'2F2A,2D,2A,,2D,,2d2E,2]D,0[DD,] [F2C2A,2E,2B,,2F,,2D2D,2][D,2D,,2F2C2A,2E,2B,,2F,,2D2D,2] [F2C2A,2E,2B,,2F,,2D2D,2][D2D,2] |\n",
    "[D,2D,,2F2C2A,2E,2B,,2F,,2D,2D2][F0C0A,0E,0B,,0F,,0]<D,0[DD,] [f2f2F2C2A,2E,2B,,2F,,2D2D,2f'2f2][f2D2A,2f2D,2D,,2d2D2A,2F2C2A,2E,2B,,2F,,2D2D,2] [d2d2D2D,2d'2d2][f2f2F2C2A,2E,2B,,2F,,2D2D,2f'2f2] | [g2D2B,2g2D2D,2D,,2A2D2B,2F2C2A,2E,2B,,2F,,2D,2D2g'2G2G,2G,,2g2]D,0[DD,] [F2C2A,2E,2B,,2F,,2D2D,2][D2D,2D,,2F2C2A,2E,2B,,2F,,2D2D,2] [F2C2A,2E,2B,,2F,,2D2D,2][D2D,2] | [f2D2A,2f2D2D,2D,,2F2D2A,2F2C2A,2E,2B,,2F,,2D,2D2f'2F2A,2A,,2f2][F0C0A,0E,0B,,0F,,0]<D,0[DD,] [F2C2A,2E,2B,,2F,,2D2D,2][D2D,2D,,2F2C2A,2E,2B,,2F,,2D2D,2] [D2D,2][F2C2A,2E,2B,,2F,,2D2D,2] | [d2A,2F,2d2A2D,2D,,2A2A,2F,2F2C2A,2E,2B,,2F,,2D,2D2d'2F2D2D,2D,2D,,2d2G,2E,2]D,0[DD,] [F2C2A,2E,2B,,2F,,2D2D,2][A2D,2D,,2F2C2A,2E,2B,,2F,,2D2D,2] [F2C2A,2E,2B,,2F,,2D2D,2][D2D,2] |\n",
    "[A2D,2D,,2F2C2A,2E,2B,,2F,,2D,2D2][F0C0A,0E,0B,,0F,,0]<D,0[DD,] [f2f2F2C2A,2E,2B,,2F,,2D2D,2f'2f2][f2D2A,2f2A2D,2D,,2d2D2A,2F2C2A,2E,2B,,2F,,2D2D,2] [d2d2D2D,2d'2d2][f2f2F2C2A,2E,2B,,2F,,2D2D,2f'2f2] | [e2=C2G,2e2d2D,2D,,2A2C2G,2F2^C2A,2E,2B,,2F,,2=C,2C2e'2E2C2C,2e2]C,C,0[CC,] [F2^C2A,2E,2B,,2F,,2=C2C,2][c2D,2D,,2F2^C2A,2E,2B,,2F,,2=C2C,2] [F2^C2A,2E,2B,,2F,,2=C2C,2][C2C,2] | [c2A,2E,2c2B2D,2D,,2G2A,2E,2F2C2A,2E,2B,,2F,,2A,2A,,2c'2C2A,2A,,2c2][F2C2A,2E,2B,,2F,,2][A,A,,] [d2d2F2C2A,2E,2B,,2F,,2A,2A,,2d'2d2][e2C2A,2e2A2D,2D,,2F2C2A,2E,2B,,2F,,2A,2A,,2e'2e2] [A,2A,,2][F2C2A,2E,2B,,2F,,2A,2A,,2] | [f2D2A,2f2d2F2D,2D,,2F2D2A,2F2C2A,2E,2B,,2F,,2D,2D2f'2F2D2D,2D,2D,,2f2E,2]D,D,0[DD,] [F2C2A,2E,2B,,2F,,2D2D,2][d2F2D,2D,,2F2C2A,2E,2B,,2F,,2D2D,2] [F2C2A,2E,2B,,2F,,2D2D,2][D2D,2] |\n",
    "[d2F2D,2D,,2F2C2A,2E,2B,,2F,,2D,2D2][F0C0A,0E,0B,,0F,,0D,0]<D,0[DD,] [d2d2F2C2A,2E,2B,,2F,,2D2D,2d'2d2][f2D2A,2f2d2F2D,2D,,2F2D2A,2F2C2A,2E,2B,,2F,,2D2D,2f'2f2] [d2d2D2D,2][f2f2F2C2A,2E,2B,,2F,,2D2D,2] | [b2F2D2b2e2G2D,2D,,2F2D2F2C2A,2E,2B,,2F,,2B,2B,,2b'2B2G2G,2b2]>[B,2B,,2] [F2C2A,2E,2B,,2F,,2B,2B,,2][d2G2D,2D,,2F2C2A,2E,2B,,2F,,2B,2B,,2] [F2C2A,2E,2B,,2F,,2B,2B,,2][B,2B,,2] | [a2F2C2a2a2F2D,2D,,2A2C2F2C2A,2E,2B,,2F,,2F,2F,,2a'2A2F2F,2a2][F2C2A,2E,2B,,2F,,2][F,F,,] [F2C2A,2E,2B,,2F,,2F,2F,,2][D2B,2d2F2D,2D,,2G2D2B,2F2C2A,2E,2B,,2F,,2G,2G,,2] [g2g2e2G,2G,,2g'2g2][f2f2c2F2C2A,2E,2B,,2F,,2G,2G,,2f'2f2] | [e2C2A,2e2d2A2D,2D,,2E2C2A,2F2C2A,2E,2B,,2F,,2A,,2A,2e'2e2E2D,2E,2D,,2e2C,2]A,,A,,0[A,A,,] [F2C2A,2E,2B,,2F,,2A,2A,,2][D,2D,,2F2C2A,2E,2B,,2F,,2A,2A,,2] [F2C2A,2E,2B,,2F,,2A,2A,,2][A,2A,,2] |\n",
    "[D,2D,,2F2C2A,2E,2B,,2F,,2A,2A,,2][F2C2A,2E,2B,,2F,,2A,2A,,2] [F2C2A,2E,2B,,2F,,2A,2A,,2][D,2D,,2F2C2A,2E,2B,,2F,,2A,2A,,2] [A,2A,,2][F2C2A,2E,2B,,2F,,2A,2A,,2] | [d2B,2G,2d2a2d2D,2D,,2d2B,2G,2F2C2A,2E,2B,,2F,,2G,,2G,2d'2g2D2D,2d2]G,,G,,0[G,G,,] [F2C2A,2E,2B,,2F,,2G,2G,,2][D,2D,,2F2C2A,2E,2B,,2F,,2G,2G,,2] [e2e2F2C2A,2E,2B,,2F,,2G,2G,,2e'2e2][f2f2G,2G,,2f'2f2] | [e2C2A,2e2d2A2D,2D,,2e2C2A,2F2C2A,2E,2B,,2F,,2A,,2A,2e'2a2E2E,2e2][F0C0A,0E,0B,,0F,,0A,,0]<A,,0[A,A,,] [F2C2A,2E,2B,,2F,,2A,2A,,2][D,2D,,2F2C2A,2E,2B,,2F,,2A,2A,,2] [A,2A,,2][F2C2A,2E,2B,,2F,,2A,2A,,2] | [B,2G,2d2B,2G,2F2C2A,2E,2B,,2F,,2G,,2G,2f2D2D,2D,2D,,2]G,,G,,0[G,G,,] [d2d2F2C2A,2E,2B,,2F,,2G,2G,,2d'2d2][d2d2F2C2A,2E,2B,,2F,,2G,2G,,2d'2d2] [e2e2F2C2A,2E,2B,,2F,,2G,2G,,2e'2e2][f2f2G,2G,,2f'2f2] |\n",
    "[e2C2A,2e2e2C2A,2F2C2A,2E,2B,,2F,,2A,,2A,2e'2e2C2C,2e2][F0C0A,0E,0B,,0F,,0A,,0]<A,,0[A,A,,] [F2C2A,2E,2B,,2F,,2A,2A,,2][F2C2A,2E,2B,,2F,,2A,2A,,2] [A,2A,,2][d2d2F2C2A,2E,2B,,2F,,2A,2A,,2d'2d2] | [d2d2d2D2A,2F2C2A,2E,2B,,2F,,2D,2D2d'2d2D2D,2d2]D,0[DD,] [F2C2A,2E,2B,,2F,,2D2D,2][F2C2A,2E,2B,,2F,,2D2D,2] [F2C2A,2E,2B,,2F,,2D2D,2][D2D,2] | [F2C2A,2E,2B,,2F,,2D,2D2][F0C0A,0E,0B,,0F,,0]<D,0[DD,] [F2C2A,2E,2B,,2F,,2D2D,2][F2C2A,2E,2B,,2F,,2D2D,2] [D2D,2][F2C2A,2E,2B,,2F,,2D2D,2] | [D,4D,4G4D,4G,4G4D,4]>[A4A4] [B4B4] |\n",
    "[G4G4] [=C,4C,4G4C,4G4C,4]>[A4A4] | [B4B4] [G4G4] [B,,4B,,4G4B,,4G,4G4B,,4] | [A4A4] [B4B4] [e2e2][B2B2] | [E,8E,8d8E,8d8E,8] [A,,8A,,8A8D,8A8D,8] |\n",
    "[=C,6A6C,6A6C,6][BB]c | =ccc2>G2G4< [A,,4A,,4A4A,,4] |[AB]B =ccc3G3G2 | [G,,6E6G,,6E6G,,6][GG][A4A4][D21D21] |\n",
    "[=C12G,,12C12G,,12] | [D4D4] | [G,8G,8] [A,8A,8] | [A,,16A,,16A,,16] |\n",
    "[G2G,,2G,2G,,2G,2G,,2G,,2][G14G,14] | [d4D,4d4F4D4D,4D,,4d4] [f4f4A4f4] [a6a6c6a6] |[g2g2B2g2] [g8g8B8F8g8] | [f8f8A8f8] [d4D,4d4F4G4D,4D,,4d4] |\n",
    "[f4f4A4f4] [a4a4c4a4]>[g4g4B4g4] | [f16f16A16A16f16] | [d4D,4d4G4D4D,4D,,4d4] [g4g4B4g4] | [b4b4d4b4]>[a4a4d4a4] [a8a8c8B8a8] |\n",
    "[g6g6B6g6][aaa][g2g2g2] | [f8D,8f8A8G8D,8D,,8f8] F8 | [d4d4F4d4d4] [f4f4B4f4] | [b4b4d4b4]>[a4a4c4a4] [a8D,8a8c8A8D,8D,,8a8] |\n",
    "[g6g6B6g6][ggg][f2f2f2] | [e16e16A16E16e16] | [D,16D16D,16D,,16] | [d0D,0d0A0D0F,,0F0f0D0D,0D,0D,,0d0A0D0] B,,4 E,4 A,4 C4 |\n",
    "[f4f4A4a4f4] [a4a4c4c'4a4]>[g4g4B4b4g4] | [g0g0F,,0B0b0F0F,0g0] B,,8 E,8 A,8 C8 [f8f8d8E8A8a8f8d8E8] | [d0D,0d0A0A,0F,,0F0f0G0D,0G,0D,,0d0A0D0] B,,4 E,4 A,4 C4 [f4f4A4a4f4] | [a4a4c4c'4a4]>[g4g4B4b4g4] [f16f16F16F,16F,,16A16a16A16A,16f16F16D16] B,,16 E,16 A,16 C16 |\n",
    "[d0D,0d0D,0B,0F,,0G0g0D0D,0D,0D,,0d0] B,, E, A, CG,,D,[B,G,,] [ggD,Bbg]G,,[B,D,]G,, [bbD,dd'b]G,,D,G,, | [B,D,][B,G,,][a2a2D,2d2d'2a2]G,, [a0a0D,0A,0F,,0c0c'0B0B,0a0] B,, E, A, CG,,D,[A,G,,] D,G,,[A,D,]G,, | [ggD,Bbg]G,,D,G,, [A,D,][A,G,,][aaa]D,0[g2g2g2]G,, [f8D,8f8E8F,,8A8a8G8D,8G,8D,,8f8E,8] [A8B,,8] E,8 A,8 C8 | [F8F,8] |\n",
    "[d0d0F,,0F0f0d0D0d0] B,,4 E,4 A,4 C4 [f4f4B4b4f4] [b6b6d6d'6b6] |[a2a2c2c'2a2] [a0D,0a0F,,0c0c'0A0D,0A,0D,,0a0] B,,8 E,8 A,8 C8 | [g6g6B6b6g6][ggg][f2f2f2] [e0e0F,,0A0a0E0E,0e0] B,,16 E,16 A,16 C16 | [D,16F,,16D16D,16D,16D,,16] B,,16 E,16 A,16 C16 |\n",
    "[d2d2D,2d2D2D,2D2A,2D,2A,,2D,,2d2]D,0[DD,] [D2D,2][D2D,2] | [D2D,2][D2D,2] [D,2D2]D,0[DD,] [f2f2D2D,2f2][f2f2D2D,2] | [d2d2D2D,2d2][f2f2D2D,2f2] [g2G2D,2g2A,2D,2D2G,2G,,2g2]D,0[DD,] [D2D,2][D2D,2] | [D2D,2][D2D,2] [f2F2f2A,2D,2D,2D2A,2A,,2f2]D,0[DD,] [D2D,2][D2D,2] |\n",
    "[D2D,2][D2D,2] [d2d2D,2d2D,2D2D2D,2D,2D,,2d2]D,0[DD,] [D2D,2][D2D,2] | [D2D,2][D2D,2] [D,2D2]D,0[DD,] [f2f2D2D,2f2][f2f2D2D,2] | [d2d2D2D,2d2][f2f2D2D,2f2] [eeG,,e=C,CCC,e]d[A0C,0]<C,0[CC,] [C2C,2][G2C2C,2] | [=C2C,2][C2C,2] [^c2c2A,2A,,2A,2A,,2c2]>[A,2A,,2] [d2d2A,2A,,2d2][e2F2D,2e2A,2A,,2e2] |\n",
    "[A,2A,,2][A,2A,,2] [f2D,2f2D2D,2D2d2D2D,2D,2D,,2f2]D,D,0[DD,] [D2D,2][E2D2D,2e2] | [D2D,2][D2D,2] [F2D,2D2f2]D,D,0[DD,] [d2d2D2D,2d2][f2f2D2D2D,2d2f2] | [d2d2D2D,2][f2f2D2D,2] [b2b2G2B,2B,,2g2G2G,2b2]>[B,2B,,2] [B,2B,,2][B,2B,,2] | [B,2B,,2][B,2B,,2] [a2a2F2F,2F,,2f2F2F,2a2]>[F,2F,,2] [F,2F,,2][G,2G,,2] |\n",
    "[g2g2A2G,2G,,2g2][f2f2F2G,2G,,2f2] [e2D,2e2E2A,,2A,2E2D,2E,2D,,2e2]A,,A,,0[A,A,,] [A,2A,,2][A,2A,,2] | [A,2A,,2][A,2A,,2] [A,2A,,2][A,2A,,2] [A,2A,,2][A,2A,,2] | [A,2A,,2][A,2A,,2] [d2d2G,,2G,2D2D,2d2]G,,G,,0[G,G,,] [G,2G,,2][G,2G,,2] | [e2e2G,2G,,2e2][f2f2G,2G,,2f2] [e2e2A,,2A,2E2E,2e2]A,,A,,0[A,A,,] [A,2A,,2][A,2A,,2] |\n",
    "[A,2A,,2][A,2A,,2] [D,2G,,2G,2D2D,2D,2D,,2]G,,G,,0[G,G,,] [d2d2G,2G,,2d2][d2d2G,2G,,2d2] | [e2e2G,2G,,2e2][f2f2G,2G,,2f2] [e2e2A,,2A,2C2C,2e2]A,,A,,0[A,A,,] [A,2A,,2][A,2A,,2] | [A,2A,,2][d2d2A,2A,,2d2] [d2d2D,2D2D2D,2d2]D,0[DD,] [D2D,2][D2D,2] | [D2D,2][D2D,2] [D,2D2]D,0[DD,] [D2D,2][D2D,2] |\n",
    "[D2D,2][D2D,2] [d2A,2F,2d2D,2D,,2A2A,2F,2F2C2A,2E,2B,,2F,,2D,2D2d'2F2A,2D,2A,,2D,,2d2E,2]D,0[DD,] [F2C2A,2E,2B,,2F,,2D2D,2][D,2D,,2F2C2A,2E,2B,,2F,,2D2D,2] | [F2C2A,2E,2B,,2F,,2D2D,2][D2D,2] [D,2D,,2F2C2A,2E,2B,,2F,,2D,2D2][F0C0A,0E,0B,,0F,,0]<D,0[DD,] [f2f2F2C2A,2E,2B,,2F,,2D2D,2f'2f2][f2D2A,2f2D,2D,,2d2D2A,2F2C2A,2E,2B,,2F,,2D2D,2] | [d2d2D2D,2d'2d2][f2f2F2C2A,2E,2B,,2F,,2D2D,2f'2f2] [g2D2B,2g2D2D,2D,,2A2D2B,2F2C2A,2E,2B,,2F,,2D,2D2g'2G2G,2G,,2g2]D,0[DD,] [F2C2A,2E,2B,,2F,,2D2D,2][D2D,2D,,2F2C2A,2E,2B,,2F,,2D2D,2] | [F2C2A,2E,2B,,2F,,2D2D,2][D2D,2] [f2D2A,2f2D2D,2D,,2F2D2A,2F2C2A,2E,2B,,2F,,2D,2D2f'2F2A,2A,,2f2][F0C0A,0E,0B,,0F,,0]<D,0[DD,] [F2C2A,2E,2B,,2F,,2D2D,2][D2D,2D,,2F2C2A,2E,2B,,2F,,2D2D,2] |\n",
    "[D2D,2][F2C2A,2E,2B,,2F,,2D2D,2] [d2A,2F,2d2A2D,2D,,2A2A,2F,2F2C2A,2E,2B,,2F,,2D,2D2d'2F2D2D,2D,2D,,2d2G,2E,2]D,0[DD,] [F2C2A,2E,2B,,2F,,2D2D,2][A2D,2D,,2F2C2A,2E,2B,,2F,,2D2D,2] | [F2C2A,2E,2B,,2F,,2D2D,2][D2D,2] [A2D,2D,,2F2C2A,2E,2B,,2F,,2D,2D2][F0C0A,0E,0B,,0F,,0]<D,0[DD,] [f2f2F2C2A,2E,2B,,2F,,2D2D,2f'2f2][f2D2A,2f2A2D,2D,,2d2D2A,2F2C2A,2E,2B,,2F,,2D2D,2] | [d2d2D2D,2d'2d2][f2f2F2C2A,2E,2B,,2F,,2D2D,2f'2f2] [e2=C2G,2e2d2D,2D,,2A2C2G,2F2^C2A,2E,2B,,2F,,2=C,2C2e'2E2C2C,2e2]C,C,0[CC,] [F2^C2A,2E,2B,,2F,,2=C2C,2][c2D,2D,,2F2^C2A,2E,2B,,2F,,2=C2C,2] | [F2C2A,2E,2B,,2F,,2=C2C,2][C2C,2] [^c2A,2E,2c2B2D,2D,,2G2A,2E,2F2C2A,2E,2B,,2F,,2A,2A,,2c'2C2A,2A,,2c2][F2C2A,2E,2B,,2F,,2][A,A,,] [d2d2F2C2A,2E,2B,,2F,,2A,2A,,2d'2d2][e2C2A,2e2A2D,2D,,2F2C2A,2E,2B,,2F,,2A,2A,,2e'2e2] |\n",
    "[A,2A,,2][F2C2A,2E,2B,,2F,,2A,2A,,2] [f2D2A,2f2d2F2D,2D,,2F2D2A,2F2C2A,2E,2B,,2F,,2D,2D2f'2F2D2D,2D,2D,,2f2E,2]D,D,0[DD,] [F2C2A,2E,2B,,2F,,2D2D,2][d2F2D,2D,,2F2C2A,2E,2B,,2F,,2D2D,2] | [F2C2A,2E,2B,,2F,,2D2D,2][D2D,2] [d2F2D,2D,,2F2C2A,2E,2B,,2F,,2D,2D2][F0C0A,0E,0B,,0F,,0D,0]<D,0[DD,] [d2d2F2C2A,2E,2B,,2F,,2D2D,2d'2d2][f2D2A,2f2d2F2D,2D,,2F2D2A,2F2C2A,2E,2B,,2F,,2D2D,2f'2f2] | [d2d2D2D,2][f2f2F2C2A,2E,2B,,2F,,2D2D,2] [b2F2D2b2e2G2D,2D,,2F2D2F2C2A,2E,2B,,2F,,2B,2B,,2b'2B2G2G,2b2]>[B,2B,,2] [F2C2A,2E,2B,,2F,,2B,2B,,2][d2G2D,2D,,2F2C2A,2E,2B,,2F,,2B,2B,,2] | [F2C2A,2E,2B,,2F,,2B,2B,,2][B,2B,,2] [a2F2C2a2a2F2D,2D,,2A2C2F2C2A,2E,2B,,2F,,2F,2F,,2a'2A2F2F,2a2][F2C2A,2E,2B,,2F,,2][F,F,,] [F2C2A,2E,2B,,2F,,2F,2F,,2][D2B,2d2F2D,2D,,2G2D2B,2F2C2A,2E,2B,,2F,,2G,2G,,2] |\n",
    "[g2g2e2G,2G,,2g'2g2][f2f2c2F2C2A,2E,2B,,2F,,2G,2G,,2f'2f2] [e2C2A,2e2d2A2D,2D,,2E2C2A,2F2C2A,2E,2B,,2F,,2A,,2A,2e'2e2E2D,2E,2D,,2e2C,2]A,,A,,0[A,A,,] [F2C2A,2E,2B,,2F,,2A,2A,,2][D,2D,,2F2C2A,2E,2B,,2F,,2A,2A,,2] | [F2C2A,2E,2B,,2F,,2A,2A,,2][A,2A,,2] [D,2D,,2F2C2A,2E,2B,,2F,,2A,2A,,2][F2C2A,2E,2B,,2F,,2A,2A,,2] [F2C2A,2E,2B,,2F,,2A,2A,,2][D,2D,,2F2C2A,2E,2B,,2F,,2A,2A,,2] | [A,2A,,2][F2C2A,2E,2B,,2F,,2A,2A,,2] [d2B,2G,2d2a2d2D,2D,,2d2B,2G,2F2C2A,2E,2B,,2F,,2G,,2G,2d'2g2D2D,2d2]G,,G,,0[G,G,,] [F2C2A,2E,2B,,2F,,2G,2G,,2][D,2D,,2F2C2A,2E,2B,,2F,,2G,2G,,2] | [e2e2F2C2A,2E,2B,,2F,,2G,2G,,2e'2e2][f2f2G,2G,,2f'2f2] [e2C2A,2e2d2A2D,2D,,2e2C2A,2F2C2A,2E,2B,,2F,,2A,,2A,2e'2a2E2E,2e2][F0C0A,0E,0B,,0F,,0A,,0]<A,,0[A,A,,] [F2C2A,2E,2B,,2F,,2A,2A,,2][D,2D,,2F2C2A,2E,2B,,2F,,2A,2A,,2] |\n",
    "[A,2A,,2][F2C2A,2E,2B,,2F,,2A,2A,,2] [B,2G,2d2B,2G,2F2C2A,2E,2B,,2F,,2G,,2G,2f2D2D,2D,2D,,2]G,,G,,0[G,G,,] [d2d2F2C2A,2E,2B,,2F,,2G,2G,,2d'2d2][d2d2F2C2A,2E,2B,,2F,,2G,2G,,2d'2d2] | [e2e2F2C2A,2E,2B,,2F,,2G,2G,,2e'2e2][f2f2G,2G,,2f'2f2] [e2C2A,2e2e2C2A,2F2C2A,2E,2B,,2F,,2A,,2A,2e'2e2C2C,2e2][F0C0A,0E,0B,,0F,,0A,,0]<A,,0[A,A,,] [F2C2A,2E,2B,,2F,,2A,2A,,2][F2C2A,2E,2B,,2F,,2A,2A,,2] | [A,2A,,2][d2d2F2C2A,2E,2B,,2F,,2A,2A,,2d'2d2] [d2d2d2D2A,2F2C2A,2E,2B,,2F,,2D,2D2d'2d2D2D,2d2]D,0[DD,] [F2C2A,2E,2B,,2F,,2D2D,2][F2C2A,2E,2B,,2F,,2D2D,2] | [F2C2A,2E,2B,,2F,,2D2D,2][D2D,2] [F2C2A,2E,2B,,2F,,2D,2D2][F0C0A,0E,0B,,0F,,0]<D,0[DD,] [F2C2A,2E,2B,,2F,,2D2D,2][F2C2A,2E,2B,,2F,,2D2D,2] |\n",
    "[D2D,2][F2C2A,2E,2B,,2F,,2D2D,2] F,,24 B,,24 E,24 A,24 C24 F24 |\n",
    "'''\n",
    "\n",
    "\n",
    "\n",
    "music_abc = header + music_abc"
   ]
  },
  {
   "cell_type": "code",
   "execution_count": 15,
   "metadata": {},
   "outputs": [
    {
     "data": {
      "text/plain": [
       "\"\\n\\n[dD,]FddDd| [dDD,Ff]f [ddD]dB [d^Gd]B[A_C,] | [D2F2c2][F2D,2D,2]=c2 |\\n[ebE]c[_ge][d'4c4e4d'4d4G4 D4g4g4G4C4 |\\nG2 [e'4E4C,4e4] | [c'4B4]c2 d4 a4 |\\nd f4=e' [c'^AeE]bG | [D,E]cF[a']A[adf] | [a'GFC,]c'b[g'e']B,[dfGB,] | [Eeg][Bb'eeE]<[bFfFB,,,,]ed[aAB,,] [ga][a0G0b0] [d4D,,,,4] [a0e0B0]<G0 [^C0D0G0d0B,\\n\""
      ]
     },
     "execution_count": 15,
     "metadata": {},
     "output_type": "execute_result"
    }
   ],
   "source": [
    "music_abc = '''\n",
    "X: 1\n",
    "T: Cooley's\n",
    "M: 4/4\n",
    "R: reel\n",
    "K: Cmin\n",
    "[D2D,2F,2A,2]F2A23/2A/22B2D,2G,2B,2]B2|A2D,2F,2A,2]F2D2B,,2F,2A,2]F2A23/2A/22|G2B,,2D,2G,2]F2E4A,,4C,4E,4]D2A,,2D,2F,2]F2|A4D2F,,2B,,2D,2]3/2F/22E2G,,2B,,2D,2]D2|C2E,,2A,,2C,2]A,2D2A,,2D,2F,2]F2A23/2E/22|\n",
    "GA,,E,A,]GF2D16D,16F,16A,16]|D2D,2]F2F,2A,2]|A2F,2A,2]AB2D,2]B2G,2B,2]A2D,2]F2F,2A,2]|D2B,,2]F2D,2F,2]A2D,2F,2]AG2B,,2]F2D,2G,2]|\n",
    "E2A,,2]C,2E,2]D2D,2]F2F,2A,2]A2F,2A,2]|D2B,,2]D,2F,2]FE2G,,2]D2D,2G,2]C2A,,2]A,2C,2E,2]|D2D,2]F2F,2A,2]A2F,2A,2]EGA,,]GF2E,2A,2]|D,2D2]F,4A,4]F,2A,2]D,2F,4A,4]|\n",
    "F,2A,2]D2D,2F,2A,2]F2A23/2A/22|B2D,2G,2B,2]B2A2D,2F,2A,2]F2D2B,,2F,2A,2]F2|A23/2A/22G2B,,2D,2G,2]F2E4A,,4C,4E,4]|D2A,,2D,2F,2]F2A4D2F,,2B,,2D,2]3/2F/22|\n",
    "E2G,,2B,,2D,2]D2C2E,,2A,,2C,2]A,2D2A,,2D,2F,2]F2|A23/2E/22GA,,E,A[GF2D16D,16F,16A,16]\n",
    "'''\n",
    "\n",
    "'''\n",
    "\n",
    "[dD,]FddDd| [dDD,Ff]f [ddD]dB [d^Gd]B[A_C,] | [D2F2c2][F2D,2D,2]=c2 |\n",
    "[ebE]c[_ge][d'4c4e4d'4d4G4 D4g4g4G4C4 |\n",
    "G2 [e'4E4C,4e4] | [c'4B4]c2 d4 a4 |\n",
    "d f4=e' [c'^AeE]bG | [D,E]cF[a']A[adf] | [a'GFC,]c'b[g'e']B,[dfGB,] | [Eeg][Bb'eeE]<[bFfFB,,,,]ed[aAB,,] [ga][a0G0b0] [d4D,,,,4] [a0e0B0]<G0 [^C0D0G0d0B,\n",
    "'''"
   ]
  },
  {
   "cell_type": "markdown",
   "metadata": {},
   "source": [
    "- remove #\n",
    "- bracket linter\n",
    "- invalid: `[d4c'C4A,4C,4f4f4A4A,4,C4]`. no note in chord after number and closing `]`\n",
    "- after `[` cannot start with a number\n",
    "- syntax: http://abcnotation.com/wiki/abc:standard:v2.1"
   ]
  },
  {
   "cell_type": "code",
   "execution_count": 10,
   "metadata": {},
   "outputs": [
    {
     "name": "stdout",
     "output_type": "stream",
     "text": [
      "\n",
      "X: 1\n",
      "T:AbcRnn\n",
      "% abcRnn\n",
      "M:4/4\n",
      "K:Cmin\n",
      "FG,D][ADd][^cc][C,,_E,,^c][cE] [C2^D2a2A2D,2f2][D,,D,DE,,][EGA,]^F,, | [G,^D,E,,]GE[^aD^D,DD,F][ACE,^E,] [G,,aA,f] [G,,E][DG]F[FA,DD][DG,][A,G,] [CD,,] F,[B,2E2e2][^F,GF,,G,][B,BC,,g][DB,,,AgD] | ^D3[c2C2E2C2G2][D,,C,,] A,, [D2G,2][cF,]B, C2[D2D2]C[C2G2]E [A,2F,2]G2 | [A,2^C2F2C,,2g2F2F,2^D2D2d2][C2F,2] [A,c]FA[G^F,,g]F | [G,Ec]F,[^F,,2C2] [D2G2][A,2D2] F,,2[C2G2] | [c4D,4] A[A,,2c2] | G,,2F,,2 F,,2[G,2E2] | [_BC,d] F4 [E2G,2][D2G2] [F^FB,,A,]G2 F,F,,2C |\n",
      "[E,2A2E2] F,,2E,,2 [^F,,2^F,2]B,,2 [A,2D2B,,2D2B2F,,2B2]B2 [F,4E,,4] c4 | [G,,2B2][B2d2] [^F,,2c2]B2 [G2B2c2][E,2F2] |\n",
      "[d2^F2B,,2c2F2d2B2]f2 [B,,,4B,,,4] [^F,B,GdfDF] B,2B,2 [_eeBFGB,]< [CEB,,,] cee |Be2 G< [BE] [C,,C,,dg] B2 ^C,2GF,2g C,, f2 [d15B,,,15]CG,,,8 | [G4B4A,4B4C,,4]>B,4 B4 F4 F4 | c2c2 [B,D,]d2 f4 | [F2c2D2F,,2]d2 [F2D2D2d2]c2 G,,4 | d4 B4 [B2B,2G2^D2D,2d2]e2 | [EgF,F,,] egF5 [G,B,EgG]BFA a [aFG,G,]af13 |g5 f3 |\n",
      "f6df4 |B2 [F2B,2D,2]>G2 | [BG,D,]AB2 [B,G,B,]G D,D2B [B3D3F,3]G3 |D3 D3F2D | [F2G,2]F2 [F2A,2]GF [AFdC,]eG2 |\n",
      "[D4\n"
     ]
    }
   ],
   "source": [
    "print(music_abc)"
   ]
  },
  {
   "cell_type": "code",
   "execution_count": 11,
   "metadata": {
    "collapsed": true,
    "scrolled": false
   },
   "outputs": [],
   "source": [
    "from music21 import *\n",
    "abcScore = converter.parse(music_abc, format='abc')\n",
    "mf = midi.translate.streamToMidiFile(abcScore)\n",
    "mf.open('./midi_epoch20-03.mid', 'wb')\n",
    "mf.write()\n",
    "mf.close()"
   ]
  },
  {
   "cell_type": "code",
   "execution_count": null,
   "metadata": {
    "collapsed": true
   },
   "outputs": [],
   "source": []
  },
  {
   "cell_type": "code",
   "execution_count": null,
   "metadata": {
    "collapsed": true
   },
   "outputs": [],
   "source": []
  }
 ],
 "metadata": {
  "kernelspec": {
   "display_name": "Python (cs478project)",
   "language": "python",
   "name": "cs478project"
  },
  "language_info": {
   "codemirror_mode": {
    "name": "ipython",
    "version": 3
   },
   "file_extension": ".py",
   "mimetype": "text/x-python",
   "name": "python",
   "nbconvert_exporter": "python",
   "pygments_lexer": "ipython3",
   "version": "3.6.7"
  }
 },
 "nbformat": 4,
 "nbformat_minor": 2
}
