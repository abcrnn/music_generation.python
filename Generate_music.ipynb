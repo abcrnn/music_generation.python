{
 "cells": [
  {
   "cell_type": "markdown",
   "metadata": {},
   "source": []
  },
  {
   "cell_type": "code",
   "execution_count": 1,
   "metadata": {
    "collapsed": true
   },
   "outputs": [],
   "source": [
    "import os\n",
    "import json\n",
    "import numpy as np\n",
    "import pandas as pd\n",
    "import matplotlib.pyplot as plt\n",
    "import sys\n",
    "# Some more magic so that the notebook will reload external python modules;\n",
    "# see http://stackoverflow.com/questions/1907993/autoreload-of-modules-in-ipython\n",
    "%load_ext autoreload\n",
    "%autoreload 2"
   ]
  },
  {
   "cell_type": "code",
   "execution_count": 2,
   "metadata": {
    "collapsed": true
   },
   "outputs": [],
   "source": [
    "BATCH_SIZE = 16\n",
    "N_GRAM = 64\n",
    "# MODEL_DIR = './music_model/04_21_19_LayersGeneric_transfer_256_128_classical_cleaned_small_batchsize20_window30/'\n",
    "# MODEL_DIR = './music_model/04_24_19_LSTMSkipConnection_classical_small_drop45_128_256_128_batchsize20_window30/'\n",
    "# MODEL_DIR = './music_model/LSTMSkipConnection_many2many_128_256_128_layers_lstm/'\n",
    "MODEL_DIR = './music_model/04_25_19_LSTMSkipConnection_jig_horn_drop25_dropbeteween_regularization_128_256_128_batchsize20_window30_adam_decay1e-6_reg0.005_01lrate/'\n",
    "# MODEL_DIR = './music_model/04_20_19_LayersRNNGeneric_256_128_classical_fixed_activation_batchsize8000/'\n",
    "# MODEL_DIR = './music_model/04_20_19_LayersRNNGeneric_256_128_jig_hog_fixed_activation_batchsize16/'#good model\n",
    "DATA_PATH = './data/jig_hornpipes_cleaned.txt'\n",
    "DATA_PATH = './data/classical_music_midi/processed_clean_abc_small.txt'\n",
    "MODEL_TYPE = 'Default'#unuse for now\n",
    "BATCH_SIZE = 1\n",
    "starting = '''B4 d4 [G4B,4] | [B4D4] [D4B,4G,4] [G4B,4D4] | [D,4B,,4G,4] [G,4D,4B,4]'''\n",
    "SEQ_LENGTH = 30"
   ]
  },
  {
   "cell_type": "code",
   "execution_count": 3,
   "metadata": {},
   "outputs": [
    {
     "data": {
      "text/plain": [
       "30"
      ]
     },
     "execution_count": 3,
     "metadata": {},
     "output_type": "execute_result"
    }
   ],
   "source": [
    "SEQ_LENGTH"
   ]
  },
  {
   "cell_type": "code",
   "execution_count": 4,
   "metadata": {},
   "outputs": [
    {
     "name": "stdout",
     "output_type": "stream",
     "text": [
      "n_vocab 34\n"
     ]
    }
   ],
   "source": [
    "with open(os.path.join(MODEL_DIR, 'model_dictionary.json')) as f:\n",
    "    vocab_map = json.load(f)\n",
    "\n",
    "n_vocab = len(vocab_map['idx2char'])\n",
    "\n",
    "print('n_vocab', n_vocab)"
   ]
  },
  {
   "cell_type": "code",
   "execution_count": 5,
   "metadata": {
    "scrolled": false
   },
   "outputs": [
    {
     "name": "stderr",
     "output_type": "stream",
     "text": [
      "Using TensorFlow backend.\n"
     ]
    },
    {
     "name": "stdout",
     "output_type": "stream",
     "text": [
      "__________________________________________________________________________________________________\n",
      "Layer (type)                    Output Shape         Param #     Connected to                     \n",
      "==================================================================================================\n",
      "input (InputLayer)              (1, 30)              0                                            \n",
      "__________________________________________________________________________________________________\n",
      "embedding (Embedding)           (1, 30, 256)         8704        input[0][0]                      \n",
      "__________________________________________________________________________________________________\n",
      "drop_layer1 (Dropout)           (1, 30, 256)         0           embedding[0][0]                  \n",
      "__________________________________________________________________________________________________\n",
      "lstm_layer0 (LSTM)              (1, 30, 128)         197120      drop_layer1[0][0]                \n",
      "__________________________________________________________________________________________________\n",
      "lstm_layer1 (LSTM)              (1, 30, 256)         394240      lstm_layer0[0][0]                \n",
      "__________________________________________________________________________________________________\n",
      "lstm_layer2 (LSTM)              (1, 30, 128)         197120      lstm_layer1[0][0]                \n",
      "__________________________________________________________________________________________________\n",
      "rnn_concat (Concatenate)        (1, 30, 768)         0           embedding[0][0]                  \n",
      "                                                                 lstm_layer0[0][0]                \n",
      "                                                                 lstm_layer1[0][0]                \n",
      "                                                                 lstm_layer2[0][0]                \n",
      "__________________________________________________________________________________________________\n",
      "time_distributed_1 (TimeDistrib (1, 30, 34)          26146       rnn_concat[0][0]                 \n",
      "==================================================================================================\n",
      "Total params: 823,330\n",
      "Trainable params: 823,330\n",
      "Non-trainable params: 0\n",
      "__________________________________________________________________________________________________\n",
      "\n",
      " None\n"
     ]
    }
   ],
   "source": [
    "from src.models import MusicModel\n",
    "# model = MusicModel(n_vocab).TwoLayerLSTM(batch_input_shape=(BATCH_SIZE, 1))\n",
    "# model = MusicModel(n_vocab).TwoLayerLSTM(batch_input_shape=(BATCH_SIZE, SEQ_LENGTH))\n",
    "\n",
    "# model = MusicModel(n_vocab, 'test').LayersRNNGeneric(batch_input_shape=(BATCH_SIZE, SEQ_LENGTH),\n",
    "#                                             layers=['lstm', 'lstm'], \n",
    "#                                              layers_size=[256, 128],\n",
    "#                                              emb_dim=512,\n",
    "#                                              drop_rate=0.15)\n",
    "# model = MusicModel(n_vocab, phase='test').BidirectionalLayersRNNGeneric(batch_input_shape=(BATCH_SIZE, SEQ_LENGTH),\n",
    "#                                                     layers=['lstm','lstm'], \n",
    "#                                                      emb_dim=256,\n",
    "#                                                      layers_size=[256, 128], drop_rate=0.6)\n",
    "\n",
    "model = MusicModel(n_vocab).LSTMSkipConnection(batch_input_shape=(BATCH_SIZE, SEQ_LENGTH),\n",
    "#                                                                 layers=[128, 256, 128],\n",
    "                                                               layers = [128,256,128],\n",
    "                                                                emb_dim=256,drop_emb=0.15,\n",
    "                                                               drop_rate=0.10)\n",
    "\n",
    "# model = MusicModel(n_vocab, phase='test').ResidualLSTM(batch_input_shape=(BATCH_SIZE, SEQ_LENGTH),\n",
    "#                                         rnn_width=128,\n",
    "#                                         rnn_depth=5,\n",
    "#                                         drop_rate=0.15)\n",
    "\n",
    "# model = MusicModel(n_vocab).LSTMSkipConnectionDropBetween(batch_input_shape=(BATCH_SIZE, SEQ_LENGTH),\n",
    "#             layers=[256, 256], \n",
    "#             emb_dim=356, drop_rate=0.15)\n",
    "    \n",
    "# model = MusicModel(n_vocab).LSTMSkipConnection(batch_input_shape=(BATCH_SIZE, SEQ_LENGTH),\n",
    "#                     layers=[128, 256, 128],\n",
    "# #                     layers = [256],\n",
    "#                     emb_dim=256,drop_rate=0.45)\n",
    "print('\\n',model.summary())\n"
   ]
  },
  {
   "cell_type": "code",
   "execution_count": 6,
   "metadata": {
    "collapsed": true
   },
   "outputs": [],
   "source": [
    "from keras.utils import plot_model\n",
    "plot_model(model, to_file='test.png')"
   ]
  },
  {
   "cell_type": "code",
   "execution_count": 6,
   "metadata": {
    "collapsed": true,
    "scrolled": false
   },
   "outputs": [],
   "source": [
    "model.load_weights(MODEL_DIR+'/model_weight/'+\"Weights_{}.h5\".format(120)) #by_name=True"
   ]
  },
  {
   "cell_type": "code",
   "execution_count": 7,
   "metadata": {},
   "outputs": [
    {
     "data": {
      "text/plain": [
       "{'0': 'A',\n",
       " '1': '3',\n",
       " '2': '<',\n",
       " '3': '7',\n",
       " '4': 'a',\n",
       " '5': 'D',\n",
       " '6': '|',\n",
       " '7': '1',\n",
       " '8': '^',\n",
       " '9': 'd',\n",
       " '10': ']',\n",
       " '11': '[',\n",
       " '12': ',',\n",
       " '13': '\\n',\n",
       " '14': '9',\n",
       " '15': '>',\n",
       " '16': 'F',\n",
       " '17': 'C',\n",
       " '18': '8',\n",
       " '19': '\\\\',\n",
       " '20': 'e',\n",
       " '21': 'f',\n",
       " '22': 'b',\n",
       " '23': 'G',\n",
       " '24': '6',\n",
       " '25': 'g',\n",
       " '26': 'c',\n",
       " '27': 'B',\n",
       " '28': '2',\n",
       " '29': '4',\n",
       " '30': '_',\n",
       " '31': 'E',\n",
       " '32': ' ',\n",
       " '33': '5'}"
      ]
     },
     "metadata": {},
     "output_type": "display_data"
    }
   ],
   "source": [
    "display(vocab_map['idx2char'])"
   ]
  },
  {
   "cell_type": "code",
   "execution_count": 8,
   "metadata": {
    "collapsed": true
   },
   "outputs": [],
   "source": [
    "\n",
    "\n",
    "def generate_sequence_seq_as_inp(model, vocab_map, seq_length=300,starting='''\"D7\"A^GA DFA''', \n",
    "                                 return_heatmap=False, sequence_output=False):\n",
    "    '''\n",
    "    sampling given a seeding sequence. Constructing a many to one notes sampling. \n",
    "    Intuitively, this methods of sampling would result in better tunes as this same \\\n",
    "    methods is use during training times\n",
    "    '''\n",
    "    if return_heatmap: heat_map = np.zeros(shape=(2, 5+1, seq_length))# 1: idx, 2: is the probility of that index\n",
    "    sequence_index = [int(vocab_map['char2idx'][c]) for c in starting]\n",
    "    seq_len = len(starting)\n",
    "    n_vocab = len(vocab_map['idx2char'])\n",
    "    prev = None\n",
    "    for i in range(seq_length-seq_len):\n",
    "        batch = np.zeros((1, seq_len))\n",
    "        batch[0] = sequence_index[-seq_len:]\n",
    "        \n",
    "        if sequence_output: predicted_probs = model.predict_on_batch(batch)[0,-1, :]#.ravel()\n",
    "        else: predicted_probs = model.predict_on_batch(batch).ravel()\n",
    "        sample = np.random.choice(range(n_vocab), size = 1, p = predicted_probs)[0]\n",
    "        \n",
    "        if return_heatmap:\n",
    "            heat_map[0,0,i] = sample\n",
    "            heat_map[1,0,i] = predicted_probs[sample]\n",
    "            heat_map[0,1:,i] = sorted_idx = np.argsort(predicted_probs)[-5:][::-1].astype(int)#reversed\n",
    "            heat_map[1,1:,i] = predicted_probs[sorted_idx]\n",
    "            \n",
    "        char_note = vocab_map['idx2char'][str(sample)]\n",
    "        if char_note == prev == '\\n': continue\n",
    "        sequence_index.append(sample)\n",
    "        prev = char_note\n",
    "    str_seq = seq = ''.join(vocab_map['idx2char'][str(c)] for c in sequence_index)\n",
    "    \n",
    "    str_seq = starting + str_seq\n",
    "    #postprocessing here\n",
    "    if return_heatmap:\n",
    "        return str_seq, heat_map\n",
    "    else: return str_seq\n",
    "    \n",
    "def generate_sequence(model, vocab_map, initial_index=0, seq_length=300, return_heatmap=False):\n",
    "    \n",
    "    if return_heatmap: heat_map = np.zeros(shape=(2, 5+1, seq_length))# 1: idx, 2: is the probility of that index\n",
    "    \n",
    "    \n",
    "    sequence_index = [initial_index]\n",
    "    n_vocab = len(vocab_map['idx2char'])\n",
    "    prev_note = '\\n'\n",
    "    stop_note = ['\\n', '%', ']', '[', ' ']\n",
    "    for i in range(seq_length):\n",
    "        batch = np.zeros((1, 1))\n",
    "        batch[0, 0] = sequence_index[-1]#slice out the last element\n",
    "        predicted_probs = model.predict_on_batch(batch)[-1].ravel()\n",
    "\n",
    "        \n",
    "        sample = np.random.choice(range(n_vocab), size = 1, p = predicted_probs)[0]\n",
    "        if return_heatmap:\n",
    "            heat_map[0,0,i] = sample\n",
    "            heat_map[1,0,i] = predicted_probs[sample]\n",
    "            heat_map[0,1:,i] = sorted_idx = np.argsort(predicted_probs)[-5:][::-1].astype(int)#reversed\n",
    "            heat_map[1,1:,i] = predicted_probs[sorted_idx]\n",
    "\n",
    "        char_note = vocab_map['idx2char'][str(sample)]\n",
    "        \n",
    "        if char_note is '\\n': continue\n",
    "        sequence_index.append(sample) \n",
    "    \n",
    "    str_seq = seq = ''.join(vocab_map['idx2char'][str(c)] for c in sequence_index)\n",
    "    \n",
    "    #postprocessing here\n",
    "    if return_heatmap:\n",
    "        return str_seq, heat_map\n",
    "    else: return str_seq\n",
    "    "
   ]
  },
  {
   "cell_type": "markdown",
   "metadata": {},
   "source": [
    "Example of a correct formating tunes notated in abc notation\n",
    "```txt\n",
    "A, G^GF|\"D\"DFF \"A7\"ecA|\"A\"A2e ecA|\"Bm\"e2d \"B7\"d2f|\"A\"eed cea|\"D\"agd \"D\"F2:|\n",
    "P:B\n",
    "c/2G/2|\"D\"E^FE a2A|\"A/f+\"c2^c \"G\"B2d|\"D\"def aed|\"C\"e2e cAG|\"Em\"B2A GBc|\"D\"F3 A3|\n",
    "\"G\"B2B B2||\n",
    "\n",
    "\n",
    "d/2e/2|\"F7\"fed \"A7\"c3|\"Am\"EcA \"A7\"GGA|\n",
    "\"G\"BcB \"C7\"e2e|\"Bm\"ded def|\"G\"d3 \"D7\"FAF|\n",
    "\"D\"a2a f2e|\"A7\"BcA AB,|\"D7\"D2, D2:|\n",
    "P:B\n",
    "g|\"D\"\n",
    "```"
   ]
  },
  {
   "cell_type": "markdown",
   "metadata": {},
   "source": [
    "### Sampling tunes using Many to one asccii character modeling"
   ]
  },
  {
   "cell_type": "code",
   "execution_count": 16,
   "metadata": {},
   "outputs": [
    {
     "name": "stdout",
     "output_type": "stream",
     "text": [
      "starting seed:\n",
      " [A2F,2]dc [B2D2]A2 | [G2E,2]gf\n"
     ]
    }
   ],
   "source": [
    "\n",
    "\n",
    "def get_data_info(data, save_path=None):\n",
    "    #mapping character to index\n",
    "    vocab_map = {}\n",
    "    chars = list(set(data))\n",
    "    vocab_map['char2idx'] = {ch: i for (i, ch) in enumerate(chars)}\n",
    "    vocab_map['idx2char'] = {i: ch for (i, ch) in enumerate(chars)}\n",
    "    print(\"Number of unique characters in our whole tunes database = {}\".format(len(vocab_map['char2idx']))) #87\n",
    "    \n",
    "    if save_path:\n",
    "        with open(save_path, mode = \"w+\") as f:\n",
    "            json.dump(vocab_map, f)\n",
    "        \n",
    "    n_vocab = len(vocab_map['char2idx'])\n",
    "    return vocab_map\n",
    "\n",
    "def get_train_val(data, train_frac=0.8):\n",
    "    '''\n",
    "    -data: np array of shape (N,) each cell in arrary\n",
    "    represent the character in idx\n",
    "    '''\n",
    "    n_train = int(len(data) * train_frac)\n",
    "    X_train, X_val = data[:n_train], data[n_train:len(data)]\n",
    "    return X_train, X_val\n",
    "\n",
    "file = open(DATA_PATH, mode = 'r')\n",
    "data = file.read()\n",
    "file.close()\n",
    "\n",
    "\n",
    "X_train, X_val = get_train_val(data)\n",
    "\n",
    "import random\n",
    "initial_index = np.random.randint(0, len(X_val)-SEQ_LENGTH, size=(1,))[0]\n",
    "starting = X_val[initial_index:initial_index+SEQ_LENGTH]\n",
    "\n",
    "print('starting seed:\\n', starting)"
   ]
  },
  {
   "cell_type": "code",
   "execution_count": 17,
   "metadata": {},
   "outputs": [
    {
     "name": "stdout",
     "output_type": "stream",
     "text": [
      "[A2F,2]dc [B2D2]A2 | [G2E,2]gf[A2F,2]dc [B2D2]A2 | [G2E,2]gf eFCD2 g2D2 | [e2^C2]B,[f2A,2] ^c[B2^G,2][EG^F,] [A2F2][B2G,2] | [c2A2A,2]e2 [f2A,2]f2 a2g2 | [f2D2]g2 [a2^F2D,2]g2 [f2A,2]_e2 | d2c2 [d2A2F2A,2]d2 [e2C2]_b2 | [f2A2A,2]g2 [f2E,2]C,2 [e2^c,,2]f2 | [f2A,,2]e2 [d2E,,2]G,,2 B,,2A,,2 | [e2G,,2]^F,,2 [C2E,2^C,2]>B,,2 | [A2C,2A,,2]>D,2 [B2d2B,2G,2][^c2E,2] [d2B2D,2][B2^C,2]F2[B2G,2] cB[c2A,2] |D,[^C2A,2]A,2B2D2G,2 |A,2D2[g2E2][D2F,2]C2B2A,8 | D2E2[B2D2][E2C2][^C2F2] |\n",
      "B2C2D2[c2E,2] B,C[B2G,2]e | [AF,]ED[^cE,] AGF[BG,] [fA,][g2B,2]a[eC] gae[dB,] | [^cA,][cB,][dA,][^cA,] [AFF,][BG][AF,][^cE,] [FD,][EE,][FD,][GE,] | [FD,][\n"
     ]
    }
   ],
   "source": [
    "music_abc, heatmap = generate_sequence_seq_as_inp(model, vocab_map, seq_length=600,starting=starting, \n",
    "                                                  return_heatmap=True, sequence_output=True)\n",
    "print(music_abc)"
   ]
  },
  {
   "cell_type": "markdown",
   "metadata": {},
   "source": [
    "### Sampling tunes using one to one ASCII character modeling"
   ]
  },
  {
   "cell_type": "code",
   "execution_count": 11,
   "metadata": {
    "scrolled": false
   },
   "outputs": [
    {
     "name": "stdout",
     "output_type": "stream",
     "text": [
      "e298G5gFdDa1D]<]5bfBA3E|FCbAa81D9><A\\375e]786e^bb\\G,b|E> ^|]f,C<G]3[ <f2ca1F C7E8E15b_74\\,c]2D_7F\\^,e5eAG<>9e 27,7CBeF4462EF66cAAd]9F\\d ]d92F6F431a_d[CD6e1 6BgF6]egAf5\\Ca^e,G5\\5B7D3b9]7d6[eb^F3b1D^a9f]f[\\96e\\4g>B,9]<d6\\>_2b34^8E49B,e,^gd\\<7<a99_1_B a8^g2G BaAG G^_DdB]B27g279\\d[ ,<3Dc[>5dg^4Ac\n"
     ]
    }
   ],
   "source": [
    "import random\n",
    "initial_index = np.random.randint(0, n_vocab, size=(1,))[0]\n",
    "music_abc, heatmap = generate_sequence(model, vocab_map, initial_index=initial_index, seq_length=300, return_heatmap=True)\n",
    "# /**/\n",
    "print(music_abc)"
   ]
  },
  {
   "cell_type": "markdown",
   "metadata": {},
   "source": [
    "### Added headers to the tunes.(Reguired)"
   ]
  },
  {
   "cell_type": "code",
   "execution_count": 18,
   "metadata": {
    "collapsed": true
   },
   "outputs": [],
   "source": [
    "#header info: http://trillian.mit.edu/~jc/music/abc/doc/ABCtut_Headers.html#I_Key\n",
    "header = '''\n",
    "X: 1\n",
    "T:AbcRnn\n",
    "% abcRnn\n",
    "M:4/4\n",
    "K:Cmin\n",
    "'''\n",
    "music_abc = header + music_abc"
   ]
  },
  {
   "cell_type": "code",
   "execution_count": 21,
   "metadata": {},
   "outputs": [],
   "source": [
    "music_abc = '''\n",
    "X: 1\n",
    "T:AbcRnn\n",
    "% abcRnn\n",
    "M:4/4\n",
    "K:Cmin\n",
    "[A2F,2]dc [B2D2]A2 | [G2E,2]gf[A2F,2]dc [B2D2]A2 | \n",
    "[G2E,2]gf eFCD2 g2D2 | [e2^C2]B,[f2A,2] ^c[B2^G,2][EG^F,] [A2F2][B2G,2] | \n",
    "[c2A2A,2]e2 [f2A,2]f2 a2g2 | [f2D2]g2 [a2^F2D,2]g2 [f2A,2]_e2 | d2c2 [d2A2F2A,2]d2 [e2C2]_b2 | \n",
    "[f2A2A,2]g2 [f2E,2]C,2 [e2^c,,2]f2 | [f2A,,2]e2 [d2E,,2]G,,2 B,,2A,,2 | [e2G,,2]^F,,2 [C2E,2^C,2]>B,,2 | \n",
    "[A2C,2A,,2]>D,2 [B2d2B,2G,2][^c2E,2] [d2B2D,2][B2^C,2]F2[B2G,2] cB[c2A,2] |D,[^C2A,2]A,2B2D2G,2 \n",
    "|A,2D2[g2E2][D2F,2]C2B2A,8 | \n",
    "D2E2[B2D2][E2C2][^C2F2] |B2C2D2[c2E,2] B,C[B2G,2]e | [AF,]ED[^cE,] AGF[BG,] [fA,][g2B,2]a[eC] gae[dB,] | \n",
    "[^cA,][cB,][dA,][^cA,] [AFF,][BG][AF,][^cE,] [FD,][EE,][FD,][GE,] | [FD,]\n",
    "'''"
   ]
  },
  {
   "cell_type": "markdown",
   "metadata": {},
   "source": [
    "### Some syntax model still failt to learn(TODO: POST PROCESSING)\n",
    "- remove #\n",
    "- bracket linter\n",
    "- invalid: `[d4c'C4A,4C,4f4f4A4A,4,C4]`. no note in chord after number and closing `]`\n",
    "- after `[` cannot start with a number\n",
    "- syntax: http://abcnotation.com/wiki/abc:standard:v2.1"
   ]
  },
  {
   "cell_type": "markdown",
   "metadata": {},
   "source": [
    "### Analyze model prediction/ Debuging"
   ]
  },
  {
   "cell_type": "code",
   "execution_count": 16,
   "metadata": {},
   "outputs": [
    {
     "data": {
      "text/plain": [
       "<matplotlib.axes._subplots.AxesSubplot at 0x2b23d56227b8>"
      ]
     },
     "execution_count": 16,
     "metadata": {},
     "output_type": "execute_result"
    },
    {
     "data": {
      "image/png": "[encoded data removed]",
      "text/plain": [
       "<Figure size 720x1440 with 1 Axes>"
      ]
     },
     "metadata": {
      "image/png": {
       "height": 1120,
       "width": 600
      },
      "needs_background": "light"
     },
     "output_type": "display_data"
    }
   ],
   "source": [
    "import pandas as pd\n",
    "from collections import Counter\n",
    "a = sorted(list(music_abc))\n",
    "letter_counts = Counter(a)\n",
    "df = pd.DataFrame.from_dict(letter_counts, orient='index')\n",
    "df.plot(kind='bar', figsize=(10,20))"
   ]
  },
  {
   "cell_type": "code",
   "execution_count": 13,
   "metadata": {
    "collapsed": true
   },
   "outputs": [],
   "source": [
    "def idx_to_char(idx):\n",
    "    return vocab_map['idx2char'][str(int(idx))]\n",
    "\n",
    "vfunc = np.vectorize(idx_to_char)\n",
    "text_map= vfunc(heatmap[0,:,0:100])"
   ]
  },
  {
   "cell_type": "code",
   "execution_count": 29,
   "metadata": {},
   "outputs": [
    {
     "data": {
      "text/plain": [
       "array([[ 0.02958182,  0.8131507 ,  0.10241242,  0.24784282],\n",
       "       [ 0.2033774 ,  0.8131507 ,  0.24275403,  0.35871959],\n",
       "       [ 0.18712522,  0.04095986,  0.10241242,  0.24784282],\n",
       "       [ 0.09096339,  0.02403539,  0.08286086,  0.11091366]])"
      ]
     },
     "execution_count": 29,
     "metadata": {},
     "output_type": "execute_result"
    }
   ],
   "source": [
    "heatmap[1,:,0:1000][:4,:4]"
   ]
  },
  {
   "cell_type": "markdown",
   "metadata": {},
   "source": [
    "#### Generate heat map of model character prediction"
   ]
  },
  {
   "cell_type": "code",
   "execution_count": 14,
   "metadata": {},
   "outputs": [
    {
     "name": "stderr",
     "output_type": "stream",
     "text": [
      "/home/cseos2g/datduyn/.conda/envs/cs478project/lib/python3.6/site-packages/matplotlib/tight_layout.py:176: UserWarning: Tight layout not applied. The left and right margins cannot be made large enough to accommodate all axes decorations. \n",
      "  warnings.warn('Tight layout not applied. The left and right margins '\n"
     ]
    },
    {
     "data": {
      "image/png": "[encoded data removed]",
      "text/plain": [
       "<Figure size 432x288 with 2 Axes>"
      ]
     },
     "metadata": {
      "needs_background": "light"
     },
     "output_type": "display_data"
    }
   ],
   "source": [
    "#https://matplotlib.org/gallery/images_contours_and_fields/image_annotated_heatmap.html\n",
    "fig, ax = plt.subplots()\n",
    "im = ax.imshow(heatmap[1,:,0:30])\n",
    "\n",
    "# Loop over data dimensions and create text annotations.\n",
    "for i in range(len(text_map)):\n",
    "    for j in range(len(text_map[0])):\n",
    "        text = ax.text(j, i, text_map[i, j],\n",
    "                       ha=\"center\", va=\"center\", color=\"w\")\n",
    "# fig.colorbar(ax)\n",
    "fig.colorbar(im,ax=ax)\n",
    "fig.tight_layout()"
   ]
  },
  {
   "cell_type": "code",
   "execution_count": 154,
   "metadata": {},
   "outputs": [
    {
     "data": {
      "text/plain": [
       "array([[  5.98930180e-01,   6.99655414e-01,   9.98980939e-01,\n",
       "          6.74393117e-01,   4.61797208e-01,   2.62753487e-01,\n",
       "          7.37917781e-01,   9.84767139e-01,   2.62753487e-01,\n",
       "          8.93393159e-01],\n",
       "       [  9.20788348e-02,   2.06741422e-01,   2.28617093e-04,\n",
       "          1.20498024e-01,   2.19840884e-01,   1.96328655e-01,\n",
       "          2.03195214e-01,   4.51483112e-03,   1.96328655e-01,\n",
       "          2.31623147e-02],\n",
       "       [  5.88871650e-02,   3.22715864e-02,   1.66049082e-04,\n",
       "          5.39283492e-02,   1.18779249e-01,   1.88566580e-01,\n",
       "          2.05463115e-02,   3.28564504e-03,   1.88566580e-01,\n",
       "          1.42358653e-02],\n",
       "       [  5.53393178e-02,   3.03188227e-02,   9.80730038e-05,\n",
       "          2.70178188e-02,   9.04975384e-02,   7.19026774e-02,\n",
       "          1.64709259e-02,   2.77934317e-03,   7.19026774e-02,\n",
       "          1.26095721e-02],\n",
       "       [  3.86340655e-02,   1.29396087e-02,   9.12688774e-05,\n",
       "          1.58256814e-02,   3.36676463e-02,   6.42791986e-02,\n",
       "          1.52911050e-02,   2.75164819e-03,   6.42791986e-02,\n",
       "          1.14591857e-02]])"
      ]
     },
     "execution_count": 154,
     "metadata": {},
     "output_type": "execute_result"
    }
   ],
   "source": [
    "heat_map[1]"
   ]
  },
  {
   "cell_type": "markdown",
   "metadata": {},
   "source": [
    "### Convert abc notation to midi"
   ]
  },
  {
   "cell_type": "code",
   "execution_count": 22,
   "metadata": {
    "scrolled": false
   },
   "outputs": [],
   "source": [
    "from music21 import *\n",
    "abcScore = converter.parse(music_abc, format='abc')\n",
    "mf = midi.translate.streamToMidiFile(abcScore)\n",
    "mf.open('./midi_epoch20-03.mid', 'wb')\n",
    "mf.write()\n",
    "mf.close()"
   ]
  },
  {
   "cell_type": "code",
   "execution_count": null,
   "metadata": {
    "collapsed": true
   },
   "outputs": [],
   "source": []
  },
  {
   "cell_type": "markdown",
   "metadata": {
    "collapsed": true
   },
   "source": [
    "# Utility\n",
    "## Quick Abc to midi converter\n",
    "- http://www.mandolintab.net/abcconverter.php\n",
    "\n",
    "## midi 2 musicsheet converter\n",
    "- https://solmire.com/miditosheetmusic/\n",
    "\n",
    "## Major and Minor\n",
    "- https://www.youtube.com/watch?v=fKpUBsn_jmA\n",
    "- help create mood and atmossphere of music"
   ]
  },
  {
   "cell_type": "code",
   "execution_count": null,
   "metadata": {
    "collapsed": true
   },
   "outputs": [],
   "source": []
  }
 ],
 "metadata": {
  "kernelspec": {
   "display_name": "Python (cs478project)",
   "language": "python",
   "name": "cs478project"
  },
  "language_info": {
   "codemirror_mode": {
    "name": "ipython",
    "version": 3
   },
   "file_extension": ".py",
   "mimetype": "text/x-python",
   "name": "python",
   "nbconvert_exporter": "python",
   "pygments_lexer": "ipython3",
   "version": "3.6.7"
  }
 },
 "nbformat": 4,
 "nbformat_minor": 2
}
